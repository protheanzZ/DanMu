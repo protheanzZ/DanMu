{
 "cells": [
  {
   "cell_type": "code",
   "execution_count": 12,
   "metadata": {},
   "outputs": [],
   "source": [
    "import pandas as pd\n",
    "from matplotlib import pyplot as plt\n",
    "%matplotlib inline\n",
    "\n",
    "import time"
   ]
  },
  {
   "cell_type": "code",
   "execution_count": 22,
   "metadata": {},
   "outputs": [
    {
     "name": "stdout",
     "output_type": "stream",
     "text": [
      "0.2763063907623291\n"
     ]
    },
    {
     "data": {
      "text/html": [
       "<div>\n",
       "<style scoped>\n",
       "    .dataframe tbody tr th:only-of-type {\n",
       "        vertical-align: middle;\n",
       "    }\n",
       "\n",
       "    .dataframe tbody tr th {\n",
       "        vertical-align: top;\n",
       "    }\n",
       "\n",
       "    .dataframe thead th {\n",
       "        text-align: right;\n",
       "    }\n",
       "</style>\n",
       "<table border=\"1\" class=\"dataframe\">\n",
       "  <thead>\n",
       "    <tr style=\"text-align: right;\">\n",
       "      <th></th>\n",
       "      <th>ID</th>\n",
       "      <th>Fans_Icon_Name</th>\n",
       "      <th>Level</th>\n",
       "      <th>Content</th>\n",
       "    </tr>\n",
       "  </thead>\n",
       "  <tbody>\n",
       "    <tr>\n",
       "      <th>0</th>\n",
       "      <td>gaishaminghao</td>\n",
       "      <td>29</td>\n",
       "      <td>按摩师</td>\n",
       "      <td>心连心？</td>\n",
       "    </tr>\n",
       "    <tr>\n",
       "      <th>1</th>\n",
       "      <td>Akkyon</td>\n",
       "      <td>72</td>\n",
       "      <td>寅子</td>\n",
       "      <td>推推呢？？？</td>\n",
       "    </tr>\n",
       "    <tr>\n",
       "      <th>2</th>\n",
       "      <td>2233haha</td>\n",
       "      <td>11</td>\n",
       "      <td>无粉丝牌</td>\n",
       "      <td>决斗2打1</td>\n",
       "    </tr>\n",
       "    <tr>\n",
       "      <th>3</th>\n",
       "      <td>你屎临到头啦</td>\n",
       "      <td>8</td>\n",
       "      <td>小僵尸</td>\n",
       "      <td>这么吊</td>\n",
       "    </tr>\n",
       "    <tr>\n",
       "      <th>4</th>\n",
       "      <td>邢啵啵</td>\n",
       "      <td>16</td>\n",
       "      <td>口苗</td>\n",
       "      <td>配个doom  爆炸</td>\n",
       "    </tr>\n",
       "  </tbody>\n",
       "</table>\n",
       "</div>"
      ],
      "text/plain": [
       "              ID  Fans_Icon_Name Level     Content\n",
       "0  gaishaminghao              29   按摩师        心连心？\n",
       "1         Akkyon              72    寅子      推推呢？？？\n",
       "2       2233haha              11  无粉丝牌       决斗2打1\n",
       "3         你屎临到头啦               8   小僵尸         这么吊\n",
       "4            邢啵啵              16    口苗  配个doom  爆炸"
      ]
     },
     "execution_count": 22,
     "metadata": {},
     "output_type": "execute_result"
    }
   ],
   "source": [
    "s = time.time()\n",
    "df = pd.read_csv('./data_in_csv/yyfyyf-08-26.csv', names=['ID','Fans_Icon_Name','Level','Content'])\n",
    "df.head()\n",
    "print(time.time() - s)\n",
    "df.head()"
   ]
  },
  {
   "cell_type": "code",
   "execution_count": 28,
   "metadata": {},
   "outputs": [
    {
     "data": {
      "text/plain": [
       "无粉丝牌                134615\n",
       "小僵尸                 105980\n",
       "1                    22476\n",
       "16                   12823\n",
       "15                   12406\n",
       "13                   12252\n",
       "18                   12251\n",
       "5                    11546\n",
       "14                   11446\n",
       "20                   11440\n",
       "4                    11435\n",
       "17                   10967\n",
       "12                   10954\n",
       "8                    10736\n",
       "11                   10541\n",
       "6                    10410\n",
       "19                   10318\n",
       "7                     9957\n",
       "3                     9902\n",
       "10                    9842\n",
       "21                    9777\n",
       "9                     9724\n",
       "lgd 咚咚咚!              9199\n",
       "2                     8328\n",
       "22                    7399\n",
       "23                    6309\n",
       "25                    4315\n",
       "24                    4074\n",
       "26                    4009\n",
       "大马猴                   3170\n",
       "                     ...  \n",
       "休息去吧，别再播了，看的烦了           1\n",
       "都是两边最强阵容了要               1\n",
       "决赛BO几？吊大的说下              1\n",
       "别像dac了呀                  1\n",
       "这个盾为什么要打啊                1\n",
       "瞧不起fygod                 1\n",
       "ANA想和FY一换一               1\n",
       "主要是大招 开了之后视野蒙蔽           1\n",
       "这个大圣之前随便单杀苏美尔蓝猫啊         1\n",
       "傻子王悄咪咪刷起来                1\n",
       "这个操作                     1\n",
       "抢牛 才是关键                  1\n",
       "格年过垕                     1\n",
       "90236463                 1\n",
       "卡尔，斧王哎                   1\n",
       "ob后继有人                   1\n",
       "我擦擦你麻痹                   1\n",
       "白字弟中弟节奏狗卧槽               1\n",
       "这送的                      1\n",
       "别奶别奶稳住稳住                 1\n",
       "感觉要玩蓝猫                   1\n",
       "我有一个大大大宝24829            1\n",
       "讲道理经济领先不够多啊              1\n",
       "为什么选小鹿啊                  1\n",
       "与智者同性                    1\n",
       "LGD强无敌，温哥华插旗唱国歌          1\n",
       "laji                     1\n",
       "加油加油 不丢人了                1\n",
       "影法師hm773                 1\n",
       "小小没人选吗                   1\n",
       "Length: 242510, dtype: int64"
      ]
     },
     "execution_count": 28,
     "metadata": {},
     "output_type": "execute_result"
    }
   ],
   "source": [
    "df.stack().value_counts()"
   ]
  },
  {
   "cell_type": "code",
   "execution_count": 15,
   "metadata": {},
   "outputs": [
    {
     "name": "stdout",
     "output_type": "stream",
     "text": [
      "0.3860750198364258\n"
     ]
    }
   ],
   "source": [
    "s = time.time()\n",
    "df = open('./data_in_csv/yyfyyf-08-26.csv', encoding='utf-8')\n",
    "df = pd.read_csv(df, names=['ID','Fans_Icon_Name','Level','Content'])\n",
    "df.head()\n",
    "\n",
    "print(time.time() - s)"
   ]
  },
  {
   "cell_type": "code",
   "execution_count": 18,
   "metadata": {},
   "outputs": [
    {
     "name": "stdout",
     "output_type": "stream",
     "text": [
      "0.08177995681762695\n"
     ]
    }
   ],
   "source": [
    "s = time.time()\n",
    "df.to_hdf('test.h5', key='yyf', table=True)\n",
    "print(time.time() - s)"
   ]
  },
  {
   "cell_type": "code",
   "execution_count": 10,
   "metadata": {},
   "outputs": [
    {
     "name": "stdout",
     "output_type": "stream",
     "text": [
      "0.16164851188659668\n"
     ]
    }
   ],
   "source": [
    "s = time.time()\n",
    "pd.read_hdf('test.h5')\n",
    "print(time.time() - s)"
   ]
  },
  {
   "cell_type": "code",
   "execution_count": 17,
   "metadata": {},
   "outputs": [
    {
     "name": "stdout",
     "output_type": "stream",
     "text": [
      "0.3935422897338867\n"
     ]
    }
   ],
   "source": [
    "s = time.time()\n",
    "df.to_csv('test.csv')\n",
    "print(time.time() - s)"
   ]
  },
  {
   "cell_type": "code",
   "execution_count": 4,
   "metadata": {},
   "outputs": [
    {
     "name": "stdout",
     "output_type": "stream",
     "text": [
      "import pandas as pd\n",
      "from matplotlib import pyplot as plt\n",
      "%matplotlib inline\n",
      "df = open('./data_in_csv/龙弟弟-08-19.csv', encoding='utf-8')\n",
      "df = pd.read_csv(df, names=['ID','Fans_Icon_Name','Level','Content'])\n",
      "df.head()\n",
      "df = open('./data_in_csv/yyfyyf-08-19.csv', encoding='utf-8')\n",
      "df = pd.read_csv(df, names=['ID','Fans_Icon_Name','Level','Content'])\n",
      "df.head()\n",
      "%history\n"
     ]
    }
   ],
   "source": [
    "%history"
   ]
  },
  {
   "cell_type": "code",
   "execution_count": 38,
   "metadata": {},
   "outputs": [
    {
     "data": {
      "text/plain": [
       "count       70209\n",
       "unique      11281\n",
       "top       Pofei龙！\n",
       "freq          347\n",
       "Name: ID, dtype: object"
      ]
     },
     "execution_count": 38,
     "metadata": {},
     "output_type": "execute_result"
    }
   ],
   "source": [
    "df['ID'].describe()"
   ]
  },
  {
   "cell_type": "code",
   "execution_count": 41,
   "metadata": {},
   "outputs": [
    {
     "name": "stdout",
     "output_type": "stream",
     "text": [
      "<class 'pandas.core.frame.DataFrame'>\n",
      "RangeIndex: 70209 entries, 0 to 70208\n",
      "Data columns (total 4 columns):\n",
      "ID                70209 non-null object\n",
      "Fans_Icon_Name    70209 non-null object\n",
      "Level             70209 non-null int64\n",
      "Content           70209 non-null object\n",
      "dtypes: int64(1), object(3)\n",
      "memory usage: 2.1+ MB\n"
     ]
    }
   ],
   "source": [
    "df.info()"
   ]
  },
  {
   "cell_type": "code",
   "execution_count": 4,
   "metadata": {},
   "outputs": [
    {
     "data": {
      "text/plain": [
       "Index(['无粉丝牌', '怼怼', '楚河', '董导', '7911', '军师', '小乖', '爹神', '傻凉', '空伐',\n",
       "       ...\n",
       "       '傻三', '辉灰', '粉彬', 'Timi', '祺迹', '官官', '佬爹', '玥梦', '有钱', '梦醒'],\n",
       "      dtype='object', length=488)"
      ]
     },
     "execution_count": 4,
     "metadata": {},
     "output_type": "execute_result"
    }
   ],
   "source": [
    "duidui = df[df['Fans_Icon_Name'] == '怼怼']\n",
    "duidui['ID'].value_counts().shape\n",
    "df['Fans_Icon_Name'].value_counts().keys()"
   ]
  },
  {
   "cell_type": "code",
   "execution_count": 5,
   "metadata": {},
   "outputs": [
    {
     "data": {
      "text/plain": [
       "{'b': '321'}"
      ]
     },
     "execution_count": 5,
     "metadata": {},
     "output_type": "execute_result"
    }
   ],
   "source": [
    "a = {'a':123,'b':'321'}\n",
    "del a['a']\n",
    "a"
   ]
  },
  {
   "cell_type": "code",
   "execution_count": 6,
   "metadata": {},
   "outputs": [
    {
     "name": "stdout",
     "output_type": "stream",
     "text": [
      "2.5007264614105225\n"
     ]
    },
    {
     "data": {
      "text/plain": [
       "{'无粉丝牌': 7339,\n",
       " '怼怼': 3069,\n",
       " '楚河': 104,\n",
       " '董导': 71,\n",
       " '7911': 59,\n",
       " '军师': 56,\n",
       " '小乖': 46,\n",
       " '爹神': 19,\n",
       " '18cm': 10,\n",
       " '魂潍': 14,\n",
       " 'Aniu': 11,\n",
       " '帅狗': 15,\n",
       " '孤存': 11,\n",
       " 'Kaer': 18,\n",
       " 'Lf龙': 11,\n",
       " '狂人': 12,\n",
       " '其他（小于10）': 691}"
      ]
     },
     "execution_count": 6,
     "metadata": {},
     "output_type": "execute_result"
    }
   ],
   "source": [
    "import time\n",
    "s = time.time()\n",
    "\n",
    "import json\n",
    "\n",
    "paizi = df['Fans_Icon_Name'].value_counts().keys()\n",
    "icon_counts = {}\n",
    "for p in paizi:\n",
    "    p = p.strip()\n",
    "    t = df[df['Fans_Icon_Name'] == p]\n",
    "    icon_counts[p] = t['ID'].value_counts().shape[0]\n",
    "    \n",
    "icon_counts['其他（小于10）'] = 0\n",
    "waitfordel = []\n",
    "for key, val in icon_counts.items():\n",
    "    if val < 10:\n",
    "        icon_counts['其他（小于10）'] += val\n",
    "        waitfordel.append(key)\n",
    "for key in waitfordel:\n",
    "    del icon_counts[key]\n",
    "print(time.time()-s)\n",
    "icon_counts"
   ]
  },
  {
   "cell_type": "code",
   "execution_count": 7,
   "metadata": {},
   "outputs": [
    {
     "data": {
      "text/plain": [
       "{'其他（小于10）': 2438,\n",
       " '无粉丝牌': 38416,\n",
       " '怼怼': 27161,\n",
       " '楚河': 573,\n",
       " '董导': 368,\n",
       " '7911': 331,\n",
       " '军师': 302,\n",
       " '小乖': 121,\n",
       " '爹神': 105,\n",
       " '18cm': 63,\n",
       " '魂潍': 53,\n",
       " 'Aniu': 52,\n",
       " '帅狗': 38,\n",
       " '孤存': 36,\n",
       " 'Kaer': 30,\n",
       " 'Lf龙': 27,\n",
       " '狂人': 19}"
      ]
     },
     "execution_count": 7,
     "metadata": {},
     "output_type": "execute_result"
    }
   ],
   "source": [
    "icon_counts_more = {'其他（小于10）': 0}\n",
    "for p in paizi:\n",
    "    p = p.strip()\n",
    "    num = df[df['Fans_Icon_Name'] == p].shape[0]\n",
    "    if not p in icon_counts:\n",
    "        icon_counts_more['其他（小于10）'] += num\n",
    "    else:\n",
    "        icon_counts_more[p] = num\n",
    "icon_counts_more"
   ]
  },
  {
   "cell_type": "code",
   "execution_count": 8,
   "metadata": {},
   "outputs": [
    {
     "name": "stdout",
     "output_type": "stream",
     "text": [
      "无粉丝牌: 5.235\n",
      "怼怼: 8.850\n",
      "楚河: 5.510\n",
      "董导: 5.183\n",
      "7911: 5.610\n",
      "军师: 5.393\n",
      "小乖: 2.630\n",
      "爹神: 5.526\n",
      "18cm: 6.300\n",
      "魂潍: 3.786\n",
      "Aniu: 4.727\n",
      "帅狗: 2.533\n",
      "孤存: 3.273\n",
      "Kaer: 1.667\n",
      "Lf龙: 2.455\n",
      "狂人: 1.583\n",
      "其他（小于10）: 3.528\n"
     ]
    }
   ],
   "source": [
    "icon_counts = pd.Series(icon_counts)\n",
    "icon_counts_more = pd.Series(icon_counts_more)\n",
    "\n",
    "for key, val in icon_counts.items():\n",
    "    print('%s:' % key, '%5.3f' % (icon_counts_more[key] / icon_counts[key]))"
   ]
  },
  {
   "cell_type": "code",
   "execution_count": 9,
   "metadata": {},
   "outputs": [
    {
     "name": "stdout",
     "output_type": "stream",
     "text": [
      "mean: 8.850\n",
      "median: 3.000\n",
      "std: 17.119\n"
     ]
    },
    {
     "data": {
      "image/png": "[encoded data removed]",
      "text/plain": [
       "<Figure size 2160x864 with 1 Axes>"
      ]
     },
     "metadata": {},
     "output_type": "display_data"
    }
   ],
   "source": [
    "example = duidui['ID'].value_counts()\n",
    "fig, ax = plt.subplots(1,1, figsize=(30,12))\n",
    "axe = ax.violinplot(example, vert=False, showextrema=True, showmeans=True, showmedians=True,)\n",
    "print('mean: %5.3f' % example.mean())\n",
    "print('median: %5.3f' % example.median())\n",
    "print('std: %5.3f' % example.std())"
   ]
  },
  {
   "cell_type": "code",
   "execution_count": 10,
   "metadata": {},
   "outputs": [
    {
     "data": {
      "image/png": "[encoded data removed]",
      "text/plain": [
       "<Figure size 576x576 with 1 Axes>"
      ]
     },
     "metadata": {},
     "output_type": "display_data"
    }
   ],
   "source": [
    "fig, ax = plt.subplots(1, 1, figsize=(8,8))\n",
    "ax.hist(example, bins=50, range=(-1,50), density=True, histtype='barstacked')\n",
    "plt.show()"
   ]
  },
  {
   "cell_type": "code",
   "execution_count": 132,
   "metadata": {},
   "outputs": [
    {
     "data": {
      "image/png": "[encoded data removed]",
      "text/plain": [
       "<Figure size 1296x576 with 1 Axes>"
      ]
     },
     "metadata": {},
     "output_type": "display_data"
    }
   ],
   "source": [
    "import seaborn as sns\n",
    "\n",
    "fig, ax = plt.subplots(1,1,figsize=(18,8))\n",
    "p = sns.distplot(example, hist=False, bins=200, ax=ax)"
   ]
  },
  {
   "cell_type": "code",
   "execution_count": 142,
   "metadata": {},
   "outputs": [
    {
     "data": {
      "text/plain": [
       "傻凉      91\n",
       "空伐      90\n",
       "康娜      71\n",
       "波神      54\n",
       "0414    47\n",
       "巨丁      45\n",
       "爵孓      37\n",
       "why     36\n",
       "一号      35\n",
       "啊飞      32\n",
       "轩子      32\n",
       "ふ宇      31\n",
       "毣毣      31\n",
       "亞儿      28\n",
       "卡帝      27\n",
       "寒夜      27\n",
       "习习      27\n",
       "夏z      27\n",
       "哈尼      26\n",
       "黑店\\n    26\n",
       "阿驴      25\n",
       "谁神      25\n",
       "夜郎      25\n",
       "星痕\\n    24\n",
       "BQ怪     24\n",
       "丛林      24\n",
       "德军      22\n",
       "狗恺      22\n",
       "雏菊      19\n",
       "琪7      19\n",
       "        ..\n",
       "羞娘       1\n",
       "舟舟       1\n",
       "暖茄       1\n",
       "七攻       1\n",
       "祺迹       1\n",
       "逗雅       1\n",
       "蛋魔       1\n",
       "银魔       1\n",
       "守微       1\n",
       "子焱       1\n",
       "Suix     1\n",
       "Smg      1\n",
       "鳯九       1\n",
       "Ai七      1\n",
       "天zi      1\n",
       "老七       1\n",
       "色兔       1\n",
       "七彩       1\n",
       "画芯       1\n",
       "明訷       1\n",
       "辉灰       1\n",
       "尛沫       1\n",
       "嘉猪       1\n",
       "萌绿       1\n",
       "小姨       1\n",
       "童灿       1\n",
       "X皮       1\n",
       "金毛       1\n",
       "神猫       1\n",
       "星yu      1\n",
       "Name: Fans_Icon_Name, Length: 472, dtype: int64"
      ]
     },
     "execution_count": 142,
     "metadata": {},
     "output_type": "execute_result"
    }
   ],
   "source": [
    "d = df.copy()\n",
    "for key in icon_counts.keys():\n",
    "    d = d[d['Fans_Icon_Name'] != key]\n",
    "d['Fans_Icon_Name'].value_counts()"
   ]
  },
  {
   "cell_type": "code",
   "execution_count": 66,
   "metadata": {},
   "outputs": [
    {
     "data": {
      "text/plain": [
       "array([[-3.],\n",
       "       [-2.],\n",
       "       [-1.],\n",
       "       [ 0.],\n",
       "       [ 1.],\n",
       "       [ 2.],\n",
       "       [ 3.]])"
      ]
     },
     "execution_count": 66,
     "metadata": {},
     "output_type": "execute_result"
    }
   ],
   "source": [
    "a = np.linspace(-1.25, 1.25, 1250)\n",
    "a[:,] == a\n",
    "b[:, None]"
   ]
  },
  {
   "cell_type": "code",
   "execution_count": 4,
   "metadata": {},
   "outputs": [
    {
     "data": {
      "text/plain": [
       "array([[-6., -5., -4., -3., -2., -1.,  0.],\n",
       "       [-5., -4., -3., -2., -1.,  0.,  1.],\n",
       "       [-4., -3., -2., -1.,  0.,  1.,  2.],\n",
       "       [-3., -2., -1.,  0.,  1.,  2.,  3.],\n",
       "       [-2., -1.,  0.,  1.,  2.,  3.,  4.],\n",
       "       [-1.,  0.,  1.,  2.,  3.,  4.,  5.],\n",
       "       [ 0.,  1.,  2.,  3.,  4.,  5.,  6.]])"
      ]
     },
     "execution_count": 4,
     "metadata": {},
     "output_type": "execute_result"
    }
   ],
   "source": [
    "import numpy as np\n",
    "\n",
    "b = np.linspace(-3,3,7)\n",
    "b + b[:,None] * 1j\n",
    "b + b[:,None]"
   ]
  },
  {
   "cell_type": "code",
   "execution_count": 71,
   "metadata": {},
   "outputs": [
    {
     "data": {
      "text/plain": [
       "array([[-2., -1.,  0.,  1.],\n",
       "       [-1.,  0.,  1.,  2.],\n",
       "       [ 0.,  1.,  2.,  3.],\n",
       "       [ 1.,  2.,  3.,  4.],\n",
       "       [ 2.,  3.,  4.,  5.],\n",
       "       [ 3.,  4.,  5.,  6.],\n",
       "       [ 4.,  5.,  6.,  7.]])"
      ]
     },
     "execution_count": 71,
     "metadata": {},
     "output_type": "execute_result"
    }
   ],
   "source": [
    "b[:,None]+[1,2,3,4]"
   ]
  },
  {
   "cell_type": "code",
   "execution_count": 40,
   "metadata": {},
   "outputs": [
    {
     "name": "stderr",
     "output_type": "stream",
     "text": [
      "C:\\Users\\zw493\\Anaconda3\\lib\\site-packages\\ipykernel_launcher.py:7: DeprecationWarning: object of type <class 'float'> cannot be safely interpreted as an integer.\n",
      "  import sys\n",
      "C:\\Users\\zw493\\Anaconda3\\lib\\site-packages\\ipykernel_launcher.py:8: DeprecationWarning: object of type <class 'float'> cannot be safely interpreted as an integer.\n",
      "  \n"
     ]
    },
    {
     "name": "stdout",
     "output_type": "stream",
     "text": [
      "(1250, 1500)\n"
     ]
    },
    {
     "data": {
      "text/plain": [
       "(1250, 1500)"
      ]
     },
     "execution_count": 40,
     "metadata": {},
     "output_type": "execute_result"
    }
   ],
   "source": [
    "import numpy as np\n",
    "from matplotlib import pyplot as plt\n",
    "%matplotlib inline\n",
    "import sys\n",
    "\n",
    "def mandelbrot_set(xmin, xmax, ymin, ymax, xn, yn, maxiter, horizon=2.0):\n",
    "    X = np.linspace(xmin, xmax, xn).astype(np.float32)\n",
    "    Y = np.linspace(ymin, ymax, yn).astype(np.float32)\n",
    "    C = X + Y[:, None] * 1j\n",
    "    N = np.zeros_like(C, dtype=int)\n",
    "    Z = np.zeros_like(C)\n",
    "    print(Z.shape)\n",
    "    for n in range(maxiter):\n",
    "        I = np.less(abs(Z), horizon)\n",
    "        N[I] = n\n",
    "        Z[I] = Z[I]**2 + C[I]\n",
    "    N[N == maxiter-1] = 0\n",
    "    return Z, N\n",
    "\n",
    "xmin, xmax, xn = -2.25, +0.75, 3000/2\n",
    "ymin, ymax, yn = -1.25, +1.25, 2500/2\n",
    "maxiter = 200\n",
    "horizon = 2.0 ** 40\n",
    "log_horizon = np.log(np.log(horizon))/np.log(2)\n",
    "Z, N = mandelbrot_set(xmin, xmax, ymin, ymax, xn, yn, maxiter, horizon)\n",
    "Z.shape"
   ]
  },
  {
   "cell_type": "code",
   "execution_count": 41,
   "metadata": {},
   "outputs": [
    {
     "data": {
      "image/png": "[encoded data removed]",
      "text/plain": [
       "<Figure size 720x600 with 1 Axes>"
      ]
     },
     "metadata": {},
     "output_type": "display_data"
    }
   ],
   "source": [
    "with np.errstate(invalid='ignore'):\n",
    "    M = np.nan_to_num(N + 1 -\n",
    "                        np.log(np.log(abs(Z)))/np.log(2) +\n",
    "                        log_horizon)\n",
    "\n",
    "dpi = 72\n",
    "width = 10\n",
    "height = 10*yn/xn\n",
    "fig = plt.figure(figsize=(width, height), dpi=dpi)\n",
    "ax = fig.add_axes([0.0, 0.0, 1.0, 1.0], frameon=False, aspect=1)\n",
    "\n",
    "light = colors.LightSource(azdeg=315, altdeg=10)\n",
    "M = light.shade(M, cmap=plt.cm.hot, vert_exag=1.5,\n",
    "                    norm=colors.PowerNorm(0.3), blend_mode='hsv')"
   ]
  },
  {
   "cell_type": "code",
   "execution_count": 39,
   "metadata": {},
   "outputs": [
    {
     "name": "stderr",
     "output_type": "stream",
     "text": [
      "C:\\Users\\zw493\\Anaconda3\\lib\\site-packages\\ipykernel_launcher.py:5: DeprecationWarning: object of type <class 'float'> cannot be safely interpreted as an integer.\n",
      "  \"\"\"\n",
      "C:\\Users\\zw493\\Anaconda3\\lib\\site-packages\\ipykernel_launcher.py:6: DeprecationWarning: object of type <class 'float'> cannot be safely interpreted as an integer.\n",
      "  \n"
     ]
    },
    {
     "data": {
      "image/png": "[encoded data removed]",
      "text/plain": [
       "<Figure size 720x600 with 1 Axes>"
      ]
     },
     "metadata": {},
     "output_type": "display_data"
    }
   ],
   "source": [
    "import numpy as np\n",
    "\n",
    "\n",
    "def mandelbrot_set(xmin, xmax, ymin, ymax, xn, yn, maxiter, horizon=2.0):\n",
    "    X = np.linspace(xmin, xmax, xn).astype(np.float32)\n",
    "    Y = np.linspace(ymin, ymax, yn).astype(np.float32)\n",
    "    C = X + Y[:, None] * 1j\n",
    "    N = np.zeros_like(C, dtype=int)\n",
    "    Z = np.zeros_like(C)\n",
    "    for n in range(maxiter):\n",
    "        I = np.less(abs(Z), horizon)\n",
    "        N[I] = n\n",
    "        Z[I] = Z[I]**2 + C[I]\n",
    "    N[N == maxiter-1] = 0\n",
    "    return Z, N\n",
    "\n",
    "\n",
    "if __name__ == '__main__':\n",
    "    import time\n",
    "    import matplotlib\n",
    "    from matplotlib import colors\n",
    "    import matplotlib.pyplot as plt\n",
    "\n",
    "    xmin, xmax, xn = -2.25, +0.75, 3000/2\n",
    "    ymin, ymax, yn = -1.25, +1.25, 2500/2\n",
    "    maxiter = 200\n",
    "    horizon = 2.0 ** 40\n",
    "    log_horizon = np.log(np.log(horizon))/np.log(2)\n",
    "    Z, N = mandelbrot_set(xmin, xmax, ymin, ymax, xn, yn, maxiter, horizon)\n",
    "\n",
    "    # Normalized recount as explained in:\n",
    "    # https://linas.org/art-gallery/escape/smooth.html\n",
    "    # https://www.ibm.com/developerworks/community/blogs/jfp/entry/My_Christmas_Gift\n",
    "\n",
    "    # This line will generate warnings for null values but it is faster to\n",
    "    # process them afterwards using the nan_to_num\n",
    "    with np.errstate(invalid='ignore'):\n",
    "        M = np.nan_to_num(N + 1 -\n",
    "                          np.log(np.log(abs(Z)))/np.log(2) +\n",
    "                          log_horizon)\n",
    "\n",
    "    dpi = 72\n",
    "    width = 10\n",
    "    height = 10*yn/xn\n",
    "    fig = plt.figure(figsize=(width, height), dpi=dpi)\n",
    "    ax = fig.add_axes([0.0, 0.0, 1.0, 1.0], frameon=False, aspect=1)\n",
    "\n",
    "    # Shaded rendering\n",
    "    light = colors.LightSource(azdeg=315, altdeg=10)\n",
    "    M = light.shade(M, cmap=plt.cm.hot, vert_exag=1.5,\n",
    "                    norm=colors.PowerNorm(0.3), blend_mode='hsv')\n",
    "    plt.imshow(M, extent=[xmin, xmax, ymin, ymax], interpolation=\"bicubic\")\n",
    "    ax.set_xticks([])\n",
    "    ax.set_yticks([])\n",
    "\n",
    "    # Some advertisement for matplotlib\n",
    "    year = time.strftime(\"%Y\")\n",
    "    text = (\"The Mandelbrot fractal set\\n\"\n",
    "            \"Rendered with matplotlib %s, %s - http://matplotlib.org\"\n",
    "            % (matplotlib.__version__, year))\n",
    "    ax.text(xmin+.025, ymin+.025, text, color=\"white\", fontsize=12, alpha=0.5)\n",
    "\n",
    "    plt.show()"
   ]
  },
  {
   "cell_type": "code",
   "execution_count": 55,
   "metadata": {},
   "outputs": [
    {
     "data": {
      "text/plain": [
       "(array([2.606e+03, 7.460e+02, 7.090e+02, 7.350e+02, 7.450e+02, 8.370e+02,\n",
       "        8.550e+02, 8.740e+02, 1.953e+03, 1.262e+03, 1.305e+03, 1.278e+03,\n",
       "        1.535e+03, 1.641e+03, 1.446e+03, 1.330e+03, 2.678e+03, 1.136e+03,\n",
       "        1.281e+03, 8.570e+02, 5.650e+02, 5.470e+02, 3.980e+02, 2.310e+02,\n",
       "        2.400e+02, 2.580e+02, 9.400e+01, 1.320e+02, 6.600e+01, 4.500e+01,\n",
       "        1.310e+02, 8.000e+00, 1.900e+01, 3.500e+01, 3.000e+00, 1.100e+01,\n",
       "        7.000e+00, 1.300e+01, 5.000e+00, 3.000e+00, 8.000e+00, 4.000e+00,\n",
       "        2.000e+00, 7.000e+00, 0.000e+00, 0.000e+00, 0.000e+00, 0.000e+00,\n",
       "        0.000e+00, 1.000e+00]),\n",
       " array([ 1.  ,  2.12,  3.24,  4.36,  5.48,  6.6 ,  7.72,  8.84,  9.96,\n",
       "        11.08, 12.2 , 13.32, 14.44, 15.56, 16.68, 17.8 , 18.92, 20.04,\n",
       "        21.16, 22.28, 23.4 , 24.52, 25.64, 26.76, 27.88, 29.  , 30.12,\n",
       "        31.24, 32.36, 33.48, 34.6 , 35.72, 36.84, 37.96, 39.08, 40.2 ,\n",
       "        41.32, 42.44, 43.56, 44.68, 45.8 , 46.92, 48.04, 49.16, 50.28,\n",
       "        51.4 , 52.52, 53.64, 54.76, 55.88, 57.  ]),\n",
       " <a list of 1 Patch objects>)"
      ]
     },
     "execution_count": 55,
     "metadata": {},
     "output_type": "execute_result"
    },
    {
     "data": {
      "image/png": "[encoded data removed]",
      "text/plain": [
       "<Figure size 432x288 with 1 Axes>"
      ]
     },
     "metadata": {},
     "output_type": "display_data"
    }
   ],
   "source": [
    "df = pd.read_csv('./data_in_csv/yyf-0811.csv', names=['ID', 'Level', 'Fans_Icon', 'Content'])\n",
    "plt.hist(df['Level'], bins=50)"
   ]
  },
  {
   "cell_type": "code",
   "execution_count": 68,
   "metadata": {},
   "outputs": [
    {
     "data": {
      "image/png": "[encoded data removed]",
      "text/plain": [
       "<Figure size 432x288 with 3 Axes>"
      ]
     },
     "metadata": {},
     "output_type": "display_data"
    }
   ],
   "source": [
    "import matplotlib.pyplot as plt\n",
    "import numpy as np\n",
    "\n",
    "# Fixing random state for reproducibility\n",
    "np.random.seed(19680801)\n",
    "\n",
    "\n",
    "# create some data to use for the plot\n",
    "dt = 0.001\n",
    "t = np.arange(0.0, 10.0, dt)\n",
    "r = np.exp(-t[:1000] / 0.05)  # impulse response\n",
    "x = np.random.randn(len(t))\n",
    "s = np.convolve(x, r)[:len(x)] * dt  # colored noise\n",
    "\n",
    "# the main axes is subplot(111) by default\n",
    "plt.plot(t, s)\n",
    "plt.axis([0, 1, 1.1 * np.min(s), 2 * np.max(s)])\n",
    "plt.xlabel('time (s)')\n",
    "plt.ylabel('current (nA)')\n",
    "plt.title('Gaussian colored noise')\n",
    "\n",
    "# this is an inset axes over the main axes\n",
    "a = plt.axes([.65, .6, .2, .2], facecolor='k')\n",
    "n, bins, patches = plt.hist(s, 400, density=True)\n",
    "plt.title('Probability')\n",
    "plt.xticks([])\n",
    "plt.yticks([])\n",
    "\n",
    "# this is another inset axes over the main axes\n",
    "a = plt.axes([0.2, 0.6, .2, .2], facecolor='k')\n",
    "plt.plot(t[:len(r)], r)\n",
    "plt.title('Impulse response')\n",
    "plt.xlim(0, 0.2)\n",
    "plt.xticks([])\n",
    "plt.yticks([])\n",
    "\n",
    "plt.show()"
   ]
  },
  {
   "cell_type": "code",
   "execution_count": 39,
   "metadata": {},
   "outputs": [
    {
     "data": {
      "text/plain": [
       "\u001b[1;31mSignature:\u001b[0m \u001b[0mpd\u001b[0m\u001b[1;33m.\u001b[0m\u001b[0mSeries\u001b[0m\u001b[1;33m.\u001b[0m\u001b[0mvalue_counts\u001b[0m\u001b[1;33m(\u001b[0m\u001b[0mself\u001b[0m\u001b[1;33m,\u001b[0m \u001b[0mnormalize\u001b[0m\u001b[1;33m=\u001b[0m\u001b[1;32mFalse\u001b[0m\u001b[1;33m,\u001b[0m \u001b[0msort\u001b[0m\u001b[1;33m=\u001b[0m\u001b[1;32mTrue\u001b[0m\u001b[1;33m,\u001b[0m \u001b[0mascending\u001b[0m\u001b[1;33m=\u001b[0m\u001b[1;32mFalse\u001b[0m\u001b[1;33m,\u001b[0m \u001b[0mbins\u001b[0m\u001b[1;33m=\u001b[0m\u001b[1;32mNone\u001b[0m\u001b[1;33m,\u001b[0m \u001b[0mdropna\u001b[0m\u001b[1;33m=\u001b[0m\u001b[1;32mTrue\u001b[0m\u001b[1;33m)\u001b[0m\u001b[1;33m\u001b[0m\u001b[0m\n",
       "\u001b[1;31mDocstring:\u001b[0m\n",
       "Returns object containing counts of unique values.\n",
       "\n",
       "The resulting object will be in descending order so that the\n",
       "first element is the most frequently-occurring element.\n",
       "Excludes NA values by default.\n",
       "\n",
       "Parameters\n",
       "----------\n",
       "normalize : boolean, default False\n",
       "    If True then the object returned will contain the relative\n",
       "    frequencies of the unique values.\n",
       "sort : boolean, default True\n",
       "    Sort by values\n",
       "ascending : boolean, default False\n",
       "    Sort in ascending order\n",
       "bins : integer, optional\n",
       "    Rather than count values, group them into half-open bins,\n",
       "    a convenience for pd.cut, only works with numeric data\n",
       "dropna : boolean, default True\n",
       "    Don't include counts of NaN.\n",
       "\n",
       "Returns\n",
       "-------\n",
       "counts : Series\n",
       "\u001b[1;31mFile:\u001b[0m      c:\\users\\zw493\\anaconda3\\lib\\site-packages\\pandas\\core\\base.py\n",
       "\u001b[1;31mType:\u001b[0m      function\n"
      ]
     },
     "metadata": {},
     "output_type": "display_data"
    }
   ],
   "source": [
    "pd.Series.value_counts?"
   ]
  },
  {
   "cell_type": "code",
   "execution_count": 46,
   "metadata": {},
   "outputs": [
    {
     "data": {
      "text/plain": [
       "11457"
      ]
     },
     "execution_count": 46,
     "metadata": {},
     "output_type": "execute_result"
    }
   ],
   "source": [
    "df['Fans_Icon'].value_counts()"
   ]
  },
  {
   "cell_type": "code",
   "execution_count": 1,
   "metadata": {},
   "outputs": [],
   "source": [
    "from selenium import webdriver\n",
    "from bs4 import BeautifulSoup\n",
    "import time\n",
    "import re\n",
    "from multiprocessing import Pool\n",
    "import pandas as pd\n",
    "import numpy as np\n",
    "import csv\n",
    "\n",
    "from selenium.webdriver.support.ui import WebDriverWait\n",
    "from selenium.webdriver.support import expected_conditions as EC\n",
    "from selenium.webdriver.common.by import By"
   ]
  },
  {
   "cell_type": "code",
   "execution_count": 5,
   "metadata": {},
   "outputs": [],
   "source": [
    "browser = webdriver.Chrome()\n",
    "browser.get('https://www.huya.com/longdd')"
   ]
  },
  {
   "cell_type": "code",
   "execution_count": 69,
   "metadata": {},
   "outputs": [],
   "source": [
    "with open('test.csv', 'w+', newline='') as f:\n",
    "    writer.writerows(d)   "
   ]
  },
  {
   "cell_type": "code",
   "execution_count": 115,
   "metadata": {},
   "outputs": [
    {
     "name": "stdout",
     "output_type": "stream",
     "text": [
      "0.06404590606689453\n"
     ]
    }
   ],
   "source": [
    "s = time.time()\n",
    "node = browser.find_elements_by_xpath('//div[@class=\"msg-normal\"]')[4]\n",
    "wait = WebDriverWait(browser, 3600)\n",
    "chunks = re.findall('<div class=\"msg-normal\">(.*?)</div>', browser.page_source, re.S)\n",
    "\n",
    "for chunk in chunks:\n",
    "    name = re.findall('个人信息\">(.*?)</span', chunk, re.S)[0]   \n",
    "    fans = re.findall('fans-icon-.*?\">(.*?)</span>', chunk, re.S)\n",
    "    if fans:\n",
    "        fans = fans[0]\n",
    "        level = re.findall('fans-icon-(.*?)\">', chunk, re.S)[0]\n",
    "    else:\n",
    "        fans = '无粉丝牌'\n",
    "        level = '-1'\n",
    "        \n",
    "    content = re.findall('\"msg\".*?>(.*?)</span>', chunk, re.S)[0]\n",
    "    #print(name, fans, level, content)\n",
    "    with open('test.csv', 'a+', newline='', encoding='utf-8') as f:\n",
    "        writer = csv.writer(f)\n",
    "        writer.writerow([name, fans, level, content])\n",
    "print(time.time()-s)"
   ]
  },
  {
   "cell_type": "code",
   "execution_count": 116,
   "metadata": {},
   "outputs": [
    {
     "name": "stdout",
     "output_type": "stream",
     "text": [
      "0.043882131576538086\n"
     ]
    },
    {
     "data": {
      "text/plain": [
       "<selenium.webdriver.remote.webelement.WebElement (session=\"45529200794eb7313925244e4b8e6c7d\", element=\"0.5146394365784026-313\")>"
      ]
     },
     "execution_count": 116,
     "metadata": {},
     "output_type": "execute_result"
    }
   ],
   "source": [
    "s = time.time()\n",
    "node = browser.find_elements_by_xpath('//div[@class=\"msg-normal\"]')[4]\n",
    "wait = WebDriverWait(browser, 3600)\n",
    "chunks = re.findall('<div class=\"msg-normal\">(.*?)</div>', browser.page_source, re.S)\n",
    "\n",
    "names = []\n",
    "fans = []\n",
    "levels = []\n",
    "contents = []\n",
    "\n",
    "for chunk in chunks:\n",
    "    fan = re.findall('fans-icon-.*?\">(.*?)<' , chunk, re.S)\n",
    "    if re.findall('fans-icon-.*?\">(.*?)<' , chunk, re.S):\n",
    "        fans.append(fan[0])\n",
    "        levels.append(re.findall('fans-icon-(.*?)\">', chunk, re.S)[0])\n",
    "    else:\n",
    "        fans.append('无粉丝牌')\n",
    "        levels.append('-1')\n",
    "    names.append(re.findall('个人信息\">(.*?)</span', chunk, re.S)[0])\n",
    "    contents.append(re.findall('\"msg\".*?>(.*?)</span>', chunk, re.S)[0])\n",
    "    \n",
    "with open('test.csv', 'a+', newline='', encoding='utf-8') as f:\n",
    "    writer = csv.writer(f)\n",
    "    writer.writerows(zip(names,fans,levels,contents))\n",
    "    \n",
    "print(time.time()-s)\n",
    "node"
   ]
  },
  {
   "cell_type": "code",
   "execution_count": 6,
   "metadata": {},
   "outputs": [],
   "source": [
    "from requests import get\n",
    "from pyquery import PyQuery as pq"
   ]
  },
  {
   "cell_type": "code",
   "execution_count": 17,
   "metadata": {},
   "outputs": [
    {
     "data": {
      "text/plain": [
       "b'123'"
      ]
     },
     "execution_count": 17,
     "metadata": {},
     "output_type": "execute_result"
    }
   ],
   "source": [
    "'123'.encode('utf-8')"
   ]
  },
  {
   "cell_type": "code",
   "execution_count": 1,
   "metadata": {},
   "outputs": [],
   "source": [
    "import sys"
   ]
  },
  {
   "cell_type": "code",
   "execution_count": 3,
   "metadata": {},
   "outputs": [
    {
     "data": {
      "text/plain": [
       "sys.flags(debug=0, inspect=0, interactive=0, optimize=0, dont_write_bytecode=0, no_user_site=0, no_site=0, ignore_environment=0, verbose=0, bytes_warning=0, quiet=0, hash_randomization=1, isolated=0)"
      ]
     },
     "execution_count": 3,
     "metadata": {},
     "output_type": "execute_result"
    }
   ],
   "source": [
    "sys.flags"
   ]
  },
  {
   "cell_type": "code",
   "execution_count": 4,
   "metadata": {},
   "outputs": [
    {
     "data": {
      "text/plain": [
       "['',\n",
       " 'C:\\\\Users\\\\zw493\\\\Anaconda3\\\\python36.zip',\n",
       " 'C:\\\\Users\\\\zw493\\\\Anaconda3\\\\DLLs',\n",
       " 'C:\\\\Users\\\\zw493\\\\Anaconda3\\\\lib',\n",
       " 'C:\\\\Users\\\\zw493\\\\Anaconda3',\n",
       " 'C:\\\\Users\\\\zw493\\\\Anaconda3\\\\lib\\\\site-packages',\n",
       " 'C:\\\\Users\\\\zw493\\\\Anaconda3\\\\lib\\\\site-packages\\\\algorithms-0.1.0-py3.6.egg',\n",
       " 'C:\\\\Users\\\\zw493\\\\Anaconda3\\\\lib\\\\site-packages\\\\win32',\n",
       " 'C:\\\\Users\\\\zw493\\\\Anaconda3\\\\lib\\\\site-packages\\\\win32\\\\lib',\n",
       " 'C:\\\\Users\\\\zw493\\\\Anaconda3\\\\lib\\\\site-packages\\\\Pythonwin',\n",
       " 'C:\\\\Users\\\\zw493\\\\Anaconda3\\\\lib\\\\site-packages\\\\IPython\\\\extensions',\n",
       " 'C:\\\\Users\\\\zw493\\\\.ipython']"
      ]
     },
     "execution_count": 4,
     "metadata": {},
     "output_type": "execute_result"
    }
   ],
   "source": [
    "sys.path"
   ]
  },
  {
   "cell_type": "code",
   "execution_count": 5,
   "metadata": {},
   "outputs": [
    {
     "data": {
      "text/plain": [
       "[_frozen_importlib.BuiltinImporter,\n",
       " _frozen_importlib.FrozenImporter,\n",
       " _frozen_importlib_external.PathFinder,\n",
       " <six._SixMetaPathImporter at 0x1e363e07dd8>]"
      ]
     },
     "execution_count": 5,
     "metadata": {},
     "output_type": "execute_result"
    }
   ],
   "source": [
    "sys.meta_path"
   ]
  },
  {
   "cell_type": "code",
   "execution_count": 7,
   "metadata": {},
   "outputs": [
    {
     "ename": "SyntaxError",
     "evalue": "invalid syntax (<ipython-input-7-7aa2c9c44afa>, line 1)",
     "output_type": "error",
     "traceback": [
      "\u001b[1;36m  File \u001b[1;32m\"<ipython-input-7-7aa2c9c44afa>\"\u001b[1;36m, line \u001b[1;32m1\u001b[0m\n\u001b[1;33m    <six._SixMetaPathImporter at 0x1e363e07dd8>\u001b[0m\n\u001b[1;37m    ^\u001b[0m\n\u001b[1;31mSyntaxError\u001b[0m\u001b[1;31m:\u001b[0m invalid syntax\n"
     ]
    }
   ],
   "source": [
    "<six._SixMetaPathImporter at 0x1e363e07dd8>"
   ]
  },
  {
   "cell_type": "code",
   "execution_count": 11,
   "metadata": {},
   "outputs": [
    {
     "data": {
      "text/plain": [
       "'win32'"
      ]
     },
     "execution_count": 11,
     "metadata": {},
     "output_type": "execute_result"
    }
   ],
   "source": [
    "sys.platform"
   ]
  },
  {
   "cell_type": "code",
   "execution_count": 12,
   "metadata": {},
   "outputs": [
    {
     "data": {
      "text/plain": [
       "'C:\\\\Users\\\\zw493\\\\Anaconda3'"
      ]
     },
     "execution_count": 12,
     "metadata": {},
     "output_type": "execute_result"
    }
   ],
   "source": [
    "sys.prefix"
   ]
  },
  {
   "cell_type": "code",
   "execution_count": 11,
   "metadata": {},
   "outputs": [
    {
     "data": {
      "text/plain": [
       "DecisionTreeClassifier(class_weight=None, criterion='gini', max_depth=None,\n",
       "            max_features='auto', max_leaf_nodes=None,\n",
       "            min_impurity_decrease=0.0, min_impurity_split=None,\n",
       "            min_samples_leaf=1, min_samples_split=2,\n",
       "            min_weight_fraction_leaf=0.0, presort=False,\n",
       "            random_state=454748338, splitter='best')"
      ]
     },
     "execution_count": 11,
     "metadata": {},
     "output_type": "execute_result"
    }
   ],
   "source": [
    "from sklearn.datasets import load_iris\n",
    "iris = load_iris()\n",
    "\n",
    "from sklearn.ensemble import RandomForestClassifier\n",
    "model = RandomForestClassifier(n_estimators=10)\n",
    "model.fit(iris.data, iris.target)\n",
    "estimator = model.estimators_[5]\n",
    "estimator"
   ]
  },
  {
   "cell_type": "code",
   "execution_count": 12,
   "metadata": {},
   "outputs": [],
   "source": [
    "from sklearn.tree import export_graphviz\n",
    "export_graphviz(estimator, out_file='tree.dot', feature_names=iris.feature_names, class_names=iris.target_names, rounded=True, proportion=False, precision=2, filled=True)"
   ]
  },
  {
   "cell_type": "code",
   "execution_count": 13,
   "metadata": {},
   "outputs": [
    {
     "data": {
      "text/plain": [
       "1"
      ]
     },
     "execution_count": 13,
     "metadata": {},
     "output_type": "execute_result"
    }
   ],
   "source": [
    "from subprocess import call\n",
    "call(['dot', 'Tpng', 'tree.dot', '-o', 'tree.png', '-Gdpi=600'])"
   ]
  },
  {
   "cell_type": "code",
   "execution_count": 14,
   "metadata": {},
   "outputs": [
    {
     "data": {
      "image/png": "[encoded data removed]",
      "text/plain": [
       "<IPython.core.display.Image object>"
      ]
     },
     "execution_count": 14,
     "metadata": {},
     "output_type": "execute_result"
    }
   ],
   "source": [
    "from IPython.display import Image\n",
    "Image(filename='tree.png')"
   ]
  },
  {
   "cell_type": "code",
   "execution_count": 2,
   "metadata": {},
   "outputs": [],
   "source": [
    "import pandas as pd\n",
    "import numpy as np\n",
    "np.random.seed(12345)\n",
    "import matplotlib.pyplot as plt\n",
    "plt.rc('figure', figsize=(10, 6))\n",
    "PREVIOUS_MAX_ROWS = pd.options.display.max_rows\n",
    "pd.options.display.max_rows = 20\n",
    "np.set_printoptions(precision=4, suppress=True)"
   ]
  },
  {
   "cell_type": "code",
   "execution_count": 3,
   "metadata": {},
   "outputs": [
    {
     "data": {
      "text/plain": [
       "0    0.0\n",
       "1    1.0\n",
       "2    2.0\n",
       "dtype: float64"
      ]
     },
     "execution_count": 3,
     "metadata": {},
     "output_type": "execute_result"
    }
   ],
   "source": [
    "ser = pd.Series(np.arange(3.))\n",
    "ser"
   ]
  },
  {
   "cell_type": "code",
   "execution_count": 6,
   "metadata": {},
   "outputs": [
    {
     "data": {
      "text/plain": [
       "0.0"
      ]
     },
     "execution_count": 6,
     "metadata": {},
     "output_type": "execute_result"
    }
   ],
   "source": [
    "ser.loc[0]"
   ]
  },
  {
   "cell_type": "code",
   "execution_count": 7,
   "metadata": {},
   "outputs": [
    {
     "data": {
      "text/plain": [
       "\u001b[1;31mInit signature:\u001b[0m \u001b[0mzip\u001b[0m\u001b[1;33m(\u001b[0m\u001b[0mself\u001b[0m\u001b[1;33m,\u001b[0m \u001b[1;33m/\u001b[0m\u001b[1;33m,\u001b[0m \u001b[1;33m*\u001b[0m\u001b[0margs\u001b[0m\u001b[1;33m,\u001b[0m \u001b[1;33m**\u001b[0m\u001b[0mkwargs\u001b[0m\u001b[1;33m)\u001b[0m\u001b[1;33m\u001b[0m\u001b[0m\n",
       "\u001b[1;31mDocstring:\u001b[0m     \n",
       "zip(iter1 [,iter2 [...]]) --> zip object\n",
       "\n",
       "Return a zip object whose .__next__() method returns a tuple where\n",
       "the i-th element comes from the i-th iterable argument.  The .__next__()\n",
       "method continues until the shortest iterable in the argument sequence\n",
       "is exhausted and then it raises StopIteration.\n",
       "\u001b[1;31mType:\u001b[0m           type\n"
      ]
     },
     "metadata": {},
     "output_type": "display_data"
    }
   ],
   "source": [
    "zip?"
   ]
  },
  {
   "cell_type": "code",
   "execution_count": 8,
   "metadata": {},
   "outputs": [
    {
     "data": {
      "text/html": [
       "<div>\n",
       "<style scoped>\n",
       "    .dataframe tbody tr th:only-of-type {\n",
       "        vertical-align: middle;\n",
       "    }\n",
       "\n",
       "    .dataframe tbody tr th {\n",
       "        vertical-align: top;\n",
       "    }\n",
       "\n",
       "    .dataframe thead th {\n",
       "        text-align: right;\n",
       "    }\n",
       "</style>\n",
       "<table border=\"1\" class=\"dataframe\">\n",
       "  <thead>\n",
       "    <tr style=\"text-align: right;\">\n",
       "      <th></th>\n",
       "      <th>b</th>\n",
       "      <th>d</th>\n",
       "      <th>e</th>\n",
       "    </tr>\n",
       "  </thead>\n",
       "  <tbody>\n",
       "    <tr>\n",
       "      <th>Utah</th>\n",
       "      <td>0.0</td>\n",
       "      <td>1.0</td>\n",
       "      <td>2.0</td>\n",
       "    </tr>\n",
       "    <tr>\n",
       "      <th>Ohio</th>\n",
       "      <td>3.0</td>\n",
       "      <td>4.0</td>\n",
       "      <td>5.0</td>\n",
       "    </tr>\n",
       "    <tr>\n",
       "      <th>Texas</th>\n",
       "      <td>6.0</td>\n",
       "      <td>7.0</td>\n",
       "      <td>8.0</td>\n",
       "    </tr>\n",
       "    <tr>\n",
       "      <th>Oregon</th>\n",
       "      <td>9.0</td>\n",
       "      <td>10.0</td>\n",
       "      <td>11.0</td>\n",
       "    </tr>\n",
       "  </tbody>\n",
       "</table>\n",
       "</div>"
      ],
      "text/plain": [
       "          b     d     e\n",
       "Utah    0.0   1.0   2.0\n",
       "Ohio    3.0   4.0   5.0\n",
       "Texas   6.0   7.0   8.0\n",
       "Oregon  9.0  10.0  11.0"
      ]
     },
     "execution_count": 8,
     "metadata": {},
     "output_type": "execute_result"
    }
   ],
   "source": [
    "frame = pd.DataFrame(np.arange(12.).reshape((4,3)),\n",
    "                    columns=list('bde'), index=['Utah', 'Ohio', 'Texas', 'Oregon'])\n",
    "frame"
   ]
  },
  {
   "cell_type": "code",
   "execution_count": 9,
   "metadata": {},
   "outputs": [
    {
     "data": {
      "text/plain": [
       "Utah       1.0\n",
       "Ohio       4.0\n",
       "Texas      7.0\n",
       "Oregon    10.0\n",
       "Name: d, dtype: float64"
      ]
     },
     "execution_count": 9,
     "metadata": {},
     "output_type": "execute_result"
    }
   ],
   "source": [
    "series3 = frame['d']\n",
    "series3"
   ]
  },
  {
   "cell_type": "code",
   "execution_count": 11,
   "metadata": {},
   "outputs": [
    {
     "data": {
      "text/html": [
       "<div>\n",
       "<style scoped>\n",
       "    .dataframe tbody tr th:only-of-type {\n",
       "        vertical-align: middle;\n",
       "    }\n",
       "\n",
       "    .dataframe tbody tr th {\n",
       "        vertical-align: top;\n",
       "    }\n",
       "\n",
       "    .dataframe thead th {\n",
       "        text-align: right;\n",
       "    }\n",
       "</style>\n",
       "<table border=\"1\" class=\"dataframe\">\n",
       "  <thead>\n",
       "    <tr style=\"text-align: right;\">\n",
       "      <th></th>\n",
       "      <th>b</th>\n",
       "      <th>d</th>\n",
       "      <th>e</th>\n",
       "    </tr>\n",
       "  </thead>\n",
       "  <tbody>\n",
       "    <tr>\n",
       "      <th>Utah</th>\n",
       "      <td>1.0</td>\n",
       "      <td>2.0</td>\n",
       "      <td>3.0</td>\n",
       "    </tr>\n",
       "    <tr>\n",
       "      <th>Ohio</th>\n",
       "      <td>7.0</td>\n",
       "      <td>8.0</td>\n",
       "      <td>9.0</td>\n",
       "    </tr>\n",
       "    <tr>\n",
       "      <th>Texas</th>\n",
       "      <td>13.0</td>\n",
       "      <td>14.0</td>\n",
       "      <td>15.0</td>\n",
       "    </tr>\n",
       "    <tr>\n",
       "      <th>Oregon</th>\n",
       "      <td>19.0</td>\n",
       "      <td>20.0</td>\n",
       "      <td>21.0</td>\n",
       "    </tr>\n",
       "  </tbody>\n",
       "</table>\n",
       "</div>"
      ],
      "text/plain": [
       "           b     d     e\n",
       "Utah     1.0   2.0   3.0\n",
       "Ohio     7.0   8.0   9.0\n",
       "Texas   13.0  14.0  15.0\n",
       "Oregon  19.0  20.0  21.0"
      ]
     },
     "execution_count": 11,
     "metadata": {},
     "output_type": "execute_result"
    }
   ],
   "source": [
    "frame.add(series3, axis=0)"
   ]
  },
  {
   "cell_type": "code",
   "execution_count": 12,
   "metadata": {},
   "outputs": [
    {
     "data": {
      "text/html": [
       "<div>\n",
       "<style scoped>\n",
       "    .dataframe tbody tr th:only-of-type {\n",
       "        vertical-align: middle;\n",
       "    }\n",
       "\n",
       "    .dataframe tbody tr th {\n",
       "        vertical-align: top;\n",
       "    }\n",
       "\n",
       "    .dataframe thead th {\n",
       "        text-align: right;\n",
       "    }\n",
       "</style>\n",
       "<table border=\"1\" class=\"dataframe\">\n",
       "  <thead>\n",
       "    <tr style=\"text-align: right;\">\n",
       "      <th></th>\n",
       "      <th>b</th>\n",
       "      <th>d</th>\n",
       "      <th>e</th>\n",
       "    </tr>\n",
       "  </thead>\n",
       "  <tbody>\n",
       "    <tr>\n",
       "      <th>1</th>\n",
       "      <td>0.929616</td>\n",
       "      <td>0.316376</td>\n",
       "      <td>0.183919</td>\n",
       "    </tr>\n",
       "    <tr>\n",
       "      <th>2</th>\n",
       "      <td>0.204560</td>\n",
       "      <td>0.567725</td>\n",
       "      <td>0.595545</td>\n",
       "    </tr>\n",
       "    <tr>\n",
       "      <th>3</th>\n",
       "      <td>0.964515</td>\n",
       "      <td>0.653177</td>\n",
       "      <td>0.748907</td>\n",
       "    </tr>\n",
       "    <tr>\n",
       "      <th>4</th>\n",
       "      <td>0.653570</td>\n",
       "      <td>0.747715</td>\n",
       "      <td>0.961307</td>\n",
       "    </tr>\n",
       "  </tbody>\n",
       "</table>\n",
       "</div>"
      ],
      "text/plain": [
       "          b         d         e\n",
       "1  0.929616  0.316376  0.183919\n",
       "2  0.204560  0.567725  0.595545\n",
       "3  0.964515  0.653177  0.748907\n",
       "4  0.653570  0.747715  0.961307"
      ]
     },
     "execution_count": 12,
     "metadata": {},
     "output_type": "execute_result"
    }
   ],
   "source": [
    "frame = pd.DataFrame(np.random.rand(4,3), columns=list('bde'), index=list('1234'))\n",
    "frame"
   ]
  },
  {
   "cell_type": "code",
   "execution_count": 69,
   "metadata": {},
   "outputs": [
    {
     "data": {
      "text/plain": [
       "b   -0.759954\n",
       "d   -0.431339\n",
       "e   -0.777388\n",
       "dtype: float64"
      ]
     },
     "execution_count": 69,
     "metadata": {},
     "output_type": "execute_result"
    }
   ],
   "source": [
    "f = lambda x: x.min() - x.max()\n",
    "frame.apply(f)"
   ]
  },
  {
   "cell_type": "code",
   "execution_count": 18,
   "metadata": {},
   "outputs": [
    {
     "data": {
      "text/plain": [
       "1    0.745697\n",
       "2    0.390984\n",
       "3    0.311337\n",
       "4    0.307737\n",
       "dtype: float64"
      ]
     },
     "execution_count": 18,
     "metadata": {},
     "output_type": "execute_result"
    }
   ],
   "source": [
    "frame.apply(f, axis=)"
   ]
  },
  {
   "cell_type": "code",
   "execution_count": 16,
   "metadata": {},
   "outputs": [
    {
     "data": {
      "text/plain": [
       "1367"
      ]
     },
     "execution_count": 16,
     "metadata": {},
     "output_type": "execute_result"
    }
   ],
   "source": [
    "int('0x557', base=16)"
   ]
  },
  {
   "cell_type": "code",
   "execution_count": 34,
   "metadata": {},
   "outputs": [
    {
     "data": {
      "text/plain": [
       "False"
      ]
     },
     "execution_count": 34,
     "metadata": {},
     "output_type": "execute_result"
    }
   ],
   "source": [
    "chr(0x10f)"
   ]
  },
  {
   "cell_type": "code",
   "execution_count": 70,
   "metadata": {},
   "outputs": [
    {
     "data": {
      "text/html": [
       "<div>\n",
       "<style scoped>\n",
       "    .dataframe tbody tr th:only-of-type {\n",
       "        vertical-align: middle;\n",
       "    }\n",
       "\n",
       "    .dataframe tbody tr th {\n",
       "        vertical-align: top;\n",
       "    }\n",
       "\n",
       "    .dataframe thead th {\n",
       "        text-align: right;\n",
       "    }\n",
       "</style>\n",
       "<table border=\"1\" class=\"dataframe\">\n",
       "  <thead>\n",
       "    <tr style=\"text-align: right;\">\n",
       "      <th></th>\n",
       "      <th>Qu1</th>\n",
       "      <th>Qu2</th>\n",
       "      <th>Qu3</th>\n",
       "    </tr>\n",
       "  </thead>\n",
       "  <tbody>\n",
       "    <tr>\n",
       "      <th>0</th>\n",
       "      <td>1</td>\n",
       "      <td>2</td>\n",
       "      <td>1</td>\n",
       "    </tr>\n",
       "    <tr>\n",
       "      <th>1</th>\n",
       "      <td>3</td>\n",
       "      <td>3</td>\n",
       "      <td>5</td>\n",
       "    </tr>\n",
       "    <tr>\n",
       "      <th>2</th>\n",
       "      <td>4</td>\n",
       "      <td>1</td>\n",
       "      <td>2</td>\n",
       "    </tr>\n",
       "    <tr>\n",
       "      <th>3</th>\n",
       "      <td>3</td>\n",
       "      <td>2</td>\n",
       "      <td>4</td>\n",
       "    </tr>\n",
       "    <tr>\n",
       "      <th>4</th>\n",
       "      <td>4</td>\n",
       "      <td>3</td>\n",
       "      <td>4</td>\n",
       "    </tr>\n",
       "  </tbody>\n",
       "</table>\n",
       "</div>"
      ],
      "text/plain": [
       "   Qu1  Qu2  Qu3\n",
       "0    1    2    1\n",
       "1    3    3    5\n",
       "2    4    1    2\n",
       "3    3    2    4\n",
       "4    4    3    4"
      ]
     },
     "execution_count": 70,
     "metadata": {},
     "output_type": "execute_result"
    }
   ],
   "source": [
    "data = pd.DataFrame({'Qu1':[1,3,4,3,4],\n",
    "                    'Qu2':[2,3,1,2,3],\n",
    "                    'Qu3':[1,5,2,4,4]})\n",
    "data"
   ]
  },
  {
   "cell_type": "code",
   "execution_count": 73,
   "metadata": {},
   "outputs": [
    {
     "data": {
      "text/html": [
       "<div>\n",
       "<style scoped>\n",
       "    .dataframe tbody tr th:only-of-type {\n",
       "        vertical-align: middle;\n",
       "    }\n",
       "\n",
       "    .dataframe tbody tr th {\n",
       "        vertical-align: top;\n",
       "    }\n",
       "\n",
       "    .dataframe thead th {\n",
       "        text-align: right;\n",
       "    }\n",
       "</style>\n",
       "<table border=\"1\" class=\"dataframe\">\n",
       "  <thead>\n",
       "    <tr style=\"text-align: right;\">\n",
       "      <th></th>\n",
       "      <th>Qu1</th>\n",
       "      <th>Qu2</th>\n",
       "      <th>Qu3</th>\n",
       "    </tr>\n",
       "  </thead>\n",
       "  <tbody>\n",
       "    <tr>\n",
       "      <th>1</th>\n",
       "      <td>1.0</td>\n",
       "      <td>1.0</td>\n",
       "      <td>1.0</td>\n",
       "    </tr>\n",
       "    <tr>\n",
       "      <th>2</th>\n",
       "      <td>NaN</td>\n",
       "      <td>2.0</td>\n",
       "      <td>1.0</td>\n",
       "    </tr>\n",
       "    <tr>\n",
       "      <th>3</th>\n",
       "      <td>2.0</td>\n",
       "      <td>2.0</td>\n",
       "      <td>NaN</td>\n",
       "    </tr>\n",
       "    <tr>\n",
       "      <th>4</th>\n",
       "      <td>2.0</td>\n",
       "      <td>NaN</td>\n",
       "      <td>2.0</td>\n",
       "    </tr>\n",
       "    <tr>\n",
       "      <th>5</th>\n",
       "      <td>NaN</td>\n",
       "      <td>NaN</td>\n",
       "      <td>1.0</td>\n",
       "    </tr>\n",
       "  </tbody>\n",
       "</table>\n",
       "</div>"
      ],
      "text/plain": [
       "   Qu1  Qu2  Qu3\n",
       "1  1.0  1.0  1.0\n",
       "2  NaN  2.0  1.0\n",
       "3  2.0  2.0  NaN\n",
       "4  2.0  NaN  2.0\n",
       "5  NaN  NaN  1.0"
      ]
     },
     "execution_count": 73,
     "metadata": {},
     "output_type": "execute_result"
    }
   ],
   "source": [
    "data.apply(pd.value_counts)"
   ]
  },
  {
   "cell_type": "code",
   "execution_count": 75,
   "metadata": {},
   "outputs": [
    {
     "data": {
      "text/html": [
       "<div>\n",
       "<style scoped>\n",
       "    .dataframe tbody tr th:only-of-type {\n",
       "        vertical-align: middle;\n",
       "    }\n",
       "\n",
       "    .dataframe tbody tr th {\n",
       "        vertical-align: top;\n",
       "    }\n",
       "\n",
       "    .dataframe thead th {\n",
       "        text-align: right;\n",
       "    }\n",
       "</style>\n",
       "<table border=\"1\" class=\"dataframe\">\n",
       "  <thead>\n",
       "    <tr style=\"text-align: right;\">\n",
       "      <th></th>\n",
       "      <th>1</th>\n",
       "      <th>2</th>\n",
       "      <th>3</th>\n",
       "      <th>4</th>\n",
       "      <th>5</th>\n",
       "    </tr>\n",
       "  </thead>\n",
       "  <tbody>\n",
       "    <tr>\n",
       "      <th>0</th>\n",
       "      <td>2.0</td>\n",
       "      <td>1.0</td>\n",
       "      <td>NaN</td>\n",
       "      <td>NaN</td>\n",
       "      <td>NaN</td>\n",
       "    </tr>\n",
       "    <tr>\n",
       "      <th>1</th>\n",
       "      <td>NaN</td>\n",
       "      <td>NaN</td>\n",
       "      <td>2.0</td>\n",
       "      <td>NaN</td>\n",
       "      <td>1.0</td>\n",
       "    </tr>\n",
       "    <tr>\n",
       "      <th>2</th>\n",
       "      <td>1.0</td>\n",
       "      <td>1.0</td>\n",
       "      <td>NaN</td>\n",
       "      <td>1.0</td>\n",
       "      <td>NaN</td>\n",
       "    </tr>\n",
       "    <tr>\n",
       "      <th>3</th>\n",
       "      <td>NaN</td>\n",
       "      <td>1.0</td>\n",
       "      <td>1.0</td>\n",
       "      <td>1.0</td>\n",
       "      <td>NaN</td>\n",
       "    </tr>\n",
       "    <tr>\n",
       "      <th>4</th>\n",
       "      <td>NaN</td>\n",
       "      <td>NaN</td>\n",
       "      <td>1.0</td>\n",
       "      <td>2.0</td>\n",
       "      <td>NaN</td>\n",
       "    </tr>\n",
       "  </tbody>\n",
       "</table>\n",
       "</div>"
      ],
      "text/plain": [
       "     1    2    3    4    5\n",
       "0  2.0  1.0  NaN  NaN  NaN\n",
       "1  NaN  NaN  2.0  NaN  1.0\n",
       "2  1.0  1.0  NaN  1.0  NaN\n",
       "3  NaN  1.0  1.0  1.0  NaN\n",
       "4  NaN  NaN  1.0  2.0  NaN"
      ]
     },
     "execution_count": 75,
     "metadata": {},
     "output_type": "execute_result"
    }
   ],
   "source": [
    "data.apply(pd.value_counts, axis=1)"
   ]
  },
  {
   "cell_type": "code",
   "execution_count": 77,
   "metadata": {},
   "outputs": [
    {
     "data": {
      "text/html": [
       "<div>\n",
       "<style scoped>\n",
       "    .dataframe tbody tr th:only-of-type {\n",
       "        vertical-align: middle;\n",
       "    }\n",
       "\n",
       "    .dataframe tbody tr th {\n",
       "        vertical-align: top;\n",
       "    }\n",
       "\n",
       "    .dataframe thead th {\n",
       "        text-align: right;\n",
       "    }\n",
       "</style>\n",
       "<table border=\"1\" class=\"dataframe\">\n",
       "  <thead>\n",
       "    <tr style=\"text-align: right;\">\n",
       "      <th></th>\n",
       "      <th>Qu1</th>\n",
       "    </tr>\n",
       "  </thead>\n",
       "  <tbody>\n",
       "    <tr>\n",
       "      <th>4</th>\n",
       "      <td>2</td>\n",
       "    </tr>\n",
       "    <tr>\n",
       "      <th>3</th>\n",
       "      <td>2</td>\n",
       "    </tr>\n",
       "    <tr>\n",
       "      <th>1</th>\n",
       "      <td>1</td>\n",
       "    </tr>\n",
       "  </tbody>\n",
       "</table>\n",
       "</div>"
      ],
      "text/plain": [
       "   Qu1\n",
       "4    2\n",
       "3    2\n",
       "1    1"
      ]
     },
     "execution_count": 77,
     "metadata": {},
     "output_type": "execute_result"
    }
   ],
   "source": [
    "data_ = pd.DataFrame({'Qu1':[1,3,4,3,4],})\n",
    "data_.apply(pd.value_counts)"
   ]
  },
  {
   "cell_type": "code",
   "execution_count": 80,
   "metadata": {},
   "outputs": [
    {
     "data": {
      "text/plain": [
       "4    2\n",
       "3    2\n",
       "1    1\n",
       "Name: Qu1, dtype: int64"
      ]
     },
     "execution_count": 80,
     "metadata": {},
     "output_type": "execute_result"
    }
   ],
   "source": [
    "data.iloc[:,0].value_counts()"
   ]
  },
  {
   "cell_type": "code",
   "execution_count": 1,
   "metadata": {},
   "outputs": [],
   "source": [
    "import requests\n",
    "import pandas as pd"
   ]
  },
  {
   "cell_type": "code",
   "execution_count": 8,
   "metadata": {},
   "outputs": [],
   "source": [
    "proxies = {\n",
    "  'http': 'http://localhost:1080',\n",
    "  'https': 'http://localhost:1080',\n",
    "}\n",
    "\n",
    "header = {\n",
    "    'User-Agent': 'Mozilla/5.0 (Windows NT 10.0; Win64; x64) AppleWebKit/537.36 (KHTML, like Gecko) Chrome/68.0.3440.106 Safari/537.36'\n",
    "}\n",
    "url = requests.get('https://zh.wikipedia.org/wiki/%E6%A2%85%E8%A5%BF%E8%80%B6%E5%A4%A9%E4%BD%93%E5%88%97%E8%A1%A8', proxies=proxies)"
   ]
  },
  {
   "cell_type": "code",
   "execution_count": 7,
   "metadata": {},
   "outputs": [
    {
     "data": {
      "text/html": [
       "<div>\n",
       "<style scoped>\n",
       "    .dataframe tbody tr th:only-of-type {\n",
       "        vertical-align: middle;\n",
       "    }\n",
       "\n",
       "    .dataframe tbody tr th {\n",
       "        vertical-align: top;\n",
       "    }\n",
       "\n",
       "    .dataframe thead th {\n",
       "        text-align: right;\n",
       "    }\n",
       "</style>\n",
       "<table border=\"1\" class=\"dataframe\">\n",
       "  <thead>\n",
       "    <tr style=\"text-align: right;\">\n",
       "      <th></th>\n",
       "      <th>0</th>\n",
       "      <th>1</th>\n",
       "      <th>2</th>\n",
       "      <th>3</th>\n",
       "      <th>4</th>\n",
       "      <th>5</th>\n",
       "      <th>6</th>\n",
       "      <th>7</th>\n",
       "      <th>8</th>\n",
       "    </tr>\n",
       "  </thead>\n",
       "  <tbody>\n",
       "    <tr>\n",
       "      <th>0</th>\n",
       "      <td>梅西耶編號</td>\n",
       "      <td>NGC/IC編號</td>\n",
       "      <td>通稱</td>\n",
       "      <td>圖片</td>\n",
       "      <td>種類</td>\n",
       "      <td>距離（千光年）</td>\n",
       "      <td>所屬星座</td>\n",
       "      <td>視星等</td>\n",
       "      <td>來源</td>\n",
       "    </tr>\n",
       "    <tr>\n",
       "      <th>1</th>\n",
       "      <td>M1</td>\n",
       "      <td>NGC 1952</td>\n",
       "      <td>蟹狀星雲</td>\n",
       "      <td>NaN</td>\n",
       "      <td>超新星殘骸</td>\n",
       "      <td>4.9-8.1</td>\n",
       "      <td>金牛座</td>\n",
       "      <td>8.4</td>\n",
       "      <td>[10]</td>\n",
       "    </tr>\n",
       "    <tr>\n",
       "      <th>2</th>\n",
       "      <td>M2</td>\n",
       "      <td>NGC 7089</td>\n",
       "      <td>NaN</td>\n",
       "      <td>NaN</td>\n",
       "      <td>球狀星團</td>\n",
       "      <td>33</td>\n",
       "      <td>水瓶座</td>\n",
       "      <td>6.3</td>\n",
       "      <td>[11]</td>\n",
       "    </tr>\n",
       "    <tr>\n",
       "      <th>3</th>\n",
       "      <td>M3</td>\n",
       "      <td>NGC 5272</td>\n",
       "      <td>NaN</td>\n",
       "      <td>NaN</td>\n",
       "      <td>球狀星團</td>\n",
       "      <td>33.9</td>\n",
       "      <td>獵犬座</td>\n",
       "      <td>6.2</td>\n",
       "      <td>[12]</td>\n",
       "    </tr>\n",
       "    <tr>\n",
       "      <th>4</th>\n",
       "      <td>M4</td>\n",
       "      <td>NGC 6121</td>\n",
       "      <td>NaN</td>\n",
       "      <td>NaN</td>\n",
       "      <td>球狀星團</td>\n",
       "      <td>7.2</td>\n",
       "      <td>天蠍座</td>\n",
       "      <td>5.9</td>\n",
       "      <td>[13]</td>\n",
       "    </tr>\n",
       "    <tr>\n",
       "      <th>5</th>\n",
       "      <td>M5</td>\n",
       "      <td>NGC 5904</td>\n",
       "      <td>NaN</td>\n",
       "      <td>NaN</td>\n",
       "      <td>球狀星團</td>\n",
       "      <td>24.5</td>\n",
       "      <td>巨蛇座</td>\n",
       "      <td>6.7</td>\n",
       "      <td>[14]</td>\n",
       "    </tr>\n",
       "    <tr>\n",
       "      <th>6</th>\n",
       "      <td>M6</td>\n",
       "      <td>NGC 6405</td>\n",
       "      <td>蝴蝶星團</td>\n",
       "      <td>NaN</td>\n",
       "      <td>疏散星團</td>\n",
       "      <td>1.6</td>\n",
       "      <td>天蠍座</td>\n",
       "      <td>4.2</td>\n",
       "      <td>[15]</td>\n",
       "    </tr>\n",
       "    <tr>\n",
       "      <th>7</th>\n",
       "      <td>M7</td>\n",
       "      <td>NGC 6475</td>\n",
       "      <td>托勒密星團</td>\n",
       "      <td>NaN</td>\n",
       "      <td>疏散星團</td>\n",
       "      <td>0.65-1.31</td>\n",
       "      <td>天蠍座</td>\n",
       "      <td>3.3</td>\n",
       "      <td>[16]</td>\n",
       "    </tr>\n",
       "    <tr>\n",
       "      <th>8</th>\n",
       "      <td>M8</td>\n",
       "      <td>NGC 6523</td>\n",
       "      <td>礁湖星雲</td>\n",
       "      <td>NaN</td>\n",
       "      <td>發射星雲與疏散星團</td>\n",
       "      <td>4.1</td>\n",
       "      <td>人馬座</td>\n",
       "      <td>6.0</td>\n",
       "      <td>[17]</td>\n",
       "    </tr>\n",
       "    <tr>\n",
       "      <th>9</th>\n",
       "      <td>M9</td>\n",
       "      <td>NGC 6333</td>\n",
       "      <td>NaN</td>\n",
       "      <td>NaN</td>\n",
       "      <td>球狀星團</td>\n",
       "      <td>25.8</td>\n",
       "      <td>蛇夫座</td>\n",
       "      <td>8.4</td>\n",
       "      <td>[18]</td>\n",
       "    </tr>\n",
       "    <tr>\n",
       "      <th>10</th>\n",
       "      <td>M10</td>\n",
       "      <td>NGC 6254</td>\n",
       "      <td>NaN</td>\n",
       "      <td>NaN</td>\n",
       "      <td>球狀星團</td>\n",
       "      <td>14.3</td>\n",
       "      <td>蛇夫座</td>\n",
       "      <td>6.4</td>\n",
       "      <td>[19]</td>\n",
       "    </tr>\n",
       "    <tr>\n",
       "      <th>11</th>\n",
       "      <td>M11</td>\n",
       "      <td>NGC 6705</td>\n",
       "      <td>野鴨星團</td>\n",
       "      <td>NaN</td>\n",
       "      <td>疏散星團</td>\n",
       "      <td>6.2</td>\n",
       "      <td>盾牌座</td>\n",
       "      <td>6.3</td>\n",
       "      <td>[20]</td>\n",
       "    </tr>\n",
       "    <tr>\n",
       "      <th>12</th>\n",
       "      <td>M12</td>\n",
       "      <td>NGC 6218</td>\n",
       "      <td>NaN</td>\n",
       "      <td>NaN</td>\n",
       "      <td>球狀星團</td>\n",
       "      <td>15.7</td>\n",
       "      <td>蛇夫座</td>\n",
       "      <td>7.7</td>\n",
       "      <td>[21]</td>\n",
       "    </tr>\n",
       "    <tr>\n",
       "      <th>13</th>\n",
       "      <td>M13</td>\n",
       "      <td>NGC 6205</td>\n",
       "      <td>武仙座球狀星團</td>\n",
       "      <td>NaN</td>\n",
       "      <td>球狀星團</td>\n",
       "      <td>22.2</td>\n",
       "      <td>武仙座</td>\n",
       "      <td>5.8</td>\n",
       "      <td>[22]</td>\n",
       "    </tr>\n",
       "    <tr>\n",
       "      <th>14</th>\n",
       "      <td>M14</td>\n",
       "      <td>NGC 6402</td>\n",
       "      <td>NaN</td>\n",
       "      <td>NaN</td>\n",
       "      <td>球狀星團</td>\n",
       "      <td>30.3</td>\n",
       "      <td>蛇夫座</td>\n",
       "      <td>8.3</td>\n",
       "      <td>[23]</td>\n",
       "    </tr>\n",
       "    <tr>\n",
       "      <th>15</th>\n",
       "      <td>M15</td>\n",
       "      <td>NGC 7078</td>\n",
       "      <td>NaN</td>\n",
       "      <td>NaN</td>\n",
       "      <td>球狀星團</td>\n",
       "      <td>33</td>\n",
       "      <td>飛馬座</td>\n",
       "      <td>6.2</td>\n",
       "      <td>[24]</td>\n",
       "    </tr>\n",
       "    <tr>\n",
       "      <th>16</th>\n",
       "      <td>M16</td>\n",
       "      <td>NGC 6611</td>\n",
       "      <td>鷹星雲</td>\n",
       "      <td>NaN</td>\n",
       "      <td>發射星雲、電離氫區與疏散星團</td>\n",
       "      <td>7</td>\n",
       "      <td>巨蛇座</td>\n",
       "      <td>6.0</td>\n",
       "      <td>[25]</td>\n",
       "    </tr>\n",
       "    <tr>\n",
       "      <th>17</th>\n",
       "      <td>M17</td>\n",
       "      <td>NGC 6618</td>\n",
       "      <td>天鵝星雲、奧米加星雲、馬蹄星雲或龍蝦星雲</td>\n",
       "      <td>NaN</td>\n",
       "      <td>發射星雲、電離氫區與疏散星團</td>\n",
       "      <td>5-6</td>\n",
       "      <td>人馬座</td>\n",
       "      <td>6.0</td>\n",
       "      <td>[26]</td>\n",
       "    </tr>\n",
       "    <tr>\n",
       "      <th>18</th>\n",
       "      <td>M18</td>\n",
       "      <td>NGC 6613</td>\n",
       "      <td>NaN</td>\n",
       "      <td>NaN</td>\n",
       "      <td>疏散星團</td>\n",
       "      <td>4.9</td>\n",
       "      <td>人馬座</td>\n",
       "      <td>7.5</td>\n",
       "      <td>[27]</td>\n",
       "    </tr>\n",
       "    <tr>\n",
       "      <th>19</th>\n",
       "      <td>M19</td>\n",
       "      <td>NGC 6273</td>\n",
       "      <td>NaN</td>\n",
       "      <td>NaN</td>\n",
       "      <td>球狀星團</td>\n",
       "      <td>28.7</td>\n",
       "      <td>蛇夫座</td>\n",
       "      <td>7.5</td>\n",
       "      <td>[28]</td>\n",
       "    </tr>\n",
       "    <tr>\n",
       "      <th>20</th>\n",
       "      <td>M20</td>\n",
       "      <td>NGC 6514</td>\n",
       "      <td>三裂星雲</td>\n",
       "      <td>NaN</td>\n",
       "      <td>發射星雲、電離氫區與疏散星團</td>\n",
       "      <td>5.2</td>\n",
       "      <td>人馬座</td>\n",
       "      <td>6.3</td>\n",
       "      <td>[29]</td>\n",
       "    </tr>\n",
       "    <tr>\n",
       "      <th>21</th>\n",
       "      <td>M21</td>\n",
       "      <td>NGC 6531</td>\n",
       "      <td>NaN</td>\n",
       "      <td>NaN</td>\n",
       "      <td>疏散星團</td>\n",
       "      <td>4.25</td>\n",
       "      <td>人馬座</td>\n",
       "      <td>6.5</td>\n",
       "      <td>[30]</td>\n",
       "    </tr>\n",
       "    <tr>\n",
       "      <th>22</th>\n",
       "      <td>M22</td>\n",
       "      <td>NGC 6656</td>\n",
       "      <td>人馬座星團</td>\n",
       "      <td>NaN</td>\n",
       "      <td>球狀星團</td>\n",
       "      <td>9.6-11.6</td>\n",
       "      <td>人馬座</td>\n",
       "      <td>5.1</td>\n",
       "      <td>[31]</td>\n",
       "    </tr>\n",
       "    <tr>\n",
       "      <th>23</th>\n",
       "      <td>M23</td>\n",
       "      <td>NGC 6494</td>\n",
       "      <td>NaN</td>\n",
       "      <td>NaN</td>\n",
       "      <td>疏散星團</td>\n",
       "      <td>2.15</td>\n",
       "      <td>人馬座</td>\n",
       "      <td>6.9</td>\n",
       "      <td>[32]</td>\n",
       "    </tr>\n",
       "    <tr>\n",
       "      <th>24</th>\n",
       "      <td>M24</td>\n",
       "      <td>IC 4715</td>\n",
       "      <td>人馬座恆星雲</td>\n",
       "      <td>NaN</td>\n",
       "      <td>銀河系恆星雲</td>\n",
       "      <td>~10</td>\n",
       "      <td>人馬座</td>\n",
       "      <td>4.6</td>\n",
       "      <td>[33]</td>\n",
       "    </tr>\n",
       "    <tr>\n",
       "      <th>25</th>\n",
       "      <td>M25</td>\n",
       "      <td>IC 4725</td>\n",
       "      <td>NaN</td>\n",
       "      <td>NaN</td>\n",
       "      <td>疏散星團</td>\n",
       "      <td>2.0</td>\n",
       "      <td>人馬座</td>\n",
       "      <td>4.6</td>\n",
       "      <td>[34]</td>\n",
       "    </tr>\n",
       "    <tr>\n",
       "      <th>26</th>\n",
       "      <td>M26</td>\n",
       "      <td>NGC 6694</td>\n",
       "      <td>NaN</td>\n",
       "      <td>NaN</td>\n",
       "      <td>疏散星團</td>\n",
       "      <td>5.0</td>\n",
       "      <td>盾牌座</td>\n",
       "      <td>8.0</td>\n",
       "      <td>[35]</td>\n",
       "    </tr>\n",
       "    <tr>\n",
       "      <th>27</th>\n",
       "      <td>M27</td>\n",
       "      <td>NGC 6853</td>\n",
       "      <td>啞鈴星雲</td>\n",
       "      <td>NaN</td>\n",
       "      <td>行星狀星雲</td>\n",
       "      <td>1.148-1.52</td>\n",
       "      <td>狐狸座</td>\n",
       "      <td>7.5</td>\n",
       "      <td>[36]</td>\n",
       "    </tr>\n",
       "    <tr>\n",
       "      <th>28</th>\n",
       "      <td>M28</td>\n",
       "      <td>NGC 6626</td>\n",
       "      <td>NaN</td>\n",
       "      <td>NaN</td>\n",
       "      <td>球狀星團</td>\n",
       "      <td>17.9</td>\n",
       "      <td>人馬座</td>\n",
       "      <td>7.7</td>\n",
       "      <td>[37]</td>\n",
       "    </tr>\n",
       "    <tr>\n",
       "      <th>29</th>\n",
       "      <td>M29</td>\n",
       "      <td>NGC 6913</td>\n",
       "      <td>NaN</td>\n",
       "      <td>NaN</td>\n",
       "      <td>疏散星團</td>\n",
       "      <td>7.2</td>\n",
       "      <td>天鵝座</td>\n",
       "      <td>7.1</td>\n",
       "      <td>[38]</td>\n",
       "    </tr>\n",
       "    <tr>\n",
       "      <th>...</th>\n",
       "      <td>...</td>\n",
       "      <td>...</td>\n",
       "      <td>...</td>\n",
       "      <td>...</td>\n",
       "      <td>...</td>\n",
       "      <td>...</td>\n",
       "      <td>...</td>\n",
       "      <td>...</td>\n",
       "      <td>...</td>\n",
       "    </tr>\n",
       "    <tr>\n",
       "      <th>81</th>\n",
       "      <td>M81</td>\n",
       "      <td>NGC 3031</td>\n",
       "      <td>波德星系</td>\n",
       "      <td>NaN</td>\n",
       "      <td>螺旋星系</td>\n",
       "      <td>11400-12200</td>\n",
       "      <td>大熊座</td>\n",
       "      <td>6.9</td>\n",
       "      <td>[90]</td>\n",
       "    </tr>\n",
       "    <tr>\n",
       "      <th>82</th>\n",
       "      <td>M82</td>\n",
       "      <td>NGC 3034</td>\n",
       "      <td>雪茄星系</td>\n",
       "      <td>NaN</td>\n",
       "      <td>星暴星系</td>\n",
       "      <td>10700-12300</td>\n",
       "      <td>大熊座</td>\n",
       "      <td>8.4</td>\n",
       "      <td>[91]</td>\n",
       "    </tr>\n",
       "    <tr>\n",
       "      <th>83</th>\n",
       "      <td>M83</td>\n",
       "      <td>NGC 5236</td>\n",
       "      <td>南風車星系</td>\n",
       "      <td>NaN</td>\n",
       "      <td>棒旋星系</td>\n",
       "      <td>14700</td>\n",
       "      <td>長蛇座</td>\n",
       "      <td>7.5</td>\n",
       "      <td>[92]</td>\n",
       "    </tr>\n",
       "    <tr>\n",
       "      <th>84</th>\n",
       "      <td>M84</td>\n",
       "      <td>NGC 4374</td>\n",
       "      <td>NaN</td>\n",
       "      <td>NaN</td>\n",
       "      <td>透鏡星系</td>\n",
       "      <td>57000-63000</td>\n",
       "      <td>室女座</td>\n",
       "      <td>10.1</td>\n",
       "      <td>[93]</td>\n",
       "    </tr>\n",
       "    <tr>\n",
       "      <th>85</th>\n",
       "      <td>M85</td>\n",
       "      <td>NGC 4382</td>\n",
       "      <td>NaN</td>\n",
       "      <td>NaN</td>\n",
       "      <td>透鏡狀星系</td>\n",
       "      <td>56000-64000</td>\n",
       "      <td>后髮座</td>\n",
       "      <td>10.0</td>\n",
       "      <td>[94]</td>\n",
       "    </tr>\n",
       "    <tr>\n",
       "      <th>86</th>\n",
       "      <td>M86</td>\n",
       "      <td>NGC 4406</td>\n",
       "      <td>NaN</td>\n",
       "      <td>NaN</td>\n",
       "      <td>透鏡狀星系</td>\n",
       "      <td>55000-65000</td>\n",
       "      <td>室女座</td>\n",
       "      <td>8.9</td>\n",
       "      <td>[95]</td>\n",
       "    </tr>\n",
       "    <tr>\n",
       "      <th>87</th>\n",
       "      <td>M87</td>\n",
       "      <td>NGC 4486</td>\n",
       "      <td>室女A星系</td>\n",
       "      <td>NaN</td>\n",
       "      <td>橢圓星系</td>\n",
       "      <td>51870-55130</td>\n",
       "      <td>室女座</td>\n",
       "      <td>9.6</td>\n",
       "      <td>[96]</td>\n",
       "    </tr>\n",
       "    <tr>\n",
       "      <th>88</th>\n",
       "      <td>M88</td>\n",
       "      <td>NGC 4501</td>\n",
       "      <td>NaN</td>\n",
       "      <td>NaN</td>\n",
       "      <td>螺旋星系</td>\n",
       "      <td>39000-56000</td>\n",
       "      <td>后髮座</td>\n",
       "      <td>10.4</td>\n",
       "      <td>[97]</td>\n",
       "    </tr>\n",
       "    <tr>\n",
       "      <th>89</th>\n",
       "      <td>M89</td>\n",
       "      <td>NGC 4552</td>\n",
       "      <td>NaN</td>\n",
       "      <td>NaN</td>\n",
       "      <td>橢圓星系</td>\n",
       "      <td>47000-53000</td>\n",
       "      <td>室女座</td>\n",
       "      <td>10.7</td>\n",
       "      <td>[98]</td>\n",
       "    </tr>\n",
       "    <tr>\n",
       "      <th>90</th>\n",
       "      <td>M90</td>\n",
       "      <td>NGC 4569</td>\n",
       "      <td>NaN</td>\n",
       "      <td>NaN</td>\n",
       "      <td>螺旋星系</td>\n",
       "      <td>55900-61500</td>\n",
       "      <td>室女座</td>\n",
       "      <td>10.3</td>\n",
       "      <td>[99]</td>\n",
       "    </tr>\n",
       "    <tr>\n",
       "      <th>91</th>\n",
       "      <td>M91</td>\n",
       "      <td>NGC 4548</td>\n",
       "      <td>NaN</td>\n",
       "      <td>NaN</td>\n",
       "      <td>棒旋星系</td>\n",
       "      <td>47000-79000</td>\n",
       "      <td>后髮座</td>\n",
       "      <td>11.0</td>\n",
       "      <td>[100]</td>\n",
       "    </tr>\n",
       "    <tr>\n",
       "      <th>92</th>\n",
       "      <td>M92</td>\n",
       "      <td>NGC 6341</td>\n",
       "      <td>NaN</td>\n",
       "      <td>NaN</td>\n",
       "      <td>球狀星團</td>\n",
       "      <td>26.7</td>\n",
       "      <td>武仙座</td>\n",
       "      <td>6.3</td>\n",
       "      <td>[101]</td>\n",
       "    </tr>\n",
       "    <tr>\n",
       "      <th>93</th>\n",
       "      <td>M93</td>\n",
       "      <td>NGC 2447</td>\n",
       "      <td>NaN</td>\n",
       "      <td>NaN</td>\n",
       "      <td>疏散星團</td>\n",
       "      <td>3.6</td>\n",
       "      <td>船尾座</td>\n",
       "      <td>6.0</td>\n",
       "      <td>[102]</td>\n",
       "    </tr>\n",
       "    <tr>\n",
       "      <th>94</th>\n",
       "      <td>M94</td>\n",
       "      <td>NGC 4736</td>\n",
       "      <td>NaN</td>\n",
       "      <td>NaN</td>\n",
       "      <td>螺旋星系</td>\n",
       "      <td>14700-17300</td>\n",
       "      <td>獵犬座</td>\n",
       "      <td>9.0</td>\n",
       "      <td>[103]</td>\n",
       "    </tr>\n",
       "    <tr>\n",
       "      <th>95</th>\n",
       "      <td>M95</td>\n",
       "      <td>NGC 3351</td>\n",
       "      <td>NaN</td>\n",
       "      <td>NaN</td>\n",
       "      <td>棒旋星系</td>\n",
       "      <td>31200-34000</td>\n",
       "      <td>獅子座</td>\n",
       "      <td>11.4</td>\n",
       "      <td>[104]</td>\n",
       "    </tr>\n",
       "    <tr>\n",
       "      <th>96</th>\n",
       "      <td>M96</td>\n",
       "      <td>NGC 3368</td>\n",
       "      <td>NaN</td>\n",
       "      <td>NaN</td>\n",
       "      <td>螺旋星系</td>\n",
       "      <td>28000-34000</td>\n",
       "      <td>獅子座</td>\n",
       "      <td>10.1</td>\n",
       "      <td>[105]</td>\n",
       "    </tr>\n",
       "    <tr>\n",
       "      <th>97</th>\n",
       "      <td>M97</td>\n",
       "      <td>NGC 3587</td>\n",
       "      <td>貓頭鷹星雲</td>\n",
       "      <td>NaN</td>\n",
       "      <td>行星狀星雲</td>\n",
       "      <td>2.03</td>\n",
       "      <td>大熊座</td>\n",
       "      <td>9.9</td>\n",
       "      <td>[106]</td>\n",
       "    </tr>\n",
       "    <tr>\n",
       "      <th>98</th>\n",
       "      <td>M98</td>\n",
       "      <td>NGC 4192</td>\n",
       "      <td>NaN</td>\n",
       "      <td>NaN</td>\n",
       "      <td>螺旋星系</td>\n",
       "      <td>44400</td>\n",
       "      <td>后髮座</td>\n",
       "      <td>11.0</td>\n",
       "      <td>[107]</td>\n",
       "    </tr>\n",
       "    <tr>\n",
       "      <th>99</th>\n",
       "      <td>M99</td>\n",
       "      <td>NGC 4254</td>\n",
       "      <td>NaN</td>\n",
       "      <td>NaN</td>\n",
       "      <td>螺旋星系</td>\n",
       "      <td>44700-55700</td>\n",
       "      <td>后髮座</td>\n",
       "      <td>10.4</td>\n",
       "      <td>[108]</td>\n",
       "    </tr>\n",
       "    <tr>\n",
       "      <th>100</th>\n",
       "      <td>M100</td>\n",
       "      <td>NGC 4321</td>\n",
       "      <td>NaN</td>\n",
       "      <td>NaN</td>\n",
       "      <td>螺旋星系</td>\n",
       "      <td>55000</td>\n",
       "      <td>后髮座</td>\n",
       "      <td>10.1</td>\n",
       "      <td>[109]</td>\n",
       "    </tr>\n",
       "    <tr>\n",
       "      <th>101</th>\n",
       "      <td>M101</td>\n",
       "      <td>NGC 5457</td>\n",
       "      <td>風車星系</td>\n",
       "      <td>NaN</td>\n",
       "      <td>螺旋星系</td>\n",
       "      <td>19100-22400</td>\n",
       "      <td>大熊座</td>\n",
       "      <td>7.9</td>\n",
       "      <td>[110]</td>\n",
       "    </tr>\n",
       "    <tr>\n",
       "      <th>102</th>\n",
       "      <td>M102</td>\n",
       "      <td>（沒有對應的天體）[111]</td>\n",
       "      <td>[112]</td>\n",
       "      <td>NaN</td>\n",
       "      <td>NaN</td>\n",
       "      <td>NaN</td>\n",
       "      <td>NaN</td>\n",
       "      <td>NaN</td>\n",
       "      <td>NaN</td>\n",
       "    </tr>\n",
       "    <tr>\n",
       "      <th>103</th>\n",
       "      <td>M103</td>\n",
       "      <td>NGC 581</td>\n",
       "      <td>NaN</td>\n",
       "      <td>NaN</td>\n",
       "      <td>疏散星團</td>\n",
       "      <td>10</td>\n",
       "      <td>仙后座</td>\n",
       "      <td>7.4</td>\n",
       "      <td>[113]</td>\n",
       "    </tr>\n",
       "    <tr>\n",
       "      <th>104</th>\n",
       "      <td>M104</td>\n",
       "      <td>NGC 4594</td>\n",
       "      <td>墨西哥帽星系</td>\n",
       "      <td>NaN</td>\n",
       "      <td>螺旋星系</td>\n",
       "      <td>28700-30900</td>\n",
       "      <td>室女座</td>\n",
       "      <td>9.0</td>\n",
       "      <td>[114]</td>\n",
       "    </tr>\n",
       "    <tr>\n",
       "      <th>105</th>\n",
       "      <td>M105</td>\n",
       "      <td>NGC 3379</td>\n",
       "      <td>NaN</td>\n",
       "      <td>NaN</td>\n",
       "      <td>橢圓星系</td>\n",
       "      <td>30400-33600</td>\n",
       "      <td>獅子座</td>\n",
       "      <td>10.2</td>\n",
       "      <td>[115]</td>\n",
       "    </tr>\n",
       "    <tr>\n",
       "      <th>106</th>\n",
       "      <td>M106</td>\n",
       "      <td>NGC 4258</td>\n",
       "      <td>NaN</td>\n",
       "      <td>NaN</td>\n",
       "      <td>螺旋星系</td>\n",
       "      <td>22200-25200</td>\n",
       "      <td>獵犬座</td>\n",
       "      <td>9.1</td>\n",
       "      <td>[116]</td>\n",
       "    </tr>\n",
       "    <tr>\n",
       "      <th>107</th>\n",
       "      <td>M107</td>\n",
       "      <td>NGC 6171</td>\n",
       "      <td>NaN</td>\n",
       "      <td>NaN</td>\n",
       "      <td>球狀星團</td>\n",
       "      <td>20.9</td>\n",
       "      <td>蛇夫座</td>\n",
       "      <td>8.9</td>\n",
       "      <td>[117]</td>\n",
       "    </tr>\n",
       "    <tr>\n",
       "      <th>108</th>\n",
       "      <td>M108</td>\n",
       "      <td>NGC 3556</td>\n",
       "      <td>NaN</td>\n",
       "      <td>NaN</td>\n",
       "      <td>螺旋星系</td>\n",
       "      <td>46000</td>\n",
       "      <td>大熊座</td>\n",
       "      <td>10.7</td>\n",
       "      <td>[118]</td>\n",
       "    </tr>\n",
       "    <tr>\n",
       "      <th>109</th>\n",
       "      <td>M109</td>\n",
       "      <td>NGC 3992</td>\n",
       "      <td>NaN</td>\n",
       "      <td>NaN</td>\n",
       "      <td>棒旋星系</td>\n",
       "      <td>59500-107500</td>\n",
       "      <td>大熊座</td>\n",
       "      <td>10.6</td>\n",
       "      <td>[119]</td>\n",
       "    </tr>\n",
       "    <tr>\n",
       "      <th>110</th>\n",
       "      <td>M110</td>\n",
       "      <td>NGC 205</td>\n",
       "      <td>NaN</td>\n",
       "      <td>NaN</td>\n",
       "      <td>矮橢圓星系</td>\n",
       "      <td>2600-2780</td>\n",
       "      <td>仙女座</td>\n",
       "      <td>9.0</td>\n",
       "      <td>[120]</td>\n",
       "    </tr>\n",
       "  </tbody>\n",
       "</table>\n",
       "<p>111 rows × 9 columns</p>\n",
       "</div>"
      ],
      "text/plain": [
       "         0               1                     2    3               4  \\\n",
       "0    梅西耶編號        NGC/IC編號                    通稱   圖片              種類   \n",
       "1       M1        NGC 1952                  蟹狀星雲  NaN           超新星殘骸   \n",
       "2       M2        NGC 7089                   NaN  NaN            球狀星團   \n",
       "3       M3        NGC 5272                   NaN  NaN            球狀星團   \n",
       "4       M4        NGC 6121                   NaN  NaN            球狀星團   \n",
       "5       M5        NGC 5904                   NaN  NaN            球狀星團   \n",
       "6       M6        NGC 6405                  蝴蝶星團  NaN            疏散星團   \n",
       "7       M7        NGC 6475                 托勒密星團  NaN            疏散星團   \n",
       "8       M8        NGC 6523                  礁湖星雲  NaN       發射星雲與疏散星團   \n",
       "9       M9        NGC 6333                   NaN  NaN            球狀星團   \n",
       "10     M10        NGC 6254                   NaN  NaN            球狀星團   \n",
       "11     M11        NGC 6705                  野鴨星團  NaN            疏散星團   \n",
       "12     M12        NGC 6218                   NaN  NaN            球狀星團   \n",
       "13     M13        NGC 6205               武仙座球狀星團  NaN            球狀星團   \n",
       "14     M14        NGC 6402                   NaN  NaN            球狀星團   \n",
       "15     M15        NGC 7078                   NaN  NaN            球狀星團   \n",
       "16     M16        NGC 6611                   鷹星雲  NaN  發射星雲、電離氫區與疏散星團   \n",
       "17     M17        NGC 6618  天鵝星雲、奧米加星雲、馬蹄星雲或龍蝦星雲  NaN  發射星雲、電離氫區與疏散星團   \n",
       "18     M18        NGC 6613                   NaN  NaN            疏散星團   \n",
       "19     M19        NGC 6273                   NaN  NaN            球狀星團   \n",
       "20     M20        NGC 6514                  三裂星雲  NaN  發射星雲、電離氫區與疏散星團   \n",
       "21     M21        NGC 6531                   NaN  NaN            疏散星團   \n",
       "22     M22        NGC 6656                 人馬座星團  NaN            球狀星團   \n",
       "23     M23        NGC 6494                   NaN  NaN            疏散星團   \n",
       "24     M24         IC 4715                人馬座恆星雲  NaN          銀河系恆星雲   \n",
       "25     M25         IC 4725                   NaN  NaN            疏散星團   \n",
       "26     M26        NGC 6694                   NaN  NaN            疏散星團   \n",
       "27     M27        NGC 6853                  啞鈴星雲  NaN           行星狀星雲   \n",
       "28     M28        NGC 6626                   NaN  NaN            球狀星團   \n",
       "29     M29        NGC 6913                   NaN  NaN            疏散星團   \n",
       "..     ...             ...                   ...  ...             ...   \n",
       "81     M81        NGC 3031                  波德星系  NaN            螺旋星系   \n",
       "82     M82        NGC 3034                  雪茄星系  NaN            星暴星系   \n",
       "83     M83        NGC 5236                 南風車星系  NaN            棒旋星系   \n",
       "84     M84        NGC 4374                   NaN  NaN            透鏡星系   \n",
       "85     M85        NGC 4382                   NaN  NaN           透鏡狀星系   \n",
       "86     M86        NGC 4406                   NaN  NaN           透鏡狀星系   \n",
       "87     M87        NGC 4486                 室女A星系  NaN            橢圓星系   \n",
       "88     M88        NGC 4501                   NaN  NaN            螺旋星系   \n",
       "89     M89        NGC 4552                   NaN  NaN            橢圓星系   \n",
       "90     M90        NGC 4569                   NaN  NaN            螺旋星系   \n",
       "91     M91        NGC 4548                   NaN  NaN            棒旋星系   \n",
       "92     M92        NGC 6341                   NaN  NaN            球狀星團   \n",
       "93     M93        NGC 2447                   NaN  NaN            疏散星團   \n",
       "94     M94        NGC 4736                   NaN  NaN            螺旋星系   \n",
       "95     M95        NGC 3351                   NaN  NaN            棒旋星系   \n",
       "96     M96        NGC 3368                   NaN  NaN            螺旋星系   \n",
       "97     M97        NGC 3587                 貓頭鷹星雲  NaN           行星狀星雲   \n",
       "98     M98        NGC 4192                   NaN  NaN            螺旋星系   \n",
       "99     M99        NGC 4254                   NaN  NaN            螺旋星系   \n",
       "100   M100        NGC 4321                   NaN  NaN            螺旋星系   \n",
       "101   M101        NGC 5457                  風車星系  NaN            螺旋星系   \n",
       "102   M102  （沒有對應的天體）[111]                 [112]  NaN             NaN   \n",
       "103   M103         NGC 581                   NaN  NaN            疏散星團   \n",
       "104   M104        NGC 4594                墨西哥帽星系  NaN            螺旋星系   \n",
       "105   M105        NGC 3379                   NaN  NaN            橢圓星系   \n",
       "106   M106        NGC 4258                   NaN  NaN            螺旋星系   \n",
       "107   M107        NGC 6171                   NaN  NaN            球狀星團   \n",
       "108   M108        NGC 3556                   NaN  NaN            螺旋星系   \n",
       "109   M109        NGC 3992                   NaN  NaN            棒旋星系   \n",
       "110   M110         NGC 205                   NaN  NaN           矮橢圓星系   \n",
       "\n",
       "                5     6     7      8  \n",
       "0         距離（千光年）  所屬星座   視星等     來源  \n",
       "1         4.9-8.1   金牛座   8.4   [10]  \n",
       "2              33   水瓶座   6.3   [11]  \n",
       "3            33.9   獵犬座   6.2   [12]  \n",
       "4             7.2   天蠍座   5.9   [13]  \n",
       "5            24.5   巨蛇座   6.7   [14]  \n",
       "6             1.6   天蠍座   4.2   [15]  \n",
       "7       0.65-1.31   天蠍座   3.3   [16]  \n",
       "8             4.1   人馬座   6.0   [17]  \n",
       "9            25.8   蛇夫座   8.4   [18]  \n",
       "10           14.3   蛇夫座   6.4   [19]  \n",
       "11            6.2   盾牌座   6.3   [20]  \n",
       "12           15.7   蛇夫座   7.7   [21]  \n",
       "13           22.2   武仙座   5.8   [22]  \n",
       "14           30.3   蛇夫座   8.3   [23]  \n",
       "15             33   飛馬座   6.2   [24]  \n",
       "16              7   巨蛇座   6.0   [25]  \n",
       "17            5-6   人馬座   6.0   [26]  \n",
       "18            4.9   人馬座   7.5   [27]  \n",
       "19           28.7   蛇夫座   7.5   [28]  \n",
       "20            5.2   人馬座   6.3   [29]  \n",
       "21           4.25   人馬座   6.5   [30]  \n",
       "22       9.6-11.6   人馬座   5.1   [31]  \n",
       "23           2.15   人馬座   6.9   [32]  \n",
       "24            ~10   人馬座   4.6   [33]  \n",
       "25            2.0   人馬座   4.6   [34]  \n",
       "26            5.0   盾牌座   8.0   [35]  \n",
       "27     1.148-1.52   狐狸座   7.5   [36]  \n",
       "28           17.9   人馬座   7.7   [37]  \n",
       "29            7.2   天鵝座   7.1   [38]  \n",
       "..            ...   ...   ...    ...  \n",
       "81    11400-12200   大熊座   6.9   [90]  \n",
       "82    10700-12300   大熊座   8.4   [91]  \n",
       "83          14700   長蛇座   7.5   [92]  \n",
       "84    57000-63000   室女座  10.1   [93]  \n",
       "85    56000-64000   后髮座  10.0   [94]  \n",
       "86    55000-65000   室女座   8.9   [95]  \n",
       "87    51870-55130   室女座   9.6   [96]  \n",
       "88    39000-56000   后髮座  10.4   [97]  \n",
       "89    47000-53000   室女座  10.7   [98]  \n",
       "90    55900-61500   室女座  10.3   [99]  \n",
       "91    47000-79000   后髮座  11.0  [100]  \n",
       "92           26.7   武仙座   6.3  [101]  \n",
       "93            3.6   船尾座   6.0  [102]  \n",
       "94    14700-17300   獵犬座   9.0  [103]  \n",
       "95    31200-34000   獅子座  11.4  [104]  \n",
       "96    28000-34000   獅子座  10.1  [105]  \n",
       "97           2.03   大熊座   9.9  [106]  \n",
       "98          44400   后髮座  11.0  [107]  \n",
       "99    44700-55700   后髮座  10.4  [108]  \n",
       "100         55000   后髮座  10.1  [109]  \n",
       "101   19100-22400   大熊座   7.9  [110]  \n",
       "102           NaN   NaN   NaN    NaN  \n",
       "103            10   仙后座   7.4  [113]  \n",
       "104   28700-30900   室女座   9.0  [114]  \n",
       "105   30400-33600   獅子座  10.2  [115]  \n",
       "106   22200-25200   獵犬座   9.1  [116]  \n",
       "107          20.9   蛇夫座   8.9  [117]  \n",
       "108         46000   大熊座  10.7  [118]  \n",
       "109  59500-107500   大熊座  10.6  [119]  \n",
       "110     2600-2780   仙女座   9.0  [120]  \n",
       "\n",
       "[111 rows x 9 columns]"
      ]
     },
     "execution_count": 7,
     "metadata": {},
     "output_type": "execute_result"
    }
   ],
   "source": [
    "pd.read_html(url.text)[0]"
   ]
  },
  {
   "cell_type": "code",
   "execution_count": 9,
   "metadata": {},
   "outputs": [],
   "source": [
    "import numpy as np\n",
    "import random\n",
    "from matplotlib import pyplot as plt\n",
    "%matplotlib inline"
   ]
  },
  {
   "cell_type": "code",
   "execution_count": 13,
   "metadata": {},
   "outputs": [],
   "source": [
    "def distance(size=10000):\n",
    "    dists = []\n",
    "    for i in np.arange(size):\n",
    "        a = [np.random.random(), np.random.random()]\n",
    "        b = [np.random.random(), np.random.random()]\n",
    "        dist = np.sqrt((a[0] - b[0]) ** 2 + (a[1] - b[1]) ** 2)\n",
    "        dists.append(dist)\n",
    "    return dists"
   ]
  },
  {
   "cell_type": "code",
   "execution_count": 33,
   "metadata": {},
   "outputs": [
    {
     "name": "stdout",
     "output_type": "stream",
     "text": [
      "mean: 0.5214336961279102\n",
      "std: 0.001388981587351748\n"
     ]
    },
    {
     "data": {
      "image/png": "[encoded data removed]",
      "text/plain": [
       "<Figure size 432x288 with 1 Axes>"
      ]
     },
     "metadata": {},
     "output_type": "display_data"
    }
   ],
   "source": [
    "mean = []\n",
    "std = []\n",
    "for i in range(1000):\n",
    "    dist = distance(size=10000)\n",
    "\n",
    "    #plt.hist(dist, bins=100)\n",
    "    #plt.show()\n",
    "    mean.append(np.mean(dist))\n",
    "    std.append(np.std(dist))\n",
    "print('mean:', np.mean(mean))\n",
    "print('std:', np.std(std))\n",
    "plt.hist(mean, bins=20)\n",
    "plt.show()"
   ]
  },
  {
   "cell_type": "code",
   "execution_count": null,
   "metadata": {},
   "outputs": [],
   "source": [
    "d = []\n",
    "for i in range(100000):\n",
    "    d.append(np.random.random() -np.random.random())\n",
    "plt.hist(d, bins=100)"
   ]
  },
  {
   "cell_type": "code",
   "execution_count": 23,
   "metadata": {},
   "outputs": [
    {
     "data": {
      "text/plain": [
       "200"
      ]
     },
     "execution_count": 23,
     "metadata": {},
     "output_type": "execute_result"
    }
   ],
   "source": [
    "import pandas as pd \n",
    "import requests\n",
    "\n",
    "resp = requests.get('http://www.dotamax.com/hero/rate/')\n",
    "html = resp.text\n",
    "resp.status_code"
   ]
  },
  {
   "cell_type": "code",
   "execution_count": 25,
   "metadata": {},
   "outputs": [
    {
     "data": {
      "text/html": [
       "<div>\n",
       "<style scoped>\n",
       "    .dataframe tbody tr th:only-of-type {\n",
       "        vertical-align: middle;\n",
       "    }\n",
       "\n",
       "    .dataframe tbody tr th {\n",
       "        vertical-align: top;\n",
       "    }\n",
       "\n",
       "    .dataframe thead th {\n",
       "        text-align: right;\n",
       "    }\n",
       "</style>\n",
       "<table border=\"1\" class=\"dataframe\">\n",
       "  <thead>\n",
       "    <tr style=\"text-align: right;\">\n",
       "      <th></th>\n",
       "      <th>英雄</th>\n",
       "      <th>胜率</th>\n",
       "      <th>使用次数</th>\n",
       "    </tr>\n",
       "  </thead>\n",
       "  <tbody>\n",
       "    <tr>\n",
       "      <th>0</th>\n",
       "      <td>敌法师</td>\n",
       "      <td>50.23%</td>\n",
       "      <td>3397298.0</td>\n",
       "    </tr>\n",
       "    <tr>\n",
       "      <th>1</th>\n",
       "      <td>斧王</td>\n",
       "      <td>54.11%</td>\n",
       "      <td>4368002.0</td>\n",
       "    </tr>\n",
       "    <tr>\n",
       "      <th>2</th>\n",
       "      <td>祸乱之源</td>\n",
       "      <td>45.24%</td>\n",
       "      <td>630934.0</td>\n",
       "    </tr>\n",
       "    <tr>\n",
       "      <th>3</th>\n",
       "      <td>嗜血狂魔</td>\n",
       "      <td>52.09%</td>\n",
       "      <td>3750186.0</td>\n",
       "    </tr>\n",
       "    <tr>\n",
       "      <th>4</th>\n",
       "      <td>水晶室女</td>\n",
       "      <td>54.40%</td>\n",
       "      <td>4398746.0</td>\n",
       "    </tr>\n",
       "    <tr>\n",
       "      <th>5</th>\n",
       "      <td>卓尔游侠</td>\n",
       "      <td>51.98%</td>\n",
       "      <td>3072160.0</td>\n",
       "    </tr>\n",
       "    <tr>\n",
       "      <th>6</th>\n",
       "      <td>撼地者</td>\n",
       "      <td>50.65%</td>\n",
       "      <td>3853370.0</td>\n",
       "    </tr>\n",
       "    <tr>\n",
       "      <th>7</th>\n",
       "      <td>主宰</td>\n",
       "      <td>49.67%</td>\n",
       "      <td>4414211.0</td>\n",
       "    </tr>\n",
       "    <tr>\n",
       "      <th>8</th>\n",
       "      <td>米拉娜</td>\n",
       "      <td>50.76%</td>\n",
       "      <td>3955374.0</td>\n",
       "    </tr>\n",
       "    <tr>\n",
       "      <th>9</th>\n",
       "      <td>变体精灵</td>\n",
       "      <td>45.30%</td>\n",
       "      <td>1196303.0</td>\n",
       "    </tr>\n",
       "    <tr>\n",
       "      <th>10</th>\n",
       "      <td>影魔</td>\n",
       "      <td>45.07%</td>\n",
       "      <td>3666070.0</td>\n",
       "    </tr>\n",
       "    <tr>\n",
       "      <th>11</th>\n",
       "      <td>幻影长矛手</td>\n",
       "      <td>48.99%</td>\n",
       "      <td>2505945.0</td>\n",
       "    </tr>\n",
       "    <tr>\n",
       "      <th>12</th>\n",
       "      <td>帕克</td>\n",
       "      <td>39.50%</td>\n",
       "      <td>595438.0</td>\n",
       "    </tr>\n",
       "    <tr>\n",
       "      <th>13</th>\n",
       "      <td>帕吉</td>\n",
       "      <td>53.16%</td>\n",
       "      <td>11140748.0</td>\n",
       "    </tr>\n",
       "    <tr>\n",
       "      <th>14</th>\n",
       "      <td>剃刀</td>\n",
       "      <td>42.63%</td>\n",
       "      <td>598117.0</td>\n",
       "    </tr>\n",
       "    <tr>\n",
       "      <th>15</th>\n",
       "      <td>沙王</td>\n",
       "      <td>44.43%</td>\n",
       "      <td>1319203.0</td>\n",
       "    </tr>\n",
       "    <tr>\n",
       "      <th>16</th>\n",
       "      <td>风暴之灵</td>\n",
       "      <td>49.63%</td>\n",
       "      <td>3021608.0</td>\n",
       "    </tr>\n",
       "    <tr>\n",
       "      <th>17</th>\n",
       "      <td>斯温</td>\n",
       "      <td>49.63%</td>\n",
       "      <td>1884143.0</td>\n",
       "    </tr>\n",
       "    <tr>\n",
       "      <th>18</th>\n",
       "      <td>小小</td>\n",
       "      <td>40.77%</td>\n",
       "      <td>1041166.0</td>\n",
       "    </tr>\n",
       "    <tr>\n",
       "      <th>19</th>\n",
       "      <td>复仇之魂</td>\n",
       "      <td>54.67%</td>\n",
       "      <td>1948727.0</td>\n",
       "    </tr>\n",
       "    <tr>\n",
       "      <th>20</th>\n",
       "      <td>风行者</td>\n",
       "      <td>46.74%</td>\n",
       "      <td>4582001.0</td>\n",
       "    </tr>\n",
       "    <tr>\n",
       "      <th>21</th>\n",
       "      <td>宙斯</td>\n",
       "      <td>56.88%</td>\n",
       "      <td>4905413.0</td>\n",
       "    </tr>\n",
       "    <tr>\n",
       "      <th>22</th>\n",
       "      <td>昆卡</td>\n",
       "      <td>47.20%</td>\n",
       "      <td>2534323.0</td>\n",
       "    </tr>\n",
       "    <tr>\n",
       "      <th>23</th>\n",
       "      <td>莉娜</td>\n",
       "      <td>42.19%</td>\n",
       "      <td>2051925.0</td>\n",
       "    </tr>\n",
       "    <tr>\n",
       "      <th>24</th>\n",
       "      <td>莱恩</td>\n",
       "      <td>48.21%</td>\n",
       "      <td>3989990.0</td>\n",
       "    </tr>\n",
       "    <tr>\n",
       "      <th>25</th>\n",
       "      <td>暗影萨满</td>\n",
       "      <td>52.67%</td>\n",
       "      <td>3431730.0</td>\n",
       "    </tr>\n",
       "    <tr>\n",
       "      <th>26</th>\n",
       "      <td>斯拉达</td>\n",
       "      <td>47.40%</td>\n",
       "      <td>1529920.0</td>\n",
       "    </tr>\n",
       "    <tr>\n",
       "      <th>27</th>\n",
       "      <td>潮汐猎人</td>\n",
       "      <td>50.47%</td>\n",
       "      <td>1008442.0</td>\n",
       "    </tr>\n",
       "    <tr>\n",
       "      <th>28</th>\n",
       "      <td>巫医</td>\n",
       "      <td>48.39%</td>\n",
       "      <td>1983931.0</td>\n",
       "    </tr>\n",
       "    <tr>\n",
       "      <th>29</th>\n",
       "      <td>巫妖</td>\n",
       "      <td>53.05%</td>\n",
       "      <td>1577921.0</td>\n",
       "    </tr>\n",
       "    <tr>\n",
       "      <th>...</th>\n",
       "      <td>...</td>\n",
       "      <td>...</td>\n",
       "      <td>...</td>\n",
       "    </tr>\n",
       "    <tr>\n",
       "      <th>86</th>\n",
       "      <td>司夜刺客</td>\n",
       "      <td>48.78%</td>\n",
       "      <td>1287379.0</td>\n",
       "    </tr>\n",
       "    <tr>\n",
       "      <th>87</th>\n",
       "      <td>娜迦海妖</td>\n",
       "      <td>43.22%</td>\n",
       "      <td>397662.0</td>\n",
       "    </tr>\n",
       "    <tr>\n",
       "      <th>88</th>\n",
       "      <td>光之守卫</td>\n",
       "      <td>46.76%</td>\n",
       "      <td>789920.0</td>\n",
       "    </tr>\n",
       "    <tr>\n",
       "      <th>89</th>\n",
       "      <td>艾欧</td>\n",
       "      <td>39.85%</td>\n",
       "      <td>304242.0</td>\n",
       "    </tr>\n",
       "    <tr>\n",
       "      <th>90</th>\n",
       "      <td>维萨吉</td>\n",
       "      <td>52.19%</td>\n",
       "      <td>288061.0</td>\n",
       "    </tr>\n",
       "    <tr>\n",
       "      <th>91</th>\n",
       "      <td>斯拉克</td>\n",
       "      <td>48.45%</td>\n",
       "      <td>3338849.0</td>\n",
       "    </tr>\n",
       "    <tr>\n",
       "      <th>92</th>\n",
       "      <td>美杜莎</td>\n",
       "      <td>47.72%</td>\n",
       "      <td>1343612.0</td>\n",
       "    </tr>\n",
       "    <tr>\n",
       "      <th>93</th>\n",
       "      <td>巨魔战将</td>\n",
       "      <td>46.96%</td>\n",
       "      <td>1540878.0</td>\n",
       "    </tr>\n",
       "    <tr>\n",
       "      <th>94</th>\n",
       "      <td>半人马战行者</td>\n",
       "      <td>55.62%</td>\n",
       "      <td>1405238.0</td>\n",
       "    </tr>\n",
       "    <tr>\n",
       "      <th>95</th>\n",
       "      <td>马格纳斯</td>\n",
       "      <td>45.68%</td>\n",
       "      <td>1090924.0</td>\n",
       "    </tr>\n",
       "    <tr>\n",
       "      <th>96</th>\n",
       "      <td>伐木机</td>\n",
       "      <td>43.68%</td>\n",
       "      <td>961308.0</td>\n",
       "    </tr>\n",
       "    <tr>\n",
       "      <th>97</th>\n",
       "      <td>钢背兽</td>\n",
       "      <td>50.82%</td>\n",
       "      <td>3751913.0</td>\n",
       "    </tr>\n",
       "    <tr>\n",
       "      <th>98</th>\n",
       "      <td>巨牙海民</td>\n",
       "      <td>43.71%</td>\n",
       "      <td>1182115.0</td>\n",
       "    </tr>\n",
       "    <tr>\n",
       "      <th>99</th>\n",
       "      <td>天怒法师</td>\n",
       "      <td>48.25%</td>\n",
       "      <td>2158244.0</td>\n",
       "    </tr>\n",
       "    <tr>\n",
       "      <th>100</th>\n",
       "      <td>亚巴顿</td>\n",
       "      <td>53.18%</td>\n",
       "      <td>705527.0</td>\n",
       "    </tr>\n",
       "    <tr>\n",
       "      <th>101</th>\n",
       "      <td>上古巨神</td>\n",
       "      <td>52.09%</td>\n",
       "      <td>527110.0</td>\n",
       "    </tr>\n",
       "    <tr>\n",
       "      <th>102</th>\n",
       "      <td>军团指挥官</td>\n",
       "      <td>47.02%</td>\n",
       "      <td>3737238.0</td>\n",
       "    </tr>\n",
       "    <tr>\n",
       "      <th>103</th>\n",
       "      <td>工程师</td>\n",
       "      <td>47.20%</td>\n",
       "      <td>1138782.0</td>\n",
       "    </tr>\n",
       "    <tr>\n",
       "      <th>104</th>\n",
       "      <td>灰烬之灵</td>\n",
       "      <td>48.35%</td>\n",
       "      <td>1946919.0</td>\n",
       "    </tr>\n",
       "    <tr>\n",
       "      <th>105</th>\n",
       "      <td>大地之灵</td>\n",
       "      <td>43.14%</td>\n",
       "      <td>500848.0</td>\n",
       "    </tr>\n",
       "    <tr>\n",
       "      <th>106</th>\n",
       "      <td>孽主</td>\n",
       "      <td>52.97%</td>\n",
       "      <td>945243.0</td>\n",
       "    </tr>\n",
       "    <tr>\n",
       "      <th>107</th>\n",
       "      <td>恐怖利刃</td>\n",
       "      <td>52.27%</td>\n",
       "      <td>894180.0</td>\n",
       "    </tr>\n",
       "    <tr>\n",
       "      <th>108</th>\n",
       "      <td>凤凰</td>\n",
       "      <td>53.24%</td>\n",
       "      <td>1614425.0</td>\n",
       "    </tr>\n",
       "    <tr>\n",
       "      <th>109</th>\n",
       "      <td>神谕者</td>\n",
       "      <td>44.98%</td>\n",
       "      <td>550251.0</td>\n",
       "    </tr>\n",
       "    <tr>\n",
       "      <th>110</th>\n",
       "      <td>寒冬飞龙</td>\n",
       "      <td>47.66%</td>\n",
       "      <td>823237.0</td>\n",
       "    </tr>\n",
       "    <tr>\n",
       "      <th>111</th>\n",
       "      <td>天穹守望者</td>\n",
       "      <td>47.89%</td>\n",
       "      <td>396883.0</td>\n",
       "    </tr>\n",
       "    <tr>\n",
       "      <th>112</th>\n",
       "      <td>齐天大圣</td>\n",
       "      <td>44.06%</td>\n",
       "      <td>2390110.0</td>\n",
       "    </tr>\n",
       "    <tr>\n",
       "      <th>113</th>\n",
       "      <td>邪影芳灵</td>\n",
       "      <td>49.70%</td>\n",
       "      <td>1884661.0</td>\n",
       "    </tr>\n",
       "    <tr>\n",
       "      <th>114</th>\n",
       "      <td>石鳞剑士</td>\n",
       "      <td>43.18%</td>\n",
       "      <td>1031506.0</td>\n",
       "    </tr>\n",
       "    <tr>\n",
       "      <th>115</th>\n",
       "      <td>NaN</td>\n",
       "      <td>%</td>\n",
       "      <td>NaN</td>\n",
       "    </tr>\n",
       "  </tbody>\n",
       "</table>\n",
       "<p>116 rows × 3 columns</p>\n",
       "</div>"
      ],
      "text/plain": [
       "         英雄      胜率        使用次数\n",
       "0       敌法师  50.23%   3397298.0\n",
       "1        斧王  54.11%   4368002.0\n",
       "2      祸乱之源  45.24%    630934.0\n",
       "3      嗜血狂魔  52.09%   3750186.0\n",
       "4      水晶室女  54.40%   4398746.0\n",
       "5      卓尔游侠  51.98%   3072160.0\n",
       "6       撼地者  50.65%   3853370.0\n",
       "7        主宰  49.67%   4414211.0\n",
       "8       米拉娜  50.76%   3955374.0\n",
       "9      变体精灵  45.30%   1196303.0\n",
       "10       影魔  45.07%   3666070.0\n",
       "11    幻影长矛手  48.99%   2505945.0\n",
       "12       帕克  39.50%    595438.0\n",
       "13       帕吉  53.16%  11140748.0\n",
       "14       剃刀  42.63%    598117.0\n",
       "15       沙王  44.43%   1319203.0\n",
       "16     风暴之灵  49.63%   3021608.0\n",
       "17       斯温  49.63%   1884143.0\n",
       "18       小小  40.77%   1041166.0\n",
       "19     复仇之魂  54.67%   1948727.0\n",
       "20      风行者  46.74%   4582001.0\n",
       "21       宙斯  56.88%   4905413.0\n",
       "22       昆卡  47.20%   2534323.0\n",
       "23       莉娜  42.19%   2051925.0\n",
       "24       莱恩  48.21%   3989990.0\n",
       "25     暗影萨满  52.67%   3431730.0\n",
       "26      斯拉达  47.40%   1529920.0\n",
       "27     潮汐猎人  50.47%   1008442.0\n",
       "28       巫医  48.39%   1983931.0\n",
       "29       巫妖  53.05%   1577921.0\n",
       "..      ...     ...         ...\n",
       "86     司夜刺客  48.78%   1287379.0\n",
       "87     娜迦海妖  43.22%    397662.0\n",
       "88     光之守卫  46.76%    789920.0\n",
       "89       艾欧  39.85%    304242.0\n",
       "90      维萨吉  52.19%    288061.0\n",
       "91      斯拉克  48.45%   3338849.0\n",
       "92      美杜莎  47.72%   1343612.0\n",
       "93     巨魔战将  46.96%   1540878.0\n",
       "94   半人马战行者  55.62%   1405238.0\n",
       "95     马格纳斯  45.68%   1090924.0\n",
       "96      伐木机  43.68%    961308.0\n",
       "97      钢背兽  50.82%   3751913.0\n",
       "98     巨牙海民  43.71%   1182115.0\n",
       "99     天怒法师  48.25%   2158244.0\n",
       "100     亚巴顿  53.18%    705527.0\n",
       "101    上古巨神  52.09%    527110.0\n",
       "102   军团指挥官  47.02%   3737238.0\n",
       "103     工程师  47.20%   1138782.0\n",
       "104    灰烬之灵  48.35%   1946919.0\n",
       "105    大地之灵  43.14%    500848.0\n",
       "106      孽主  52.97%    945243.0\n",
       "107    恐怖利刃  52.27%    894180.0\n",
       "108      凤凰  53.24%   1614425.0\n",
       "109     神谕者  44.98%    550251.0\n",
       "110    寒冬飞龙  47.66%    823237.0\n",
       "111   天穹守望者  47.89%    396883.0\n",
       "112    齐天大圣  44.06%   2390110.0\n",
       "113    邪影芳灵  49.70%   1884661.0\n",
       "114    石鳞剑士  43.18%   1031506.0\n",
       "115     NaN       %         NaN\n",
       "\n",
       "[116 rows x 3 columns]"
      ]
     },
     "execution_count": 25,
     "metadata": {},
     "output_type": "execute_result"
    }
   ],
   "source": [
    "df = pd.read_html(html)\n",
    "df[0]"
   ]
  },
  {
   "cell_type": "code",
   "execution_count": 48,
   "metadata": {},
   "outputs": [
    {
     "data": {
      "text/plain": [
       "['//cdn.max-c.com/app/Maxjia_release.apk',\n",
       " '/',\n",
       " '/home/',\n",
       " '/hero/rate/',\n",
       " '/hero/rate/',\n",
       " '/item/',\n",
       " '/match/tour_famous_team_list/',\n",
       " '/player/',\n",
       " '/ladder/',\n",
       " '/live/',\n",
       " '/app',\n",
       " '/login/',\n",
       " 'https://itunes.apple.com/cn/app/id990892583',\n",
       " '//cdn.max-c.com/app/Maxjia_release.apk',\n",
       " '/hero/',\n",
       " '/hero/rate',\n",
       " '/hero/played',\n",
       " '/hero/gpm',\n",
       " '/hero/kda',\n",
       " '/hero/cs',\n",
       " '/hero/dmg',\n",
       " '/set_language/?language=en',\n",
       " '/set_language/?language=ru',\n",
       " '/set_language/?language=ko',\n",
       " 'mailto:zhisong.huang@dotamax.com',\n",
       " '/status/',\n",
       " 'http://shang.qq.com/wpa/qunwpa?idkey=ef26fe7efd134659b38b044ae44ae8342c20f1654d9c372fd094f96bd004819e',\n",
       " '/faq/',\n",
       " 'http://xiaoheihe.cn',\n",
       " '/summary/',\n",
       " 'http://weibo.com/5606942020/profile?topnav=1&wvr=6',\n",
       " 'http://t.qq.com/dotamax?preview ',\n",
       " '/share_history/',\n",
       " '/joinus/',\n",
       " 'http://www.beian.gov.cn/portal/registerSystemInfo?recordcode=13010202002199',\n",
       " '/openid/login/?sid=web_bind',\n",
       " '/bets/faq/']"
      ]
     },
     "execution_count": 48,
     "metadata": {},
     "output_type": "execute_result"
    }
   ],
   "source": [
    "from bs4  import BeautifulSoup\n",
    "from lxml import etree \n",
    "html_ = BeautifulSoup(html, 'lxml')\n",
    "h = etree.HTML(html)\n",
    "re = h.xpath('//a/@href')\n",
    "re"
   ]
  },
  {
   "cell_type": "code",
   "execution_count": 1,
   "metadata": {},
   "outputs": [],
   "source": [
    "from selenium.common.exceptions import StaleElementReferenceException as SERE"
   ]
  },
  {
   "cell_type": "code",
   "execution_count": 4,
   "metadata": {},
   "outputs": [
    {
     "ename": "StaleElementReferenceException",
     "evalue": "Message: None\n",
     "output_type": "error",
     "traceback": [
      "\u001b[1;31m---------------------------------------------------------------------------\u001b[0m",
      "\u001b[1;31mStaleElementReferenceException\u001b[0m            Traceback (most recent call last)",
      "\u001b[1;32m<ipython-input-4-67fb6588c61b>\u001b[0m in \u001b[0;36m<module>\u001b[1;34m()\u001b[0m\n\u001b[0;32m      1\u001b[0m \u001b[1;32mif\u001b[0m \u001b[1;32mTrue\u001b[0m\u001b[1;33m:\u001b[0m\u001b[1;33m\u001b[0m\u001b[0m\n\u001b[1;32m----> 2\u001b[1;33m     \u001b[1;32mraise\u001b[0m \u001b[0mSERE\u001b[0m\u001b[1;33m\u001b[0m\u001b[0m\n\u001b[0m",
      "\u001b[1;31mStaleElementReferenceException\u001b[0m: Message: None\n"
     ]
    }
   ],
   "source": [
    "if True:\n",
    "    raise SERE"
   ]
  },
  {
   "cell_type": "code",
   "execution_count": 31,
   "metadata": {},
   "outputs": [],
   "source": [
    "class Stale(SERE):\n",
    "    def __init__(self):\n",
    "        super(Stale, self).__init__(msg='child')"
   ]
  },
  {
   "cell_type": "code",
   "execution_count": 32,
   "metadata": {},
   "outputs": [
    {
     "ename": "Stale",
     "evalue": "Message: child\n",
     "output_type": "error",
     "traceback": [
      "\u001b[1;31m---------------------------------------------------------------------------\u001b[0m",
      "\u001b[1;31mStale\u001b[0m                                     Traceback (most recent call last)",
      "\u001b[1;32m<ipython-input-32-a2cda74e9fbc>\u001b[0m in \u001b[0;36m<module>\u001b[1;34m()\u001b[0m\n\u001b[0;32m      1\u001b[0m \u001b[0mexc\u001b[0m \u001b[1;33m=\u001b[0m \u001b[0mStale\u001b[0m\u001b[1;33m(\u001b[0m\u001b[1;33m)\u001b[0m\u001b[1;33m\u001b[0m\u001b[0m\n\u001b[1;32m----> 2\u001b[1;33m \u001b[1;32mraise\u001b[0m \u001b[0mexc\u001b[0m\u001b[1;33m\u001b[0m\u001b[0m\n\u001b[0m",
      "\u001b[1;31mStale\u001b[0m: Message: child\n"
     ]
    }
   ],
   "source": [
    "exc = Stale()\n",
    "raise exc"
   ]
  },
  {
   "cell_type": "code",
   "execution_count": 34,
   "metadata": {},
   "outputs": [],
   "source": [
    "a = SERE(msg='base')\n",
    "raise a"
   ]
  },
  {
   "cell_type": "code",
   "execution_count": 36,
   "metadata": {},
   "outputs": [],
   "source": [
    "from sympy import *\n",
    "x = symbols('x')"
   ]
  },
  {
   "cell_type": "code",
   "execution_count": 37,
   "metadata": {},
   "outputs": [
    {
     "data": {
      "text/plain": [
       "x"
      ]
     },
     "execution_count": 37,
     "metadata": {},
     "output_type": "execute_result"
    }
   ],
   "source": [
    "a = Inte"
   ]
  },
  {
   "cell_type": "code",
   "execution_count": null,
   "metadata": {},
   "outputs": [],
   "source": [
    "from sympy import *\n",
    "x, y, z = symbols('x y z')\n",
    "init_printing(use_unicode=True)"
   ]
  },
  {
   "cell_type": "code",
   "execution_count": null,
   "metadata": {},
   "outputs": [],
   "source": [
    "diff(cos(x), x)"
   ]
  },
  {
   "cell_type": "code",
   "execution_count": 1,
   "metadata": {},
   "outputs": [],
   "source": [
    "import numpy as np\n",
    "import pandas as pd\n",
    "PREVIOUS_MAX_ROWS = pd.options.display.max_rows\n",
    "pd.options.display.max_rows = 20\n",
    "np.random.seed(12345)\n",
    "import matplotlib.pyplot as plt\n",
    "plt.rc('figure', figsize=(10, 6))\n",
    "np.set_printoptions(precision=4, suppress=True)"
   ]
  },
  {
   "cell_type": "code",
   "execution_count": 2,
   "metadata": {},
   "outputs": [],
   "source": [
    "data = pd.DataFrame(np.random.randn(1000, 4))"
   ]
  },
  {
   "cell_type": "code",
   "execution_count": 6,
   "metadata": {},
   "outputs": [],
   "source": [
    "data[(np.abs(data) > 3)] = np.sign(data)*3"
   ]
  },
  {
   "cell_type": "code",
   "execution_count": 9,
   "metadata": {},
   "outputs": [
    {
     "data": {
      "text/html": [
       "<div>\n",
       "<style scoped>\n",
       "    .dataframe tbody tr th:only-of-type {\n",
       "        vertical-align: middle;\n",
       "    }\n",
       "\n",
       "    .dataframe tbody tr th {\n",
       "        vertical-align: top;\n",
       "    }\n",
       "\n",
       "    .dataframe thead th {\n",
       "        text-align: right;\n",
       "    }\n",
       "</style>\n",
       "<table border=\"1\" class=\"dataframe\">\n",
       "  <thead>\n",
       "    <tr style=\"text-align: right;\">\n",
       "      <th></th>\n",
       "      <th>0</th>\n",
       "      <th>1</th>\n",
       "      <th>2</th>\n",
       "      <th>3</th>\n",
       "    </tr>\n",
       "  </thead>\n",
       "  <tbody>\n",
       "    <tr>\n",
       "      <th>5</th>\n",
       "      <td>-0.539741</td>\n",
       "      <td>0.476985</td>\n",
       "      <td>3.000000</td>\n",
       "      <td>-1.021228</td>\n",
       "    </tr>\n",
       "    <tr>\n",
       "      <th>97</th>\n",
       "      <td>-0.774363</td>\n",
       "      <td>0.552936</td>\n",
       "      <td>0.106061</td>\n",
       "      <td>3.000000</td>\n",
       "    </tr>\n",
       "    <tr>\n",
       "      <th>102</th>\n",
       "      <td>-0.655054</td>\n",
       "      <td>-0.565230</td>\n",
       "      <td>3.000000</td>\n",
       "      <td>0.959533</td>\n",
       "    </tr>\n",
       "    <tr>\n",
       "      <th>130</th>\n",
       "      <td>-1.251504</td>\n",
       "      <td>-2.949343</td>\n",
       "      <td>0.634634</td>\n",
       "      <td>0.124157</td>\n",
       "    </tr>\n",
       "    <tr>\n",
       "      <th>305</th>\n",
       "      <td>-2.315555</td>\n",
       "      <td>0.457246</td>\n",
       "      <td>-0.025907</td>\n",
       "      <td>-3.000000</td>\n",
       "    </tr>\n",
       "    <tr>\n",
       "      <th>324</th>\n",
       "      <td>0.050188</td>\n",
       "      <td>1.951312</td>\n",
       "      <td>3.000000</td>\n",
       "      <td>0.963301</td>\n",
       "    </tr>\n",
       "    <tr>\n",
       "      <th>326</th>\n",
       "      <td>-0.749181</td>\n",
       "      <td>-2.989741</td>\n",
       "      <td>-1.295289</td>\n",
       "      <td>-1.690195</td>\n",
       "    </tr>\n",
       "    <tr>\n",
       "      <th>382</th>\n",
       "      <td>0.202225</td>\n",
       "      <td>-0.505124</td>\n",
       "      <td>2.954439</td>\n",
       "      <td>-2.630247</td>\n",
       "    </tr>\n",
       "    <tr>\n",
       "      <th>400</th>\n",
       "      <td>0.146326</td>\n",
       "      <td>0.508391</td>\n",
       "      <td>-0.196713</td>\n",
       "      <td>-3.000000</td>\n",
       "    </tr>\n",
       "    <tr>\n",
       "      <th>445</th>\n",
       "      <td>1.093890</td>\n",
       "      <td>-1.254319</td>\n",
       "      <td>-2.925113</td>\n",
       "      <td>0.654578</td>\n",
       "    </tr>\n",
       "    <tr>\n",
       "      <th>499</th>\n",
       "      <td>-0.293333</td>\n",
       "      <td>-0.242459</td>\n",
       "      <td>-3.000000</td>\n",
       "      <td>1.918403</td>\n",
       "    </tr>\n",
       "    <tr>\n",
       "      <th>523</th>\n",
       "      <td>-3.000000</td>\n",
       "      <td>-0.296336</td>\n",
       "      <td>-0.439938</td>\n",
       "      <td>-0.867165</td>\n",
       "    </tr>\n",
       "    <tr>\n",
       "      <th>586</th>\n",
       "      <td>0.275144</td>\n",
       "      <td>1.179227</td>\n",
       "      <td>-3.000000</td>\n",
       "      <td>1.369891</td>\n",
       "    </tr>\n",
       "    <tr>\n",
       "      <th>808</th>\n",
       "      <td>-0.362528</td>\n",
       "      <td>-3.000000</td>\n",
       "      <td>1.553205</td>\n",
       "      <td>-2.186301</td>\n",
       "    </tr>\n",
       "    <tr>\n",
       "      <th>843</th>\n",
       "      <td>-0.083484</td>\n",
       "      <td>-2.909373</td>\n",
       "      <td>0.728884</td>\n",
       "      <td>-0.319469</td>\n",
       "    </tr>\n",
       "    <tr>\n",
       "      <th>900</th>\n",
       "      <td>3.000000</td>\n",
       "      <td>-2.372214</td>\n",
       "      <td>0.851010</td>\n",
       "      <td>1.332846</td>\n",
       "    </tr>\n",
       "    <tr>\n",
       "      <th>936</th>\n",
       "      <td>-2.969411</td>\n",
       "      <td>0.147538</td>\n",
       "      <td>-0.742312</td>\n",
       "      <td>0.472318</td>\n",
       "    </tr>\n",
       "  </tbody>\n",
       "</table>\n",
       "</div>"
      ],
      "text/plain": [
       "            0         1         2         3\n",
       "5   -0.539741  0.476985  3.000000 -1.021228\n",
       "97  -0.774363  0.552936  0.106061  3.000000\n",
       "102 -0.655054 -0.565230  3.000000  0.959533\n",
       "130 -1.251504 -2.949343  0.634634  0.124157\n",
       "305 -2.315555  0.457246 -0.025907 -3.000000\n",
       "324  0.050188  1.951312  3.000000  0.963301\n",
       "326 -0.749181 -2.989741 -1.295289 -1.690195\n",
       "382  0.202225 -0.505124  2.954439 -2.630247\n",
       "400  0.146326  0.508391 -0.196713 -3.000000\n",
       "445  1.093890 -1.254319 -2.925113  0.654578\n",
       "499 -0.293333 -0.242459 -3.000000  1.918403\n",
       "523 -3.000000 -0.296336 -0.439938 -0.867165\n",
       "586  0.275144  1.179227 -3.000000  1.369891\n",
       "808 -0.362528 -3.000000  1.553205 -2.186301\n",
       "843 -0.083484 -2.909373  0.728884 -0.319469\n",
       "900  3.000000 -2.372214  0.851010  1.332846\n",
       "936 -2.969411  0.147538 -0.742312  0.472318"
      ]
     },
     "execution_count": 9,
     "metadata": {},
     "output_type": "execute_result"
    }
   ],
   "source": [
    "data[(np.abs(data) > 2.9).any(1)]"
   ]
  },
  {
   "cell_type": "code",
   "execution_count": null,
   "metadata": {},
   "outputs": [],
   "source": [
    "mnames = ['movie_id', 'title', 'genres']\n",
    "\n",
    "movies = pd."
   ]
  }
 ],
 "metadata": {
  "kernelspec": {
   "display_name": "Python 3",
   "language": "python",
   "name": "python3"
  },
  "language_info": {
   "codemirror_mode": {
    "name": "ipython",
    "version": 3
   },
   "file_extension": ".py",
   "mimetype": "text/x-python",
   "name": "python",
   "nbconvert_exporter": "python",
   "pygments_lexer": "ipython3",
   "version": "3.6.6"
  }
 },
 "nbformat": 4,
 "nbformat_minor": 2
}
