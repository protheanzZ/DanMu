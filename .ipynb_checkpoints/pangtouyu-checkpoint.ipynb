{
 "cells": [
  {
   "cell_type": "code",
   "execution_count": 1,
   "metadata": {},
   "outputs": [],
   "source": [
    "from selenium import webdriver\n",
    "from bs4 import BeautifulSoup\n",
    "import time\n",
    "import re\n",
    "from multiprocessing import Pool\n",
    "import csv\n",
    "\n",
    "from selenium.webdriver.support.ui import WebDriverWait\n",
    "from selenium.webdriver.support import expected_conditions as EC\n",
    "from selenium.webdriver.common.by import By\n",
    "from selenium.common.exceptions import StaleElementReferenceException"
   ]
  },
  {
   "cell_type": "code",
   "execution_count": 2,
   "metadata": {},
   "outputs": [],
   "source": [
    "browser = webdriver.Chrome()\n",
    "browser.get('https://www.douyu.com/9999')"
   ]
  },
  {
   "cell_type": "code",
   "execution_count": null,
   "metadata": {},
   "outputs": [
    {
     "name": "stdout",
     "output_type": "stream",
     "text": [
      "InsertTime:   0.2663 , AddNumber:      170 , WaitingTime:    51.17\n",
      "InsertTime:   0.2101 , AddNumber:      166 , WaitingTime:    51.09\n",
      "InsertTime:   0.2114 , AddNumber:      165 , WaitingTime:    98.64\n",
      "InsertTime:   0.2055 , AddNumber:      139 , WaitingTime:   122.95\n",
      "InsertTime:   0.2426 , AddNumber:      147 , WaitingTime:    74.93\n",
      "InsertTime:   0.2454 , AddNumber:      152 , WaitingTime:    64.80\n",
      "InsertTime:   0.2518 , AddNumber:      167 , WaitingTime:    73.55\n",
      "InsertTime:   0.2439 , AddNumber:      164 , WaitingTime:    71.43\n",
      "InsertTime:   0.2802 , AddNumber:      165 , WaitingTime:    44.67\n",
      "InsertTime:   0.2969 , AddNumber:      173 , WaitingTime:    59.33\n",
      "InsertTime:   0.2850 , AddNumber:      164 , WaitingTime:    60.34\n",
      "InsertTime:   0.2543 , AddNumber:      146 , WaitingTime:    91.26\n",
      "InsertTime:   0.2246 , AddNumber:      159 , WaitingTime:    83.48\n",
      "InsertTime:   0.2085 , AddNumber:      152 , WaitingTime:    35.46\n",
      "InsertTime:   0.2119 , AddNumber:      187 , WaitingTime:    24.80\n",
      "InsertTime:   0.2214 , AddNumber:      190 , WaitingTime:    60.20\n",
      "InsertTime:   0.2334 , AddNumber:      175 , WaitingTime:   125.93\n",
      "InsertTime:   0.2137 , AddNumber:      143 , WaitingTime:    71.34\n",
      "InsertTime:   0.2792 , AddNumber:      144 , WaitingTime:    93.11\n",
      "InsertTime:   0.2232 , AddNumber:      136 , WaitingTime:   107.76\n",
      "InsertTime:   0.2075 , AddNumber:      126 , WaitingTime:    87.49\n",
      "InsertTime:   0.2364 , AddNumber:      148 , WaitingTime:   107.24\n",
      "InsertTime:   0.2087 , AddNumber:      150 , WaitingTime:    77.92\n",
      "InsertTime:   0.2363 , AddNumber:      177 , WaitingTime:    51.59\n",
      "InsertTime:   0.2157 , AddNumber:      173 , WaitingTime:    70.82\n",
      "InsertTime:   0.2363 , AddNumber:      179 , WaitingTime:    38.96\n",
      "InsertTime:   0.2412 , AddNumber:      181 , WaitingTime:   140.61\n",
      "InsertTime:   0.2120 , AddNumber:      151 , WaitingTime:   111.28\n",
      "InsertTime:   0.2504 , AddNumber:      173 , WaitingTime:    77.96\n",
      "InsertTime:   0.2364 , AddNumber:      161 , WaitingTime:    76.50\n",
      "InsertTime:   0.3085 , AddNumber:      174 , WaitingTime:    70.91\n",
      "InsertTime:   0.2423 , AddNumber:      177 , WaitingTime:    24.37\n",
      "InsertTime:   0.3002 , AddNumber:      189 , WaitingTime:    29.91\n",
      "InsertTime:   0.2762 , AddNumber:      192 , WaitingTime:    84.54\n",
      "InsertTime:   0.2972 , AddNumber:      173 , WaitingTime:    91.13\n",
      "InsertTime:   0.2543 , AddNumber:      177 , WaitingTime:    47.10\n",
      "InsertTime:   0.2686 , AddNumber:      184 , WaitingTime:    45.60\n",
      "InsertTime:   0.2553 , AddNumber:      176 , "
     ]
    }
   ],
   "source": [
    "cast_name = browser.find_element_by_xpath('//a[@class=\"zb-name\"]/h1').text\n",
    "date = time.strftime('%m-%d')\n",
    "\n",
    "data_file = 'data_in_csv/%s-%s.csv' % (cast_name, date)\n",
    "log_file = 'log/%s-%s.txt' % (cast_name, date)\n",
    "\n",
    "with open(log_file, 'a+', encoding='utf-8') as log:\n",
    "    log.write(time.strftime('>>>>logging time:%Y/%m/%d-%H:%M:%S<<<<<\\n'))\n",
    "    \n",
    "while True:\n",
    "    s = time.time()\n",
    "    chunks = re.findall('<li class=\"jschartli hy-chat(.*?)</li>', browser.page_source, re.S)\n",
    "    \n",
    "    node = browser.find_elements_by_xpath('//ul[@class=\"c-list\"]/li[@class=\"jschartli hy-chat  \"]')[-1]\n",
    "    wait = WebDriverWait(browser, 3600)\n",
    "    count = 0\n",
    "    \n",
    "    for c in chunks:\n",
    "        level = re.findall('data-level=\"(.*?)\" ', c, re.S)[0]\n",
    "        if re.findall('<i>(.*?)</i>',c, re.S):\n",
    "            fans = re.findall('<i>(.*?)</i>', c, re.S)[0]\n",
    "        else:\n",
    "            fans = '无粉丝牌'\n",
    "        name = re.findall('data-noble=\".*?\">(.*?)：<', c, re.S)[0]\n",
    "        dm = re.findall('chatid=.*?\">(.*?)</span', c, re.S)[0]\n",
    "        count += 1\n",
    "        \n",
    "        with open(data_file, 'a+', newline='', encoding='utf-8') as f:\n",
    "            writer = csv.writer(f)\n",
    "            writer.writerow([name, level, fans, dm])\n",
    "            \n",
    "    e = time.time()        \n",
    "    print('InsertTime: %8.4f' % (e-s), end=' , ')\n",
    "    print('AddNumber: %8d' % (count), end=' , ')\n",
    "    s_ = time.time()\n",
    "    wait.until(EC.staleness_of(node))\n",
    "    e_ = time.time()\n",
    "    print('WaitingTime: %8.2f' % (e_-s_))\n",
    "    \n",
    "    with open(log_file, 'a+', encoding='utf-8') as log:\n",
    "        log.write('InsertTime:  %8.4f , ' % (e - s))\n",
    "        log.write('AddNumber:   %8d , '   % (count))\n",
    "        log.write('WaitingTime: %8.2f\\n' % (e_-s_))"
   ]
  },
  {
   "cell_type": "code",
   "execution_count": null,
   "metadata": {},
   "outputs": [],
   "source": []
  }
 ],
 "metadata": {
  "kernelspec": {
   "display_name": "Python 3",
   "language": "python",
   "name": "python3"
  },
  "language_info": {
   "codemirror_mode": {
    "name": "ipython",
    "version": 3
   },
   "file_extension": ".py",
   "mimetype": "text/x-python",
   "name": "python",
   "nbconvert_exporter": "python",
   "pygments_lexer": "ipython3",
   "version": "3.6.5"
  }
 },
 "nbformat": 4,
 "nbformat_minor": 2
}
