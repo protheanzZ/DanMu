{
 "cells": [
  {
   "cell_type": "code",
   "execution_count": 9,
   "metadata": {},
   "outputs": [],
   "source": [
    "import pandas as pd\n",
    "from matplotlib import pyplot as plt\n",
    "%matplotlib inline"
   ]
  },
  {
   "cell_type": "code",
   "execution_count": 11,
   "metadata": {},
   "outputs": [
    {
     "data": {
      "text/plain": [
       "(array([2.606e+03, 7.460e+02, 7.090e+02, 7.350e+02, 7.450e+02, 8.370e+02,\n",
       "        8.550e+02, 8.740e+02, 1.953e+03, 1.262e+03, 1.305e+03, 1.278e+03,\n",
       "        1.535e+03, 1.641e+03, 1.446e+03, 1.330e+03, 2.678e+03, 1.136e+03,\n",
       "        1.281e+03, 8.570e+02, 5.650e+02, 5.470e+02, 3.980e+02, 2.310e+02,\n",
       "        2.400e+02, 2.580e+02, 9.400e+01, 1.320e+02, 6.600e+01, 4.500e+01,\n",
       "        1.310e+02, 8.000e+00, 1.900e+01, 3.500e+01, 3.000e+00, 1.100e+01,\n",
       "        7.000e+00, 1.300e+01, 5.000e+00, 3.000e+00, 8.000e+00, 4.000e+00,\n",
       "        2.000e+00, 7.000e+00, 0.000e+00, 0.000e+00, 0.000e+00, 0.000e+00,\n",
       "        0.000e+00, 1.000e+00]),\n",
       " array([ 1.  ,  2.12,  3.24,  4.36,  5.48,  6.6 ,  7.72,  8.84,  9.96,\n",
       "        11.08, 12.2 , 13.32, 14.44, 15.56, 16.68, 17.8 , 18.92, 20.04,\n",
       "        21.16, 22.28, 23.4 , 24.52, 25.64, 26.76, 27.88, 29.  , 30.12,\n",
       "        31.24, 32.36, 33.48, 34.6 , 35.72, 36.84, 37.96, 39.08, 40.2 ,\n",
       "        41.32, 42.44, 43.56, 44.68, 45.8 , 46.92, 48.04, 49.16, 50.28,\n",
       "        51.4 , 52.52, 53.64, 54.76, 55.88, 57.  ]),\n",
       " <a list of 50 Patch objects>)"
      ]
     },
     "execution_count": 11,
     "metadata": {},
     "output_type": "execute_result"
    },
    {
     "data": {
      "image/png": "[encoded data removed]",
      "text/plain": [
       "<Figure size 432x288 with 1 Axes>"
      ]
     },
     "metadata": {},
     "output_type": "display_data"
    }
   ],
   "source": [
    "df = pd.read_csv('yyf-0811.csv', names=['ID', 'Level', 'Fans_Icon', 'Content'])\n",
    "plt.hist(df['Level'], bins=50)"
   ]
  },
  {
   "cell_type": "code",
   "execution_count": 39,
   "metadata": {},
   "outputs": [
    {
     "data": {
      "text/plain": [
       "\u001b[1;31mSignature:\u001b[0m \u001b[0mpd\u001b[0m\u001b[1;33m.\u001b[0m\u001b[0mSeries\u001b[0m\u001b[1;33m.\u001b[0m\u001b[0mvalue_counts\u001b[0m\u001b[1;33m(\u001b[0m\u001b[0mself\u001b[0m\u001b[1;33m,\u001b[0m \u001b[0mnormalize\u001b[0m\u001b[1;33m=\u001b[0m\u001b[1;32mFalse\u001b[0m\u001b[1;33m,\u001b[0m \u001b[0msort\u001b[0m\u001b[1;33m=\u001b[0m\u001b[1;32mTrue\u001b[0m\u001b[1;33m,\u001b[0m \u001b[0mascending\u001b[0m\u001b[1;33m=\u001b[0m\u001b[1;32mFalse\u001b[0m\u001b[1;33m,\u001b[0m \u001b[0mbins\u001b[0m\u001b[1;33m=\u001b[0m\u001b[1;32mNone\u001b[0m\u001b[1;33m,\u001b[0m \u001b[0mdropna\u001b[0m\u001b[1;33m=\u001b[0m\u001b[1;32mTrue\u001b[0m\u001b[1;33m)\u001b[0m\u001b[1;33m\u001b[0m\u001b[0m\n",
       "\u001b[1;31mDocstring:\u001b[0m\n",
       "Returns object containing counts of unique values.\n",
       "\n",
       "The resulting object will be in descending order so that the\n",
       "first element is the most frequently-occurring element.\n",
       "Excludes NA values by default.\n",
       "\n",
       "Parameters\n",
       "----------\n",
       "normalize : boolean, default False\n",
       "    If True then the object returned will contain the relative\n",
       "    frequencies of the unique values.\n",
       "sort : boolean, default True\n",
       "    Sort by values\n",
       "ascending : boolean, default False\n",
       "    Sort in ascending order\n",
       "bins : integer, optional\n",
       "    Rather than count values, group them into half-open bins,\n",
       "    a convenience for pd.cut, only works with numeric data\n",
       "dropna : boolean, default True\n",
       "    Don't include counts of NaN.\n",
       "\n",
       "Returns\n",
       "-------\n",
       "counts : Series\n",
       "\u001b[1;31mFile:\u001b[0m      c:\\users\\zw493\\anaconda3\\lib\\site-packages\\pandas\\core\\base.py\n",
       "\u001b[1;31mType:\u001b[0m      function\n"
      ]
     },
     "metadata": {},
     "output_type": "display_data"
    }
   ],
   "source": [
    "pd.Series.value_counts?"
   ]
  },
  {
   "cell_type": "code",
   "execution_count": 46,
   "metadata": {},
   "outputs": [
    {
     "data": {
      "text/plain": [
       "11457"
      ]
     },
     "execution_count": 46,
     "metadata": {},
     "output_type": "execute_result"
    }
   ],
   "source": [
    "df['Fans_Icon'].value_counts()"
   ]
  },
  {
   "cell_type": "code",
   "execution_count": null,
   "metadata": {},
   "outputs": [],
   "source": [
    "df[]"
   ]
  }
 ],
 "metadata": {
  "kernelspec": {
   "display_name": "Python 3",
   "language": "python",
   "name": "python3"
  },
  "language_info": {
   "codemirror_mode": {
    "name": "ipython",
    "version": 3
   },
   "file_extension": ".py",
   "mimetype": "text/x-python",
   "name": "python",
   "nbconvert_exporter": "python",
   "pygments_lexer": "ipython3",
   "version": "3.6.5"
  }
 },
 "nbformat": 4,
 "nbformat_minor": 2
}
