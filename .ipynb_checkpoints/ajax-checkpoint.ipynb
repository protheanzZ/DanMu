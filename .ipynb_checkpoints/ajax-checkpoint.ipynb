{
 "cells": [
  {
   "cell_type": "markdown",
   "metadata": {},
   "source": [
    "URL 解析  \n",
    "[![url](https://travis-ci.org/jupyterlab/jupyterlab.svg?branch=master)](http://www.baidu.com/index.html;user?id=5#comment)  \n",
    "![url](https://readthedocs.org/projects/jupyterlab/badge/?version=stable)  \n",
    "\n",
    "\n",
    "URL:`http://www.baidu.com/index.html;user?id=5#comment`  \n",
    "\n",
    "\n",
    "`http`-------------------://前面的是scheme，代表协议  \n",
    "`www.baidu.com`----------第一个/符号的前面是netloc，即域名                \n",
    "`index.html`-------------后面是path，访问路径  \n",
    "`user`-------------------**分号;后面是params，参数**  \n",
    "`id=5`-------------------**问号?后面是查询条件query，一般用作GET类型的URL**  \n",
    "`comment`----------------井号#后面是锚点。 "
   ]
  },
  {
   "cell_type": "markdown",
   "metadata": {},
   "source": [
    "docker-machine ssh default\n",
    "sudo sed -i \"s|EXTRA_ARGS='|EXTRA_ARGS='--registry-mirror=http://625d4b20.m.daocloud.io |g\" /var/lib/boot2docker/profile\n",
    "exit\n",
    "docker-machine restart default"
   ]
  },
  {
   "cell_type": "code",
   "execution_count": 37,
   "metadata": {},
   "outputs": [],
   "source": [
    "import time\n",
    "\n",
    "def count(n=100):\n",
    "    re = []\n",
    "    for i in range(n):\n",
    "        s = time.time()\n",
    "        time.sleep(1)\n",
    "        e = time.time()\n",
    "        re.append(e-s-1)\n",
    "    return re"
   ]
  },
  {
   "cell_type": "code",
   "execution_count": 38,
   "metadata": {},
   "outputs": [],
   "source": [
    "%matplotlib inline\n",
    "from matplotlib import pyplot as plt\n",
    "\n",
    "re = count()"
   ]
  },
  {
   "cell_type": "code",
   "execution_count": 22,
   "metadata": {},
   "outputs": [
    {
     "name": "stdout",
     "output_type": "stream",
     "text": [
      "1532944405.3932078\n",
      "1532944405.3824186\n",
      "0.010789155960083008\n"
     ]
    }
   ],
   "source": [
    "s = time.time()\n",
    "time.sleep(0.01)\n",
    "e = time.time()\n",
    "\n",
    "print(e)\n",
    "print(s)\n",
    "print(e-s)"
   ]
  },
  {
   "cell_type": "code",
   "execution_count": 20,
   "metadata": {},
   "outputs": [
    {
     "name": "stdout",
     "output_type": "stream",
     "text": [
      "https://www.baidu.com/s?ie=utf-8&f=8&rsv_bp=0&rsv_idx=1&tn=baidu&wd=Python&rsv_pq=8306d2930000aef1&rsv_t=7bbcih8STQfQC2mVjvj9GqH6x5L9JI1atR%2BCRlv69YMf%2Bya5%2B4HDhIeLuho&rqlang=cn&rsv_enter=1&rsv_sug3=6&rsv_sug2=0&inputT=102&rsv_sug4=102\n",
      "[{'domain': '.baidu.com', 'httpOnly': False, 'name': 'H_PS_PSSID', 'path': '/', 'secure': False, 'value': '1444_21088_26350_22074'}, {'domain': '.baidu.com', 'expiry': 3680497452.015083, 'httpOnly': False, 'name': 'BAIDUID', 'path': '/', 'secure': False, 'value': '246B49918C0289F2F08E020562B6F7D2:FG=1'}, {'domain': '.baidu.com', 'expiry': 3680497452.015126, 'httpOnly': False, 'name': 'BIDUPSID', 'path': '/', 'secure': False, 'value': '246B49918C0289F2F08E020562B6F7D2'}, {'domain': '.baidu.com', 'expiry': 3680497452.015142, 'httpOnly': False, 'name': 'PSTM', 'path': '/', 'secure': False, 'value': '1533013805'}, {'domain': '.baidu.com', 'httpOnly': False, 'name': 'PSINO', 'path': '/', 'secure': False, 'value': '3'}, {'domain': 'www.baidu.com', 'expiry': 2479093806.177316, 'httpOnly': False, 'name': 'delPer', 'path': '/', 'secure': False, 'value': '0'}, {'domain': 'www.baidu.com', 'httpOnly': False, 'name': 'BD_HOME', 'path': '/', 'secure': False, 'value': '0'}, {'domain': 'www.baidu.com', 'expiry': 1533877805, 'httpOnly': False, 'name': 'BD_UPN', 'path': '/', 'secure': False, 'value': '12314753'}, {'domain': 'www.baidu.com', 'httpOnly': False, 'name': 'BD_CK_SAM', 'path': '/', 'secure': False, 'value': '1'}, {'domain': 'www.baidu.com', 'expiry': 1533016398, 'httpOnly': False, 'name': 'H_PS_645EC', 'path': '/', 'secure': False, 'value': '22abZ0haesdmW%2BNnFh2fe3QCU%2BM9k2nH5OKqw1dVf9jmRkezo3wDgV6gNjE'}]\n"
     ]
    }
   ],
   "source": [
    "from selenium import webdriver\n",
    "from selenium.webdriver.common.by import By\n",
    "from selenium.webdriver.common.keys import Keys\n",
    "from selenium.webdriver.support import expected_conditions as EC\n",
    "from selenium.webdriver.support.wait import WebDriverWait\n",
    "import time\n",
    "\n",
    "\n",
    "browser = webdriver.Chrome()\n",
    "\n",
    "browser.get('https://www.baidu.com')\n",
    "input = browser.find_element_by_id('kw')\n",
    "input.send_keys('Python')\n",
    "input.send_keys(Keys.ENTER)\n",
    "wait = WebDriverWait(browser,10)\n",
    "wait.until(EC.presence_of_element_located((By.ID,'content_left')))\n",
    "print(browser.current_url)\n",
    "print(browser.get_cookies())\n",
    "browser.close()"
   ]
  },
  {
   "cell_type": "markdown",
   "metadata": {},
   "source": [
    "# Selenium 使用"
   ]
  },
  {
   "cell_type": "markdown",
   "metadata": {},
   "source": [
    "## 1.声明浏览器对象"
   ]
  },
  {
   "cell_type": "code",
   "execution_count": 1,
   "metadata": {},
   "outputs": [
    {
     "data": {
      "text/plain": [
       "<selenium.webdriver.chrome.webdriver.WebDriver (session=\"467cd0937d157b69bf73603f6c684f64\")>"
      ]
     },
     "execution_count": 1,
     "metadata": {},
     "output_type": "execute_result"
    }
   ],
   "source": [
    "from selenium import webdriver\n",
    "\n",
    "browser = webdriver.Chrome()\n",
    "browser"
   ]
  },
  {
   "cell_type": "markdown",
   "metadata": {},
   "source": [
    "## 2.访问页面"
   ]
  },
  {
   "cell_type": "code",
   "execution_count": 4,
   "metadata": {},
   "outputs": [],
   "source": [
    "# get()请求网页\n",
    "browser.get('https://www.taobao.com')"
   ]
  },
  {
   "cell_type": "code",
   "execution_count": 21,
   "metadata": {},
   "outputs": [],
   "source": [
    "lib = dir(browser)"
   ]
  },
  {
   "cell_type": "code",
   "execution_count": 9,
   "metadata": {},
   "outputs": [],
   "source": [
    "browser.refresh()"
   ]
  },
  {
   "cell_type": "code",
   "execution_count": 18,
   "metadata": {},
   "outputs": [],
   "source": [
    "browser.fullscreen_window()"
   ]
  },
  {
   "cell_type": "code",
   "execution_count": 15,
   "metadata": {},
   "outputs": [],
   "source": [
    "png = browser.get_screenshot_as_png()\n",
    "with open('taobao.png', 'wb+') as f:\n",
    "    f.write(png)"
   ]
  },
  {
   "cell_type": "code",
   "execution_count": 19,
   "metadata": {},
   "outputs": [],
   "source": [
    "browser.maximize_window()"
   ]
  },
  {
   "cell_type": "code",
   "execution_count": 20,
   "metadata": {},
   "outputs": [],
   "source": [
    "browser.minimize_window()"
   ]
  },
  {
   "cell_type": "code",
   "execution_count": 23,
   "metadata": {},
   "outputs": [
    {
     "data": {
      "text/plain": [
       "True"
      ]
     },
     "execution_count": 23,
     "metadata": {},
     "output_type": "execute_result"
    }
   ],
   "source": [
    "browser.get_screenshot_as_file('taobao1.png')"
   ]
  },
  {
   "cell_type": "markdown",
   "metadata": {},
   "source": [
    "## 3.查找节点\n",
    "方法：\n",
    "\n",
    "    find_element_by_id\n",
    "    find_element_by_name\n",
    "    find_element_by_xpath\n",
    "    find_element_by_link_text\n",
    "    find_element_by_partial_link_text\n",
    "    find_element_by_tag_name\n",
    "    find_element_by_class_name\n",
    "    find_element_by_css_selector\n",
    "\n",
    "> 查找多个节点即用find_elemnts.*\n",
    "\n",
    "通用方法：\n",
    "\n",
    "    find_element()    \n",
    "    两个参数：查找方式和value\n",
    "    like: find_element(By.ID, id)"
   ]
  },
  {
   "cell_type": "code",
   "execution_count": 30,
   "metadata": {},
   "outputs": [
    {
     "data": {
      "text/plain": [
       "<selenium.webdriver.remote.webelement.WebElement (session=\"467cd0937d157b69bf73603f6c684f64\", element=\"0.2449853551249419-1\")>"
      ]
     },
     "execution_count": 30,
     "metadata": {},
     "output_type": "execute_result"
    }
   ],
   "source": [
    "input1 = browser.find_element_by_id('q')\n",
    "input1"
   ]
  },
  {
   "cell_type": "code",
   "execution_count": 31,
   "metadata": {},
   "outputs": [
    {
     "data": {
      "text/plain": [
       "<selenium.webdriver.remote.webelement.WebElement (session=\"467cd0937d157b69bf73603f6c684f64\", element=\"0.2449853551249419-1\")>"
      ]
     },
     "execution_count": 31,
     "metadata": {},
     "output_type": "execute_result"
    }
   ],
   "source": [
    "input2 = browser.find_element_by_css_selector('#q')\n",
    "input2"
   ]
  },
  {
   "cell_type": "code",
   "execution_count": 32,
   "metadata": {},
   "outputs": [
    {
     "data": {
      "text/plain": [
       "<selenium.webdriver.remote.webelement.WebElement (session=\"467cd0937d157b69bf73603f6c684f64\", element=\"0.2449853551249419-1\")>"
      ]
     },
     "execution_count": 32,
     "metadata": {},
     "output_type": "execute_result"
    }
   ],
   "source": [
    "input3 = browser.find_element_by_xpath('//*[@id=\"q\"]')\n",
    "input3"
   ]
  },
  {
   "cell_type": "code",
   "execution_count": 33,
   "metadata": {},
   "outputs": [
    {
     "data": {
      "text/plain": [
       "True"
      ]
     },
     "execution_count": 33,
     "metadata": {},
     "output_type": "execute_result"
    }
   ],
   "source": [
    "input1 == input2 == input3"
   ]
  },
  {
   "cell_type": "code",
   "execution_count": 40,
   "metadata": {},
   "outputs": [
    {
     "data": {
      "text/plain": [
       "[<selenium.webdriver.remote.webelement.WebElement (session=\"467cd0937d157b69bf73603f6c684f64\", element=\"0.2449853551249419-3\")>,\n",
       " <selenium.webdriver.remote.webelement.WebElement (session=\"467cd0937d157b69bf73603f6c684f64\", element=\"0.2449853551249419-4\")>,\n",
       " <selenium.webdriver.remote.webelement.WebElement (session=\"467cd0937d157b69bf73603f6c684f64\", element=\"0.2449853551249419-5\")>,\n",
       " <selenium.webdriver.remote.webelement.WebElement (session=\"467cd0937d157b69bf73603f6c684f64\", element=\"0.2449853551249419-6\")>,\n",
       " <selenium.webdriver.remote.webelement.WebElement (session=\"467cd0937d157b69bf73603f6c684f64\", element=\"0.2449853551249419-7\")>,\n",
       " <selenium.webdriver.remote.webelement.WebElement (session=\"467cd0937d157b69bf73603f6c684f64\", element=\"0.2449853551249419-8\")>,\n",
       " <selenium.webdriver.remote.webelement.WebElement (session=\"467cd0937d157b69bf73603f6c684f64\", element=\"0.2449853551249419-9\")>,\n",
       " <selenium.webdriver.remote.webelement.WebElement (session=\"467cd0937d157b69bf73603f6c684f64\", element=\"0.2449853551249419-10\")>,\n",
       " <selenium.webdriver.remote.webelement.WebElement (session=\"467cd0937d157b69bf73603f6c684f64\", element=\"0.2449853551249419-11\")>,\n",
       " <selenium.webdriver.remote.webelement.WebElement (session=\"467cd0937d157b69bf73603f6c684f64\", element=\"0.2449853551249419-12\")>,\n",
       " <selenium.webdriver.remote.webelement.WebElement (session=\"467cd0937d157b69bf73603f6c684f64\", element=\"0.2449853551249419-13\")>,\n",
       " <selenium.webdriver.remote.webelement.WebElement (session=\"467cd0937d157b69bf73603f6c684f64\", element=\"0.2449853551249419-14\")>,\n",
       " <selenium.webdriver.remote.webelement.WebElement (session=\"467cd0937d157b69bf73603f6c684f64\", element=\"0.2449853551249419-15\")>,\n",
       " <selenium.webdriver.remote.webelement.WebElement (session=\"467cd0937d157b69bf73603f6c684f64\", element=\"0.2449853551249419-16\")>,\n",
       " <selenium.webdriver.remote.webelement.WebElement (session=\"467cd0937d157b69bf73603f6c684f64\", element=\"0.2449853551249419-17\")>,\n",
       " <selenium.webdriver.remote.webelement.WebElement (session=\"467cd0937d157b69bf73603f6c684f64\", element=\"0.2449853551249419-18\")>,\n",
       " <selenium.webdriver.remote.webelement.WebElement (session=\"467cd0937d157b69bf73603f6c684f64\", element=\"0.2449853551249419-19\")>,\n",
       " <selenium.webdriver.remote.webelement.WebElement (session=\"467cd0937d157b69bf73603f6c684f64\", element=\"0.2449853551249419-20\")>,\n",
       " <selenium.webdriver.remote.webelement.WebElement (session=\"467cd0937d157b69bf73603f6c684f64\", element=\"0.2449853551249419-21\")>,\n",
       " <selenium.webdriver.remote.webelement.WebElement (session=\"467cd0937d157b69bf73603f6c684f64\", element=\"0.2449853551249419-22\")>,\n",
       " <selenium.webdriver.remote.webelement.WebElement (session=\"467cd0937d157b69bf73603f6c684f64\", element=\"0.2449853551249419-23\")>,\n",
       " <selenium.webdriver.remote.webelement.WebElement (session=\"467cd0937d157b69bf73603f6c684f64\", element=\"0.2449853551249419-24\")>,\n",
       " <selenium.webdriver.remote.webelement.WebElement (session=\"467cd0937d157b69bf73603f6c684f64\", element=\"0.2449853551249419-25\")>,\n",
       " <selenium.webdriver.remote.webelement.WebElement (session=\"467cd0937d157b69bf73603f6c684f64\", element=\"0.2449853551249419-26\")>,\n",
       " <selenium.webdriver.remote.webelement.WebElement (session=\"467cd0937d157b69bf73603f6c684f64\", element=\"0.2449853551249419-27\")>,\n",
       " <selenium.webdriver.remote.webelement.WebElement (session=\"467cd0937d157b69bf73603f6c684f64\", element=\"0.2449853551249419-28\")>,\n",
       " <selenium.webdriver.remote.webelement.WebElement (session=\"467cd0937d157b69bf73603f6c684f64\", element=\"0.2449853551249419-29\")>,\n",
       " <selenium.webdriver.remote.webelement.WebElement (session=\"467cd0937d157b69bf73603f6c684f64\", element=\"0.2449853551249419-30\")>,\n",
       " <selenium.webdriver.remote.webelement.WebElement (session=\"467cd0937d157b69bf73603f6c684f64\", element=\"0.2449853551249419-31\")>,\n",
       " <selenium.webdriver.remote.webelement.WebElement (session=\"467cd0937d157b69bf73603f6c684f64\", element=\"0.2449853551249419-32\")>,\n",
       " <selenium.webdriver.remote.webelement.WebElement (session=\"467cd0937d157b69bf73603f6c684f64\", element=\"0.2449853551249419-33\")>,\n",
       " <selenium.webdriver.remote.webelement.WebElement (session=\"467cd0937d157b69bf73603f6c684f64\", element=\"0.2449853551249419-34\")>,\n",
       " <selenium.webdriver.remote.webelement.WebElement (session=\"467cd0937d157b69bf73603f6c684f64\", element=\"0.2449853551249419-35\")>,\n",
       " <selenium.webdriver.remote.webelement.WebElement (session=\"467cd0937d157b69bf73603f6c684f64\", element=\"0.2449853551249419-36\")>,\n",
       " <selenium.webdriver.remote.webelement.WebElement (session=\"467cd0937d157b69bf73603f6c684f64\", element=\"0.2449853551249419-37\")>,\n",
       " <selenium.webdriver.remote.webelement.WebElement (session=\"467cd0937d157b69bf73603f6c684f64\", element=\"0.2449853551249419-38\")>,\n",
       " <selenium.webdriver.remote.webelement.WebElement (session=\"467cd0937d157b69bf73603f6c684f64\", element=\"0.2449853551249419-39\")>,\n",
       " <selenium.webdriver.remote.webelement.WebElement (session=\"467cd0937d157b69bf73603f6c684f64\", element=\"0.2449853551249419-40\")>,\n",
       " <selenium.webdriver.remote.webelement.WebElement (session=\"467cd0937d157b69bf73603f6c684f64\", element=\"0.2449853551249419-41\")>,\n",
       " <selenium.webdriver.remote.webelement.WebElement (session=\"467cd0937d157b69bf73603f6c684f64\", element=\"0.2449853551249419-42\")>,\n",
       " <selenium.webdriver.remote.webelement.WebElement (session=\"467cd0937d157b69bf73603f6c684f64\", element=\"0.2449853551249419-43\")>,\n",
       " <selenium.webdriver.remote.webelement.WebElement (session=\"467cd0937d157b69bf73603f6c684f64\", element=\"0.2449853551249419-44\")>,\n",
       " <selenium.webdriver.remote.webelement.WebElement (session=\"467cd0937d157b69bf73603f6c684f64\", element=\"0.2449853551249419-45\")>,\n",
       " <selenium.webdriver.remote.webelement.WebElement (session=\"467cd0937d157b69bf73603f6c684f64\", element=\"0.2449853551249419-46\")>,\n",
       " <selenium.webdriver.remote.webelement.WebElement (session=\"467cd0937d157b69bf73603f6c684f64\", element=\"0.2449853551249419-47\")>,\n",
       " <selenium.webdriver.remote.webelement.WebElement (session=\"467cd0937d157b69bf73603f6c684f64\", element=\"0.2449853551249419-48\")>,\n",
       " <selenium.webdriver.remote.webelement.WebElement (session=\"467cd0937d157b69bf73603f6c684f64\", element=\"0.2449853551249419-49\")>,\n",
       " <selenium.webdriver.remote.webelement.WebElement (session=\"467cd0937d157b69bf73603f6c684f64\", element=\"0.2449853551249419-50\")>]"
      ]
     },
     "execution_count": 40,
     "metadata": {},
     "output_type": "execute_result"
    }
   ],
   "source": [
    "inputs = browser.find_elements_by_xpath('//li[@data-groupid]/a')\n",
    "inputs"
   ]
  },
  {
   "cell_type": "code",
   "execution_count": 56,
   "metadata": {},
   "outputs": [
    {
     "data": {
      "text/plain": [
       "{'女装': 'https://www.taobao.com/markets/nvzhuang/taobaonvzhuang?spm=a21bo.2017.201867-main.1.5af911d9J8NaQG',\n",
       " '男装': 'https://www.taobao.com/markets/nanzhuang/2017new',\n",
       " '内衣': 'https://neiyi.taobao.com/',\n",
       " '鞋靴': 'https://www.taobao.com/markets/xie/nvxie/index',\n",
       " '箱包': 'https://www.taobao.com/markets/bao/xiangbao',\n",
       " '配件': 'https://pei.taobao.com/',\n",
       " '童装玩具': 'https://www.taobao.com/markets/qbb/index?spm=a21bo.50862.201879-item-1008.5.YrbXb6&pvid=b9f2df4c-6d60-4af4-b500-c5168009831f&scm=1007.12802.34660.100200300000000',\n",
       " '孕产': 'https://www.taobao.com/markets/qbb/index?spm=a21bo.50862.201867-main.8.mL7cax&pvid=b9f2df4c-6d60-4af4-b500-c5168009831f&scm=1007.12802.34660.100200300000000',\n",
       " '用品': 'https://car.tmall.com/wow/car/act/carfp',\n",
       " '家电': 'https://www.taobao.com/markets/3c/tbdc',\n",
       " '数码': 'https://www.taobao.com/markets/3c/tbdc',\n",
       " '手机': 'https://www.taobao.com/markets/3c/tbdc',\n",
       " '美妆': 'https://mei.taobao.com/',\n",
       " '洗护': 'https://www.taobao.com/market/baihuo/xihuyongpin.php?spm=a217u.7383845.a214d5z-static.49.e8DQmz',\n",
       " '保健品': 'https://g.taobao.com/brand_detail.htm?navigator=all&_input_charset=utf-8&q=%E8%90%A5%E5%85%BB%E5%93%81&spm=a21bo.50862.201867-links-4.54.oMw9IU',\n",
       " '珠宝': 'https://www.taobao.com/market/peishi/zhubao.php',\n",
       " '眼镜': 'https://www.taobao.com/market/peishi/yanjing.php?spm=a219r.lm5630.a214d69.14.CkLAJ7',\n",
       " '手表': 'https://www.taobao.com/market/peishi/shoubiao.php',\n",
       " '运动': 'https://www.taobao.com/markets/coolcity/coolcityHome',\n",
       " '户外': 'https://www.taobao.com/markets/coolcity/coolcityHome',\n",
       " '乐器': 'https://www.taobao.com/markets/amusement/home',\n",
       " '游戏': 'https://game.taobao.com/',\n",
       " '动漫': 'https://www.taobao.com/markets/acg/dongman',\n",
       " '影视': 'https://www.taobao.com/markets/acg/yingshi',\n",
       " '美食': 'https://s.taobao.com/search?q=%E7%BE%8E%E9%A3%9F&imgfile=&js=1&stats_click=search_radio_all%3A1&initiative_id=staobaoz_20180724&ie=utf8',\n",
       " '生鲜': 'https://s.taobao.com/search?ie=utf8&initiative_id=staobaoz_20180724&stats_click=search_radio_all%3A1&js=1&imgfile=&q=%E7%94%9F%E9%B2%9C&suggest=history_1&_input_charset=utf-8&wq=%E7%94%9F%E9%B2%9C&suggest_query=%E7%94%9F%E9%B2%9C&source=suggest',\n",
       " '零食': 'https://s.taobao.com/search?q=%E9%9B%B6%E9%A3%9F&imgfile=&commend=all&ssid=s5-e&search_type=item&sourceId=tb.index&spm=a21bo.2017.201856-taobao-item.1&ie=utf8&initiative_id=tbindexz_20170306',\n",
       " '鲜花': 'https://s.taobao.com/search?q=%E5%9B%AD%E8%89%BA&imgfile=&commend=all&ssid=s5-e&search_type=item&sourceId=tb.index&spm=a21bo.50862.201856-taobao-item.1&ie=utf8&initiative_id=tbindexz_20170419',\n",
       " '宠物': 'https://s.taobao.com/search?ie=utf8&initiative_id=staobaoz_20170419&stats_click=search_radio_all%3A1&js=1&imgfile=&q=%E8%BF%9B%E5%8F%A3%E7%8B%97%E7%B2%AE&suggest=history_3&_input_charset=utf-8&wq=&suggest_query=&source=suggest',\n",
       " '农资': 'https://s.taobao.com/search?q=%E5%86%9C%E8%B5%84&imgfile=&commend=all&ssid=s5-e&search_type=item&sourceId=tb.index&spm=a21bo.50862.201856-taobao-item.1&ie=utf8&initiative_id=tbindexz_20170221',\n",
       " '房产': 'https://fang.taobao.com/',\n",
       " '装修': 'https://s.taobao.com/list?spm=a21bo.50862.201867-links-10.27.iQWRJS&source=youjia&cat=50097129',\n",
       " '建材': 'https://www.jiyoujia.com/markets/youjia/zhuangxiucailiao',\n",
       " '家具': 'https://s.taobao.com/list?spm=a21bo.7932212.202572.1.rtUtMQ&source=youjia&q=%E5%AE%B6%E5%85%B7',\n",
       " '家饰': 'https://s.taobao.com/list?source=youjia&cat=50065206%2C50065205',\n",
       " '家纺': 'https://s.taobao.com/list?spm=a21bo.50862.201867-links-11.80.K6jN68&source=youjia&cat=50008163&bcoffset=0&s=240',\n",
       " '汽车': 'https://car.tmall.com/wow/car/act/carfp',\n",
       " '二手车': 'https://2car.taobao.com/',\n",
       " '办公': 'https://www.taobao.com/markets/bangong/pchome',\n",
       " 'DIY': 'https://www.taobao.com/markets/dingzhi/home',\n",
       " '五金电子': 'https://wujin.taobao.com/',\n",
       " '百货': 'https://s.taobao.com/list?source=youjia&q=%E7%99%BE%E8%B4%A7',\n",
       " '餐厨': 'https://s.taobao.com/list?source=youjia&cat=50035867&bcoffset=0&s=240',\n",
       " '家庭保健': 'https://www.taobao.com/markets/promotion/tbbj',\n",
       " '学习': 'https://xue.taobao.com/',\n",
       " '卡券': 'https://ka.taobao.com/',\n",
       " '本地服务': 'https://s.taobao.com/list?q=%E4%B8%8A%E9%97%A8%E6%9C%8D%E5%8A%A1&cat=50097750'}"
      ]
     },
     "execution_count": 56,
     "metadata": {},
     "output_type": "execute_result"
    }
   ],
   "source": [
    "categories = {}\n",
    "for input in inputs:\n",
    "    categories[input.text] = input.get_attribute('href')\n",
    "categories"
   ]
  },
  {
   "cell_type": "code",
   "execution_count": 57,
   "metadata": {},
   "outputs": [],
   "source": [
    "browser.close()"
   ]
  },
  {
   "cell_type": "code",
   "execution_count": null,
   "metadata": {},
   "outputs": [],
   "source": []
  }
 ],
 "metadata": {
  "kernelspec": {
   "display_name": "Python 3",
   "language": "python",
   "name": "python3"
  },
  "language_info": {
   "codemirror_mode": {
    "name": "ipython",
    "version": 3
   },
   "file_extension": ".py",
   "mimetype": "text/x-python",
   "name": "python",
   "nbconvert_exporter": "python",
   "pygments_lexer": "ipython3",
   "version": "3.6.5"
  }
 },
 "nbformat": 4,
 "nbformat_minor": 2
}
