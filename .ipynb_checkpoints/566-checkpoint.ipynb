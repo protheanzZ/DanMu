{
 "cells": [
  {
   "cell_type": "code",
   "execution_count": 1,
   "metadata": {},
   "outputs": [],
   "source": [
    "from selenium import webdriver\n",
    "from bs4 import BeautifulSoup\n",
    "import time\n",
    "import re\n",
    "from multiprocessing import Pool\n",
    "import csv\n",
    "\n",
    "from selenium.webdriver.support.ui import WebDriverWait\n",
    "from selenium.webdriver.support import expected_conditions as EC\n",
    "from selenium.webdriver.common.by import By\n",
    "from selenium.common.exceptions import StaleElementReferenceException"
   ]
  },
  {
   "cell_type": "code",
   "execution_count": 2,
   "metadata": {},
   "outputs": [],
   "source": [
    "browser = webdriver.Chrome()\n",
    "browser.get('https://www.douyu.com/82088')"
   ]
  },
  {
   "cell_type": "code",
   "execution_count": null,
   "metadata": {},
   "outputs": [
    {
     "name": "stdout",
     "output_type": "stream",
     "text": [
      "InsertTime:   0.1086 , AddNumber:       40 , WaitingTime:   104.68\n",
      "InsertTime:   0.1347 , AddNumber:      171 , WaitingTime:   106.34\n",
      "InsertTime:   0.1356 , AddNumber:      159 , WaitingTime:   132.04\n",
      "InsertTime:   0.1397 , AddNumber:      168 , WaitingTime:   142.10\n",
      "InsertTime:   0.1476 , AddNumber:      172 , WaitingTime:    81.97\n",
      "InsertTime:   0.1526 , AddNumber:      172 , WaitingTime:   383.12\n",
      "InsertTime:   0.1293 , AddNumber:       77 , "
     ]
    }
   ],
   "source": [
    "cast_name = browser.find_element_by_xpath('//a[@class=\"zb-name\"]/h1').text\n",
    "date = time.strftime('%m-%d')\n",
    "\n",
    "data_file = 'data_in_csv/%s-%s.csv' % (cast_name, date)\n",
    "log_file = 'log/%s-%s.txt' % (cast_name, date)\n",
    "\n",
    "with open(log_file, 'a+', encoding='utf-8') as log:\n",
    "    log.write(time.strftime('>>>>logging time:%Y/%m/%d-%H:%M:%S<<<<<\\n'))\n",
    "    \n",
    "while True:\n",
    "    s = time.time()\n",
    "    chunks = re.findall('<li class=\"jschartli hy-chat(.*?)</li>', browser.page_source, re.S)\n",
    "    \n",
    "    node = browser.find_elements_by_xpath('//ul[@class=\"c-list\"]/li[@class=\"jschartli hy-chat  \"]')[-1]\n",
    "    wait = WebDriverWait(browser, 3600)\n",
    "    count = 0\n",
    "    \n",
    "    for c in chunks:\n",
    "        level = re.findall('data-level=\"(.*?)\" ', c, re.S)[0]\n",
    "        if re.findall('<i>(.*?)</i>',c, re.S):\n",
    "            fans = re.findall('<i>(.*?)</i>', c, re.S)[0]\n",
    "        else:\n",
    "            fans = '无粉丝牌'\n",
    "        name = re.findall('data-noble=\".*?\">(.*?)：<', c, re.S)[0]\n",
    "        dm = re.findall('chatid=.*?\">(.*?)</span', c, re.S)[0]\n",
    "        count += 1\n",
    "        \n",
    "        with open(data_file, 'a+', newline='', encoding='utf-8') as f:\n",
    "            writer = csv.writer(f)\n",
    "            writer.writerow([name, level, fans, dm])\n",
    "            \n",
    "    e = time.time()        \n",
    "    print('InsertTime: %8.4f' % (e-s), end=' , ')\n",
    "    print('AddNumber: %8d' % (count), end=' , ')\n",
    "    s_ = time.time()\n",
    "    wait.until(EC.staleness_of(node))\n",
    "    e_ = time.time()\n",
    "    print('WaitingTime: %8.2f' % (e_-s_))\n",
    "    \n",
    "    with open(log_file, 'a+', encoding='utf-8') as log:\n",
    "        log.write('InsertTime:  %8.4f , ' % (e - s))\n",
    "        log.write('AddNumber:   %8d , '   % (count))\n",
    "        log.write('WaitingTime: %8.2f\\n' % (e_-s_))"
   ]
  },
  {
   "cell_type": "code",
   "execution_count": null,
   "metadata": {},
   "outputs": [],
   "source": []
  }
 ],
 "metadata": {
  "kernelspec": {
   "display_name": "Python 3",
   "language": "python",
   "name": "python3"
  },
  "language_info": {
   "codemirror_mode": {
    "name": "ipython",
    "version": 3
   },
   "file_extension": ".py",
   "mimetype": "text/x-python",
   "name": "python",
   "nbconvert_exporter": "python",
   "pygments_lexer": "ipython3",
   "version": "3.6.5"
  }
 },
 "nbformat": 4,
 "nbformat_minor": 2
}
