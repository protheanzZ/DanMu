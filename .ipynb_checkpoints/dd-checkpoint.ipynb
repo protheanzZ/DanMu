{
 "cells": [
  {
   "cell_type": "code",
   "execution_count": 1,
   "metadata": {},
   "outputs": [],
   "source": [
    "from selenium import webdriver\n",
    "from bs4 import BeautifulSoup\n",
    "import time\n",
    "import re\n",
    "from multiprocessing import Pool\n",
    "import csv\n",
    "\n",
    "from selenium.webdriver.support.ui import WebDriverWait\n",
    "from selenium.webdriver.support import expected_conditions as EC\n",
    "from selenium.webdriver.common.by import By\n",
    "from selenium.common.exceptions import StaleElementReferenceException"
   ]
  },
  {
   "cell_type": "code",
   "execution_count": 2,
   "metadata": {},
   "outputs": [],
   "source": [
    "browser = webdriver.Chrome()\n",
    "browser.get('https://www.douyu.com/110')"
   ]
  },
  {
   "cell_type": "code",
   "execution_count": 3,
   "metadata": {},
   "outputs": [
    {
     "name": "stdout",
     "output_type": "stream",
     "text": [
      "InsertTime:   0.0708 , AddNumber:        9 , WaitingTime:    89.99 , DateNTime: Fri Aug 17 11:29:52 2018\n",
      "\n",
      "InsertTime:   0.1077 , AddNumber:      161 , WaitingTime:    63.74 , DateNTime: Fri Aug 17 11:30:56 2018\n",
      "\n",
      "InsertTime:   0.1227 , AddNumber:      179 , WaitingTime:    63.23 , DateNTime: Fri Aug 17 11:31:59 2018\n",
      "\n",
      "InsertTime:   0.1171 , AddNumber:      178 , WaitingTime:    76.82 , DateNTime: Fri Aug 17 11:33:16 2018\n",
      "\n",
      "InsertTime:   0.1117 , AddNumber:      168 , WaitingTime:    16.69 , DateNTime: Fri Aug 17 11:33:33 2018\n",
      "\n",
      "InsertTime:   0.0928 , AddNumber:      191 , WaitingTime:    71.31 , DateNTime: Fri Aug 17 11:34:44 2018\n",
      "\n",
      "InsertTime:   0.0996 , AddNumber:      155 , WaitingTime:    94.04 , DateNTime: Fri Aug 17 11:36:19 2018\n",
      "\n",
      "InsertTime:   0.1037 , AddNumber:      164 , WaitingTime:   107.14 , DateNTime: Fri Aug 17 11:38:06 2018\n",
      "\n",
      "InsertTime:   0.0947 , AddNumber:      170 , WaitingTime:    84.96 , DateNTime: Fri Aug 17 11:39:31 2018\n",
      "\n",
      "InsertTime:   0.1089 , AddNumber:      174 , WaitingTime:   102.19 , DateNTime: Fri Aug 17 11:41:13 2018\n",
      "\n",
      "InsertTime:   0.1087 , AddNumber:      142 , WaitingTime:    29.88 , DateNTime: Fri Aug 17 11:41:43 2018\n",
      "\n",
      "InsertTime:   0.1047 , AddNumber:      160 , WaitingTime:    52.61 , DateNTime: Fri Aug 17 11:42:36 2018\n",
      "\n",
      "InsertTime:   0.0918 , AddNumber:      150 , WaitingTime:    91.68 , DateNTime: Fri Aug 17 11:44:08 2018\n",
      "\n",
      "InsertTime:   0.1076 , AddNumber:      144 , WaitingTime:    59.24 , DateNTime: Fri Aug 17 11:45:07 2018\n",
      "\n",
      "InsertTime:   0.1017 , AddNumber:      152 , WaitingTime:    39.99 , DateNTime: Fri Aug 17 11:45:47 2018\n",
      "\n",
      "InsertTime:   0.1187 , AddNumber:      176 , WaitingTime:    24.32 , DateNTime: Fri Aug 17 11:46:12 2018\n",
      "\n",
      "InsertTime:   0.1107 , AddNumber:      185 , WaitingTime:    35.42 , DateNTime: Fri Aug 17 11:46:47 2018\n",
      "\n",
      "InsertTime:   0.1207 , AddNumber:      179 , WaitingTime:    67.82 , DateNTime: Fri Aug 17 11:47:55 2018\n",
      "\n",
      "InsertTime:   0.1406 , AddNumber:      155 , WaitingTime:    51.14 , DateNTime: Fri Aug 17 11:48:46 2018\n",
      "\n",
      "InsertTime:   0.1041 , AddNumber:      159 , WaitingTime:    42.00 , DateNTime: Fri Aug 17 11:49:28 2018\n",
      "\n",
      "InsertTime:   0.0967 , AddNumber:      174 , WaitingTime:    36.43 , DateNTime: Fri Aug 17 11:50:05 2018\n",
      "\n",
      "InsertTime:   0.1142 , AddNumber:      185 , WaitingTime:    41.52 , DateNTime: Fri Aug 17 11:50:47 2018\n",
      "\n",
      "InsertTime:   0.1217 , AddNumber:      183 , WaitingTime:    37.47 , DateNTime: Fri Aug 17 11:51:24 2018\n",
      "\n",
      "InsertTime:   0.1268 , AddNumber:      179 , "
     ]
    },
    {
     "ename": "KeyboardInterrupt",
     "evalue": "",
     "output_type": "error",
     "traceback": [
      "\u001b[1;31m---------------------------------------------------------------------------\u001b[0m",
      "\u001b[1;31mKeyboardInterrupt\u001b[0m                         Traceback (most recent call last)",
      "\u001b[1;32m<ipython-input-3-7abe6d66e75d>\u001b[0m in \u001b[0;36m<module>\u001b[1;34m()\u001b[0m\n\u001b[0;32m     39\u001b[0m     \u001b[0mprint\u001b[0m\u001b[1;33m(\u001b[0m\u001b[1;34m'AddNumber: %8d'\u001b[0m \u001b[1;33m%\u001b[0m \u001b[1;33m(\u001b[0m\u001b[0mcount\u001b[0m\u001b[1;33m)\u001b[0m\u001b[1;33m,\u001b[0m \u001b[0mend\u001b[0m\u001b[1;33m=\u001b[0m\u001b[1;34m' , '\u001b[0m\u001b[1;33m)\u001b[0m\u001b[1;33m\u001b[0m\u001b[0m\n\u001b[0;32m     40\u001b[0m     \u001b[0ms_\u001b[0m \u001b[1;33m=\u001b[0m \u001b[0mtime\u001b[0m\u001b[1;33m.\u001b[0m\u001b[0mtime\u001b[0m\u001b[1;33m(\u001b[0m\u001b[1;33m)\u001b[0m\u001b[1;33m\u001b[0m\u001b[0m\n\u001b[1;32m---> 41\u001b[1;33m     \u001b[0mwait\u001b[0m\u001b[1;33m.\u001b[0m\u001b[0muntil\u001b[0m\u001b[1;33m(\u001b[0m\u001b[0mEC\u001b[0m\u001b[1;33m.\u001b[0m\u001b[0mstaleness_of\u001b[0m\u001b[1;33m(\u001b[0m\u001b[0mnode\u001b[0m\u001b[1;33m)\u001b[0m\u001b[1;33m)\u001b[0m\u001b[1;33m\u001b[0m\u001b[0m\n\u001b[0m\u001b[0;32m     42\u001b[0m     \u001b[0me_\u001b[0m \u001b[1;33m=\u001b[0m \u001b[0mtime\u001b[0m\u001b[1;33m.\u001b[0m\u001b[0mtime\u001b[0m\u001b[1;33m(\u001b[0m\u001b[1;33m)\u001b[0m\u001b[1;33m\u001b[0m\u001b[0m\n\u001b[0;32m     43\u001b[0m     \u001b[0mprint\u001b[0m\u001b[1;33m(\u001b[0m\u001b[1;34m'WaitingTime: %8.2f'\u001b[0m \u001b[1;33m%\u001b[0m \u001b[1;33m(\u001b[0m\u001b[0me_\u001b[0m\u001b[1;33m-\u001b[0m\u001b[0ms_\u001b[0m\u001b[1;33m)\u001b[0m\u001b[1;33m,\u001b[0m \u001b[0mend\u001b[0m\u001b[1;33m=\u001b[0m\u001b[1;34m' , '\u001b[0m\u001b[1;33m)\u001b[0m\u001b[1;33m\u001b[0m\u001b[0m\n",
      "\u001b[1;32m~\\Anaconda3\\lib\\site-packages\\selenium\\webdriver\\support\\wait.py\u001b[0m in \u001b[0;36muntil\u001b[1;34m(self, method, message)\u001b[0m\n\u001b[0;32m     75\u001b[0m                 \u001b[0mscreen\u001b[0m \u001b[1;33m=\u001b[0m \u001b[0mgetattr\u001b[0m\u001b[1;33m(\u001b[0m\u001b[0mexc\u001b[0m\u001b[1;33m,\u001b[0m \u001b[1;34m'screen'\u001b[0m\u001b[1;33m,\u001b[0m \u001b[1;32mNone\u001b[0m\u001b[1;33m)\u001b[0m\u001b[1;33m\u001b[0m\u001b[0m\n\u001b[0;32m     76\u001b[0m                 \u001b[0mstacktrace\u001b[0m \u001b[1;33m=\u001b[0m \u001b[0mgetattr\u001b[0m\u001b[1;33m(\u001b[0m\u001b[0mexc\u001b[0m\u001b[1;33m,\u001b[0m \u001b[1;34m'stacktrace'\u001b[0m\u001b[1;33m,\u001b[0m \u001b[1;32mNone\u001b[0m\u001b[1;33m)\u001b[0m\u001b[1;33m\u001b[0m\u001b[0m\n\u001b[1;32m---> 77\u001b[1;33m             \u001b[0mtime\u001b[0m\u001b[1;33m.\u001b[0m\u001b[0msleep\u001b[0m\u001b[1;33m(\u001b[0m\u001b[0mself\u001b[0m\u001b[1;33m.\u001b[0m\u001b[0m_poll\u001b[0m\u001b[1;33m)\u001b[0m\u001b[1;33m\u001b[0m\u001b[0m\n\u001b[0m\u001b[0;32m     78\u001b[0m             \u001b[1;32mif\u001b[0m \u001b[0mtime\u001b[0m\u001b[1;33m.\u001b[0m\u001b[0mtime\u001b[0m\u001b[1;33m(\u001b[0m\u001b[1;33m)\u001b[0m \u001b[1;33m>\u001b[0m \u001b[0mend_time\u001b[0m\u001b[1;33m:\u001b[0m\u001b[1;33m\u001b[0m\u001b[0m\n\u001b[0;32m     79\u001b[0m                 \u001b[1;32mbreak\u001b[0m\u001b[1;33m\u001b[0m\u001b[0m\n",
      "\u001b[1;31mKeyboardInterrupt\u001b[0m: "
     ]
    }
   ],
   "source": [
    "cast_name = browser.find_element_by_xpath('//a[@class=\"zb-name\"]/h1').text\n",
    "date = time.strftime('%m-%d')\n",
    "\n",
    "data_file = 'data_in_csv/%s-%s.csv' % (cast_name, date)\n",
    "log_file = 'log/%s-%s.txt' % (cast_name, date)\n",
    "\n",
    "with open(log_file, 'a+', encoding='utf-8') as log:\n",
    "    log.write(time.strftime('>>>>logging time:%Y/%m/%d-%H:%M:%S<<<<<\\n'))\n",
    "    \n",
    "while True:\n",
    "    date = time.strftime('%m-%d')\n",
    "    data_file = 'data_in_csv/%s-%s.csv' % (cast_name, date)\n",
    "    log_file = 'log/%s-%s.txt' % (cast_name, date)\n",
    "    \n",
    "    s = time.time()\n",
    "    chunks = re.findall('<li class=\"jschartli hy-chat(.*?)</li>', browser.page_source, re.S)\n",
    "    \n",
    "    node = browser.find_elements_by_xpath('//ul[@class=\"c-list\"]/li[@class=\"jschartli hy-chat  \"]')[-1]\n",
    "    wait = WebDriverWait(browser, 3600)\n",
    "\n",
    "    names, levels, fans, dms = [], [], [], []\n",
    "    for c in chunks:\n",
    "        levels.append(re.findall('data-level=\"(.*?)\" ', c, re.S)[0])\n",
    "        if re.findall('<i>(.*?)</i>',c, re.S):\n",
    "            fans.append(re.findall('<i>(.*?)</i>', c, re.S)[0])\n",
    "        else:\n",
    "            fans.append('无粉丝牌')\n",
    "        names.append(re.findall('data-noble=\".*?\">(.*?)：<', c, re.S)[0])\n",
    "        dms.append(re.findall('chatid=.*?\">(.*?)</span', c, re.S)[0])\n",
    "        \n",
    "    with open(data_file, 'a+', newline='', encoding='utf-8') as f:\n",
    "        writer = csv.writer(f)\n",
    "        writer.writerows(zip(names, levels, fans, dms))\n",
    "        \n",
    "    count = len(names)  \n",
    "    \n",
    "    e = time.time()        \n",
    "    print('InsertTime: %8.4f' % (e-s), end=' , ')\n",
    "    print('AddNumber: %8d' % (count), end=' , ')\n",
    "    s_ = time.time()\n",
    "    wait.until(EC.staleness_of(node))\n",
    "    e_ = time.time()\n",
    "    print('WaitingTime: %8.2f' % (e_-s_), end=' , ')\n",
    "    t = time.strftime('%c')\n",
    "    print('DateNTime: %s\\n' % (t))\n",
    "    with open(log_file, 'a+', encoding='utf-8') as log:\n",
    "        log.write('InsertTime:  %8.4f , ' % (e - s))\n",
    "        log.write('AddNumber:   %8d , '   % (count))\n",
    "        log.write('WaitingTime: %8.2f , ' % (e_-s_))\n",
    "        log.write('DateNTime: %s\\n' % (t))"
   ]
  },
  {
   "cell_type": "code",
   "execution_count": null,
   "metadata": {},
   "outputs": [],
   "source": []
  }
 ],
 "metadata": {
  "kernelspec": {
   "display_name": "Python 3",
   "language": "python",
   "name": "python3"
  },
  "language_info": {
   "codemirror_mode": {
    "name": "ipython",
    "version": 3
   },
   "file_extension": ".py",
   "mimetype": "text/x-python",
   "name": "python",
   "nbconvert_exporter": "python",
   "pygments_lexer": "ipython3",
   "version": "3.6.5"
  }
 },
 "nbformat": 4,
 "nbformat_minor": 2
}
