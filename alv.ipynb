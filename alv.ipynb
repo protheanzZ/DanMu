{
 "cells": [
  {
   "cell_type": "code",
   "execution_count": 1,
   "metadata": {},
   "outputs": [],
   "source": [
    "from selenium import webdriver\n",
    "from bs4 import BeautifulSoup\n",
    "import time\n",
    "import re\n",
    "from multiprocessing import Pool\n",
    "import csv\n",
    "\n",
    "from selenium.webdriver.support.ui import WebDriverWait\n",
    "from selenium.webdriver.support import expected_conditions as EC\n",
    "from selenium.webdriver.common.by import By\n",
    "from selenium.common.exceptions import StaleElementReferenceException"
   ]
  },
  {
   "cell_type": "code",
   "execution_count": 2,
   "metadata": {},
   "outputs": [],
   "source": [
    "browser = webdriver.Chrome()\n",
    "browser.get('https://www.douyu.com/1256569')"
   ]
  },
  {
   "cell_type": "code",
   "execution_count": 4,
   "metadata": {},
   "outputs": [
    {
     "name": "stdout",
     "output_type": "stream",
     "text": [
      "InsertTime:   0.1207 , AddNumber:      170 , WaitingTime:    79.55 , DateNTime: Thu Aug 16 00:03:07 2018\n",
      "\n",
      "InsertTime:   0.1157 , AddNumber:      154 , WaitingTime:   178.15 , DateNTime: Thu Aug 16 00:06:05 2018\n",
      "\n",
      "InsertTime:   0.1267 , AddNumber:      124 , WaitingTime:   469.37 , DateNTime: Thu Aug 16 00:13:55 2018\n",
      "\n"
     ]
    },
    {
     "ename": "IndexError",
     "evalue": "list index out of range",
     "output_type": "error",
     "traceback": [
      "\u001b[1;31m---------------------------------------------------------------------------\u001b[0m",
      "\u001b[1;31mIndexError\u001b[0m                                Traceback (most recent call last)",
      "\u001b[1;32m<ipython-input-4-8d7e54897071>\u001b[0m in \u001b[0;36m<module>\u001b[1;34m()\u001b[0m\n\u001b[0;32m     12\u001b[0m     \u001b[0mchunks\u001b[0m \u001b[1;33m=\u001b[0m \u001b[0mre\u001b[0m\u001b[1;33m.\u001b[0m\u001b[0mfindall\u001b[0m\u001b[1;33m(\u001b[0m\u001b[1;34m'<li class=\"jschartli hy-chat(.*?)</li>'\u001b[0m\u001b[1;33m,\u001b[0m \u001b[0mbrowser\u001b[0m\u001b[1;33m.\u001b[0m\u001b[0mpage_source\u001b[0m\u001b[1;33m,\u001b[0m \u001b[0mre\u001b[0m\u001b[1;33m.\u001b[0m\u001b[0mS\u001b[0m\u001b[1;33m)\u001b[0m\u001b[1;33m\u001b[0m\u001b[0m\n\u001b[0;32m     13\u001b[0m \u001b[1;33m\u001b[0m\u001b[0m\n\u001b[1;32m---> 14\u001b[1;33m     \u001b[0mnode\u001b[0m \u001b[1;33m=\u001b[0m \u001b[0mbrowser\u001b[0m\u001b[1;33m.\u001b[0m\u001b[0mfind_elements_by_xpath\u001b[0m\u001b[1;33m(\u001b[0m\u001b[1;34m'//ul[@class=\"c-list\"]/li[@class=\"jschartli hy-chat  \"]'\u001b[0m\u001b[1;33m)\u001b[0m\u001b[1;33m[\u001b[0m\u001b[1;33m-\u001b[0m\u001b[1;36m1\u001b[0m\u001b[1;33m]\u001b[0m\u001b[1;33m\u001b[0m\u001b[0m\n\u001b[0m\u001b[0;32m     15\u001b[0m     \u001b[0mwait\u001b[0m \u001b[1;33m=\u001b[0m \u001b[0mWebDriverWait\u001b[0m\u001b[1;33m(\u001b[0m\u001b[0mbrowser\u001b[0m\u001b[1;33m,\u001b[0m \u001b[1;36m3600\u001b[0m\u001b[1;33m)\u001b[0m\u001b[1;33m\u001b[0m\u001b[0m\n\u001b[0;32m     16\u001b[0m \u001b[1;33m\u001b[0m\u001b[0m\n",
      "\u001b[1;31mIndexError\u001b[0m: list index out of range"
     ]
    }
   ],
   "source": [
    "cast_name = browser.find_element_by_xpath('//a[@class=\"zb-name\"]/h1').text\n",
    "date = time.strftime('%m-%d')\n",
    "\n",
    "data_file = 'data_in_csv/%s-%s.csv' % (cast_name, date)\n",
    "log_file = 'log/%s-%s.txt' % (cast_name, date)\n",
    "\n",
    "with open(log_file, 'a+', encoding='utf-8') as log:\n",
    "    log.write(time.strftime('>>>>logging time:%Y/%m/%d-%H:%M:%S<<<<<\\n'))\n",
    "    \n",
    "while True:\n",
    "    s = time.time()\n",
    "    chunks = re.findall('<li class=\"jschartli hy-chat(.*?)</li>', browser.page_source, re.S)\n",
    "    \n",
    "    node = browser.find_elements_by_xpath('//ul[@class=\"c-list\"]/li[@class=\"jschartli hy-chat  \"]')[-1]\n",
    "    wait = WebDriverWait(browser, 3600)\n",
    "\n",
    "    names, levels, fans, dms = [], [], [], []\n",
    "    for c in chunks:\n",
    "        levels.append(re.findall('data-level=\"(.*?)\" ', c, re.S)[0])\n",
    "        if re.findall('<i>(.*?)</i>',c, re.S):\n",
    "            fans.append(re.findall('<i>(.*?)</i>', c, re.S)[0])\n",
    "        else:\n",
    "            fans.append('无粉丝牌')\n",
    "        names.append(re.findall('data-noble=\".*?\">(.*?)：<', c, re.S)[0])\n",
    "        dms.append(re.findall('chatid=.*?\">(.*?)</span', c, re.S)[0])\n",
    "        \n",
    "    with open(data_file, 'a+', newline='', encoding='utf-8') as f:\n",
    "        writer = csv.writer(f)\n",
    "        writer.writerows(zip(names, levels, fans, dms))\n",
    "        \n",
    "    count = len(names)  \n",
    "    \n",
    "    e = time.time()        \n",
    "    print('InsertTime: %8.4f' % (e-s), end=' , ')\n",
    "    print('AddNumber: %8d' % (count), end=' , ')\n",
    "    s_ = time.time()\n",
    "    wait.until(EC.staleness_of(node))\n",
    "    e_ = time.time()\n",
    "    print('WaitingTime: %8.2f' % (e_-s_), end=' , ')\n",
    "    t = time.strftime('%c')\n",
    "    print('DateNTime: %s\\n' % (t))\n",
    "    with open(log_file, 'a+', encoding='utf-8') as log:\n",
    "        log.write('InsertTime:  %8.4f , ' % (e - s))\n",
    "        log.write('AddNumber:   %8d , '   % (count))\n",
    "        log.write('WaitingTime: %8.2f , ' % (e_-s_))\n",
    "        log.write('DateNTime: %s\\n' % (t))"
   ]
  },
  {
   "cell_type": "code",
   "execution_count": null,
   "metadata": {},
   "outputs": [],
   "source": []
  }
 ],
 "metadata": {
  "kernelspec": {
   "display_name": "Python 3",
   "language": "python",
   "name": "python3"
  },
  "language_info": {
   "codemirror_mode": {
    "name": "ipython",
    "version": 3
   },
   "file_extension": ".py",
   "mimetype": "text/x-python",
   "name": "python",
   "nbconvert_exporter": "python",
   "pygments_lexer": "ipython3",
   "version": "3.6.5"
  }
 },
 "nbformat": 4,
 "nbformat_minor": 2
}
