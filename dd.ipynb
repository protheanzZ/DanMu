{
 "cells": [
  {
   "cell_type": "code",
   "execution_count": 1,
   "metadata": {},
   "outputs": [],
   "source": [
    "from selenium import webdriver\n",
    "from bs4 import BeautifulSoup\n",
    "import time\n",
    "import re\n",
    "from multiprocessing import Pool\n",
    "import csv\n",
    "\n",
    "from selenium.webdriver.support.ui import WebDriverWait\n",
    "from selenium.webdriver.support import expected_conditions as EC\n",
    "from selenium.webdriver.common.by import By\n",
    "from selenium.common.exceptions import StaleElementReferenceException"
   ]
  },
  {
   "cell_type": "code",
   "execution_count": 2,
   "metadata": {},
   "outputs": [],
   "source": [
    "browser = webdriver.Chrome()\n",
    "browser.get('https://www.douyu.com/110')"
   ]
  },
  {
   "cell_type": "code",
   "execution_count": null,
   "metadata": {},
   "outputs": [
    {
     "name": "stdout",
     "output_type": "stream",
     "text": [
      "InsertTime:   0.0649 , AddNumber:       14 , WaitingTime:   130.79 , DateNTime: Sat Aug 25 01:50:17 2018\n",
      "\n",
      "InsertTime:   0.1077 , AddNumber:      142 , WaitingTime:   138.39 , DateNTime: Sat Aug 25 01:52:36 2018\n",
      "\n",
      "InsertTime:   0.0968 , AddNumber:      116 , WaitingTime:   175.31 , DateNTime: Sat Aug 25 01:55:31 2018\n",
      "\n",
      "InsertTime:   0.1163 , AddNumber:      107 , WaitingTime:    18.80 , DateNTime: Sat Aug 25 01:55:50 2018\n",
      "\n",
      "InsertTime:   0.0828 , AddNumber:        8 , WaitingTime:   109.03 , DateNTime: Sat Aug 25 01:57:39 2018\n",
      "\n",
      "InsertTime:   0.0858 , AddNumber:       63 , WaitingTime:   317.84 , DateNTime: Sat Aug 25 02:02:57 2018\n",
      "\n",
      "InsertTime:   0.0938 , AddNumber:      144 , WaitingTime:   512.58 , DateNTime: Sat Aug 25 02:11:30 2018\n",
      "\n",
      "InsertTime:   0.0968 , AddNumber:      161 , WaitingTime:   378.61 , DateNTime: Sat Aug 25 02:17:49 2018\n",
      "\n",
      "InsertTime:   0.1297 , AddNumber:      179 , WaitingTime:   361.79 , DateNTime: Sat Aug 25 02:23:51 2018\n",
      "\n",
      "InsertTime:   0.1012 , AddNumber:      180 , WaitingTime:   371.97 , DateNTime: Sat Aug 25 02:30:03 2018\n",
      "\n",
      "InsertTime:   0.1107 , AddNumber:      182 , "
     ]
    }
   ],
   "source": [
    "cast_name = browser.find_element_by_xpath('//a[@class=\"zb-name\"]/h1').text\n",
    "date = time.strftime('%m-%d')\n",
    "\n",
    "data_file = 'data_in_csv/%s-%s.csv' % (cast_name, date)\n",
    "log_file = 'log/%s-%s.txt' % (cast_name, date)\n",
    "\n",
    "with open(log_file, 'a+', encoding='utf-8') as log:\n",
    "    log.write(time.strftime('>>>>logging time:%Y/%m/%d-%H:%M:%S<<<<<\\n'))\n",
    "    \n",
    "while True:\n",
    "    date = time.strftime('%m-%d')\n",
    "    data_file = 'data_in_csv/%s-%s.csv' % (cast_name, date)\n",
    "    log_file = 'log/%s-%s.txt' % (cast_name, date)\n",
    "    \n",
    "    s = time.time()\n",
    "    chunks = re.findall('<li class=\"jschartli hy-chat(.*?)</li>', browser.page_source, re.S)\n",
    "    \n",
    "    node = browser.find_elements_by_xpath('//ul[@class=\"c-list\"]/li[@class=\"jschartli hy-chat  \"]')[-1]\n",
    "    wait = WebDriverWait(browser, 3600)\n",
    "\n",
    "    names, levels, fans, dms = [], [], [], []\n",
    "    for c in chunks:\n",
    "        levels.append(re.findall('data-level=\"(.*?)\" ', c, re.S)[0])\n",
    "        if re.findall('<i>(.*?)</i>',c, re.S):\n",
    "            fans.append(re.findall('<i>(.*?)</i>', c, re.S)[0])\n",
    "        else:\n",
    "            fans.append('无粉丝牌')\n",
    "        names.append(re.findall('data-noble=\".*?\">(.*?)：<', c, re.S)[0])\n",
    "        dms.append(re.findall('chatid=.*?\">(.*?)</span', c, re.S)[0])\n",
    "        \n",
    "    with open(data_file, 'a+', newline='', encoding='utf-8') as f:\n",
    "        writer = csv.writer(f)\n",
    "        writer.writerows(zip(names, levels, fans, dms))\n",
    "        \n",
    "    count = len(names)  \n",
    "    \n",
    "    e = time.time()        \n",
    "    print('InsertTime: %8.4f' % (e-s), end=' , ')\n",
    "    print('AddNumber: %8d' % (count), end=' , ')\n",
    "    s_ = time.time()\n",
    "    wait.until(EC.staleness_of(node))\n",
    "    e_ = time.time()\n",
    "    print('WaitingTime: %8.2f' % (e_-s_), end=' , ')\n",
    "    t = time.strftime('%c')\n",
    "    print('DateNTime: %s\\n' % (t))\n",
    "    with open(log_file, 'a+', encoding='utf-8') as log:\n",
    "        log.write('InsertTime:  %8.4f , ' % (e - s))\n",
    "        log.write('AddNumber:   %8d , '   % (count))\n",
    "        log.write('WaitingTime: %8.2f , ' % (e_-s_))\n",
    "        log.write('DateNTime: %s\\n' % (t))"
   ]
  },
  {
   "cell_type": "code",
   "execution_count": null,
   "metadata": {},
   "outputs": [],
   "source": []
  }
 ],
 "metadata": {
  "kernelspec": {
   "display_name": "Python 3",
   "language": "python",
   "name": "python3"
  },
  "language_info": {
   "codemirror_mode": {
    "name": "ipython",
    "version": 3
   },
   "file_extension": ".py",
   "mimetype": "text/x-python",
   "name": "python",
   "nbconvert_exporter": "python",
   "pygments_lexer": "ipython3",
   "version": "3.6.6"
  }
 },
 "nbformat": 4,
 "nbformat_minor": 2
}
