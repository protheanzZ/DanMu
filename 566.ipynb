{
 "cells": [
  {
   "cell_type": "code",
   "execution_count": 1,
   "metadata": {},
   "outputs": [],
   "source": [
    "from selenium import webdriver\n",
    "from bs4 import BeautifulSoup\n",
    "import time\n",
    "import re\n",
    "from multiprocessing import Pool\n",
    "import csv\n",
    "\n",
    "from selenium.webdriver.support.ui import WebDriverWait\n",
    "from selenium.webdriver.support import expected_conditions as EC\n",
    "from selenium.webdriver.common.by import By\n",
    "from selenium.common.exceptions import StaleElementReferenceException"
   ]
  },
  {
   "cell_type": "code",
   "execution_count": 2,
   "metadata": {},
   "outputs": [],
   "source": [
    "browser = webdriver.Chrome()\n",
    "browser.get('https://www.douyu.com/82088')"
   ]
  },
  {
   "cell_type": "code",
   "execution_count": null,
   "metadata": {},
   "outputs": [
    {
     "name": "stdout",
     "output_type": "stream",
     "text": [
      "InsertTime:   0.0719 , AddNumber:       18 , WaitingTime:   160.19 , DateNTime: Sat Aug 25 01:50:45 2018\n",
      "\n",
      "InsertTime:   0.0998 , AddNumber:      159 , WaitingTime:   170.80 , DateNTime: Sat Aug 25 01:53:36 2018\n",
      "\n",
      "InsertTime:   0.1232 , AddNumber:      170 , WaitingTime:   212.63 , DateNTime: Sat Aug 25 01:57:09 2018\n",
      "\n",
      "InsertTime:   0.0977 , AddNumber:      147 , WaitingTime:   196.68 , DateNTime: Sat Aug 25 02:00:25 2018\n",
      "\n",
      "InsertTime:   0.0949 , AddNumber:      155 , WaitingTime:   360.75 , DateNTime: Sat Aug 25 02:06:26 2018\n",
      "\n",
      "InsertTime:   0.0965 , AddNumber:      129 , WaitingTime:   305.23 , DateNTime: Sat Aug 25 02:11:32 2018\n",
      "\n",
      "InsertTime:   0.0993 , AddNumber:      159 , WaitingTime:   247.92 , DateNTime: Sat Aug 25 02:15:40 2018\n",
      "\n",
      "InsertTime:   0.0888 , AddNumber:      168 , WaitingTime:   345.58 , DateNTime: Sat Aug 25 02:21:25 2018\n",
      "\n",
      "InsertTime:   0.1007 , AddNumber:      160 , WaitingTime:   397.36 , DateNTime: Sat Aug 25 02:28:03 2018\n",
      "\n",
      "InsertTime:   0.1077 , AddNumber:      178 , WaitingTime:   148.38 , DateNTime: Sat Aug 25 02:30:31 2018\n",
      "\n",
      "InsertTime:   0.1137 , AddNumber:      189 , WaitingTime:   147.01 , DateNTime: Sat Aug 25 02:32:58 2018\n",
      "\n",
      "InsertTime:   0.0998 , AddNumber:      189 , "
     ]
    }
   ],
   "source": [
    "cast_name = browser.find_element_by_xpath('//a[@class=\"zb-name\"]/h1').text\n",
    "date = time.strftime('%m-%d')\n",
    "\n",
    "data_file = 'data_in_csv/%s-%s.csv' % (cast_name, date)\n",
    "log_file = 'log/%s-%s.txt' % (cast_name, date)\n",
    "\n",
    "with open(log_file, 'a+', encoding='utf-8') as log:\n",
    "    log.write(time.strftime('>>>>logging time:%Y/%m/%d-%H:%M:%S<<<<<\\n'))\n",
    "    \n",
    "while True:\n",
    "    date = time.strftime('%m-%d')\n",
    "    data_file = 'data_in_csv/%s-%s.csv' % (cast_name, date)\n",
    "    log_file = 'log/%s-%s.txt' % (cast_name, date)\n",
    "    \n",
    "    s = time.time()\n",
    "    chunks = re.findall('<li class=\"jschartli hy-chat(.*?)</li>', browser.page_source, re.S)\n",
    "    \n",
    "    node = browser.find_elements_by_xpath('//ul[@class=\"c-list\"]/li[@class=\"jschartli hy-chat  \"]')[-1]\n",
    "    wait = WebDriverWait(browser, 3600)\n",
    "\n",
    "    names, levels, fans, dms = [], [], [], []\n",
    "    for c in chunks:\n",
    "        levels.append(re.findall('data-level=\"(.*?)\" ', c, re.S)[0])\n",
    "        if re.findall('<i>(.*?)</i>',c, re.S):\n",
    "            fans.append(re.findall('<i>(.*?)</i>', c, re.S)[0])\n",
    "        else:\n",
    "            fans.append('无粉丝牌')\n",
    "        names.append(re.findall('data-noble=\".*?\">(.*?)：<', c, re.S)[0])\n",
    "        dms.append(re.findall('chatid=.*?\">(.*?)</span', c, re.S)[0])\n",
    "        \n",
    "    with open(data_file, 'a+', newline='', encoding='utf-8') as f:\n",
    "        writer = csv.writer(f)\n",
    "        writer.writerows(zip(names, levels, fans, dms))\n",
    "        \n",
    "    count = len(names)  \n",
    "    \n",
    "    e = time.time()        \n",
    "    print('InsertTime: %8.4f' % (e-s), end=' , ')\n",
    "    print('AddNumber: %8d' % (count), end=' , ')\n",
    "    s_ = time.time()\n",
    "    wait.until(EC.staleness_of(node))\n",
    "    e_ = time.time()\n",
    "    print('WaitingTime: %8.2f' % (e_-s_), end=' , ')\n",
    "    t = time.strftime('%c')\n",
    "    print('DateNTime: %s\\n' % (t))\n",
    "    with open(log_file, 'a+', encoding='utf-8') as log:\n",
    "        log.write('InsertTime:  %8.4f , ' % (e - s))\n",
    "        log.write('AddNumber:   %8d , '   % (count))\n",
    "        log.write('WaitingTime: %8.2f , ' % (e_-s_))\n",
    "        log.write('DateNTime: %s\\n' % (t))"
   ]
  },
  {
   "cell_type": "code",
   "execution_count": null,
   "metadata": {},
   "outputs": [],
   "source": []
  }
 ],
 "metadata": {
  "kernelspec": {
   "display_name": "Python 3",
   "language": "python",
   "name": "python3"
  },
  "language_info": {
   "codemirror_mode": {
    "name": "ipython",
    "version": 3
   },
   "file_extension": ".py",
   "mimetype": "text/x-python",
   "name": "python",
   "nbconvert_exporter": "python",
   "pygments_lexer": "ipython3",
   "version": "3.6.6"
  }
 },
 "nbformat": 4,
 "nbformat_minor": 2
}
