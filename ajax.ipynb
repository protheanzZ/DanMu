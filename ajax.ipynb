{
 "cells": [
  {
   "cell_type": "markdown",
   "metadata": {},
   "source": [
    "URL 解析  \n",
    "[![url](https://travis-ci.org/jupyterlab/jupyterlab.svg?branch=master)](http://www.baidu.com/index.html;user?id=5#comment)  \n",
    "![url](https://readthedocs.org/projects/jupyterlab/badge/?version=stable)  \n",
    "\n",
    "\n",
    "URL:`http://www.baidu.com/index.html;user?id=5#comment`  \n",
    "\n",
    "\n",
    "`http`-------------------://前面的是scheme，代表协议  \n",
    "`www.baidu.com`----------第一个/符号的前面是netloc，即域名                \n",
    "`index.html`-------------后面是path，访问路径  \n",
    "`user`-------------------**分号;后面是params，参数**  \n",
    "`id=5`-------------------**问号?后面是查询条件query，一般用作GET类型的URL**  \n",
    "`comment`----------------井号#后面是锚点。 "
   ]
  },
  {
   "cell_type": "markdown",
   "metadata": {},
   "source": [
    "docker-machine ssh default\n",
    "sudo sed -i \"s|EXTRA_ARGS='|EXTRA_ARGS='--registry-mirror=http://625d4b20.m.daocloud.io |g\" /var/lib/boot2docker/profile\n",
    "exit\n",
    "docker-machine restart default"
   ]
  },
  {
   "cell_type": "code",
   "execution_count": 37,
   "metadata": {},
   "outputs": [],
   "source": [
    "import time\n",
    "\n",
    "def count(n=100):\n",
    "    re = []\n",
    "    for i in range(n):\n",
    "        s = time.time()\n",
    "        time.sleep(1)\n",
    "        e = time.time()\n",
    "        re.append(e-s-1)\n",
    "    return re"
   ]
  },
  {
   "cell_type": "code",
   "execution_count": 38,
   "metadata": {},
   "outputs": [],
   "source": [
    "%matplotlib inline\n",
    "from matplotlib import pyplot as plt\n",
    "\n",
    "re = count()"
   ]
  },
  {
   "cell_type": "code",
   "execution_count": 22,
   "metadata": {},
   "outputs": [
    {
     "name": "stdout",
     "output_type": "stream",
     "text": [
      "1532944405.3932078\n",
      "1532944405.3824186\n",
      "0.010789155960083008\n"
     ]
    }
   ],
   "source": [
    "s = time.time()\n",
    "time.sleep(0.01)\n",
    "e = time.time()\n",
    "\n",
    "print(e)\n",
    "print(s)\n",
    "print(e-s)"
   ]
  },
  {
   "cell_type": "code",
   "execution_count": 20,
   "metadata": {},
   "outputs": [
    {
     "name": "stdout",
     "output_type": "stream",
     "text": [
      "https://www.baidu.com/s?ie=utf-8&f=8&rsv_bp=0&rsv_idx=1&tn=baidu&wd=Python&rsv_pq=8306d2930000aef1&rsv_t=7bbcih8STQfQC2mVjvj9GqH6x5L9JI1atR%2BCRlv69YMf%2Bya5%2B4HDhIeLuho&rqlang=cn&rsv_enter=1&rsv_sug3=6&rsv_sug2=0&inputT=102&rsv_sug4=102\n",
      "[{'domain': '.baidu.com', 'httpOnly': False, 'name': 'H_PS_PSSID', 'path': '/', 'secure': False, 'value': '1444_21088_26350_22074'}, {'domain': '.baidu.com', 'expiry': 3680497452.015083, 'httpOnly': False, 'name': 'BAIDUID', 'path': '/', 'secure': False, 'value': '246B49918C0289F2F08E020562B6F7D2:FG=1'}, {'domain': '.baidu.com', 'expiry': 3680497452.015126, 'httpOnly': False, 'name': 'BIDUPSID', 'path': '/', 'secure': False, 'value': '246B49918C0289F2F08E020562B6F7D2'}, {'domain': '.baidu.com', 'expiry': 3680497452.015142, 'httpOnly': False, 'name': 'PSTM', 'path': '/', 'secure': False, 'value': '1533013805'}, {'domain': '.baidu.com', 'httpOnly': False, 'name': 'PSINO', 'path': '/', 'secure': False, 'value': '3'}, {'domain': 'www.baidu.com', 'expiry': 2479093806.177316, 'httpOnly': False, 'name': 'delPer', 'path': '/', 'secure': False, 'value': '0'}, {'domain': 'www.baidu.com', 'httpOnly': False, 'name': 'BD_HOME', 'path': '/', 'secure': False, 'value': '0'}, {'domain': 'www.baidu.com', 'expiry': 1533877805, 'httpOnly': False, 'name': 'BD_UPN', 'path': '/', 'secure': False, 'value': '12314753'}, {'domain': 'www.baidu.com', 'httpOnly': False, 'name': 'BD_CK_SAM', 'path': '/', 'secure': False, 'value': '1'}, {'domain': 'www.baidu.com', 'expiry': 1533016398, 'httpOnly': False, 'name': 'H_PS_645EC', 'path': '/', 'secure': False, 'value': '22abZ0haesdmW%2BNnFh2fe3QCU%2BM9k2nH5OKqw1dVf9jmRkezo3wDgV6gNjE'}]\n"
     ]
    }
   ],
   "source": [
    "from selenium import webdriver\n",
    "from selenium.webdriver.common.by import By\n",
    "from selenium.webdriver.common.keys import Keys\n",
    "from selenium.webdriver.support import expected_conditions as EC\n",
    "from selenium.webdriver.support.wait import WebDriverWait\n",
    "import time\n",
    "\n",
    "\n",
    "browser = webdriver.Chrome()\n",
    "\n",
    "browser.get('https://www.baidu.com')\n",
    "input = browser.find_element_by_id('kw')\n",
    "input.send_keys('Python')\n",
    "input.send_keys(Keys.ENTER)\n",
    "wait = WebDriverWait(browser,10)\n",
    "wait.until(EC.presence_of_element_located((By.ID,'content_left')))\n",
    "print(browser.current_url)\n",
    "print(browser.get_cookies())\n",
    "browser.close()"
   ]
  },
  {
   "cell_type": "markdown",
   "metadata": {},
   "source": [
    "# Selenium 使用"
   ]
  },
  {
   "cell_type": "markdown",
   "metadata": {},
   "source": [
    "## 1.声明浏览器对象"
   ]
  },
  {
   "cell_type": "code",
   "execution_count": 1,
   "metadata": {},
   "outputs": [
    {
     "data": {
      "text/plain": [
       "<selenium.webdriver.chrome.webdriver.WebDriver (session=\"57f0edeef846193abf7be05d2279710d\")>"
      ]
     },
     "execution_count": 1,
     "metadata": {},
     "output_type": "execute_result"
    }
   ],
   "source": [
    "from selenium import webdriver\n",
    "\n",
    "browser = webdriver.Chrome()\n",
    "browser"
   ]
  },
  {
   "cell_type": "markdown",
   "metadata": {},
   "source": [
    "## 2.访问页面"
   ]
  },
  {
   "cell_type": "code",
   "execution_count": 3,
   "metadata": {},
   "outputs": [],
   "source": [
    "# get()请求网页\n",
    "browser.get('https://www.taobao.com')"
   ]
  },
  {
   "cell_type": "code",
   "execution_count": 21,
   "metadata": {},
   "outputs": [],
   "source": [
    "lib = dir(browser)"
   ]
  },
  {
   "cell_type": "code",
   "execution_count": 9,
   "metadata": {},
   "outputs": [],
   "source": [
    "browser.refresh()"
   ]
  },
  {
   "cell_type": "code",
   "execution_count": 18,
   "metadata": {},
   "outputs": [],
   "source": [
    "browser.fullscreen_window()"
   ]
  },
  {
   "cell_type": "code",
   "execution_count": 15,
   "metadata": {},
   "outputs": [],
   "source": [
    "png = browser.get_screenshot_as_png()\n",
    "with open('taobao.png', 'wb+') as f:\n",
    "    f.write(png)"
   ]
  },
  {
   "cell_type": "code",
   "execution_count": 19,
   "metadata": {},
   "outputs": [],
   "source": [
    "browser.maximize_window()"
   ]
  },
  {
   "cell_type": "code",
   "execution_count": 20,
   "metadata": {},
   "outputs": [],
   "source": [
    "browser.minimize_window()"
   ]
  },
  {
   "cell_type": "code",
   "execution_count": 23,
   "metadata": {},
   "outputs": [
    {
     "data": {
      "text/plain": [
       "True"
      ]
     },
     "execution_count": 23,
     "metadata": {},
     "output_type": "execute_result"
    }
   ],
   "source": [
    "browser.get_screenshot_as_file('taobao1.png')"
   ]
  },
  {
   "cell_type": "markdown",
   "metadata": {},
   "source": [
    "## 3.查找节点\n",
    "方法：\n",
    "\n",
    "    find_element_by_id\n",
    "    find_element_by_name\n",
    "    find_element_by_xpath\n",
    "    find_element_by_link_text\n",
    "    find_element_by_partial_link_text\n",
    "    find_element_by_tag_name\n",
    "    find_element_by_class_name\n",
    "    find_element_by_css_selector\n",
    "\n",
    "> 查找多个节点即用find_elemnts.*\n",
    "\n",
    "通用方法：\n",
    "\n",
    "    find_element()    \n",
    "    两个参数：查找方式和value\n",
    "    like: find_element(By.ID, id)"
   ]
  },
  {
   "cell_type": "code",
   "execution_count": 4,
   "metadata": {},
   "outputs": [
    {
     "data": {
      "text/plain": [
       "<selenium.webdriver.remote.webelement.WebElement (session=\"57f0edeef846193abf7be05d2279710d\", element=\"0.6955151220064795-1\")>"
      ]
     },
     "execution_count": 4,
     "metadata": {},
     "output_type": "execute_result"
    }
   ],
   "source": [
    "input1 = browser.find_element_by_id('q')\n",
    "input1"
   ]
  },
  {
   "cell_type": "code",
   "execution_count": 5,
   "metadata": {},
   "outputs": [
    {
     "data": {
      "text/plain": [
       "<selenium.webdriver.remote.webelement.WebElement (session=\"57f0edeef846193abf7be05d2279710d\", element=\"0.6955151220064795-1\")>"
      ]
     },
     "execution_count": 5,
     "metadata": {},
     "output_type": "execute_result"
    }
   ],
   "source": [
    "input2 = browser.find_element_by_css_selector('#q')\n",
    "input2"
   ]
  },
  {
   "cell_type": "code",
   "execution_count": 6,
   "metadata": {},
   "outputs": [
    {
     "data": {
      "text/plain": [
       "<selenium.webdriver.remote.webelement.WebElement (session=\"57f0edeef846193abf7be05d2279710d\", element=\"0.6955151220064795-1\")>"
      ]
     },
     "execution_count": 6,
     "metadata": {},
     "output_type": "execute_result"
    }
   ],
   "source": [
    "input3 = browser.find_element_by_xpath('//*[@id=\"q\"]')\n",
    "input3"
   ]
  },
  {
   "cell_type": "code",
   "execution_count": 7,
   "metadata": {},
   "outputs": [
    {
     "data": {
      "text/plain": [
       "True"
      ]
     },
     "execution_count": 7,
     "metadata": {},
     "output_type": "execute_result"
    }
   ],
   "source": [
    "input1 == input2 == input3"
   ]
  },
  {
   "cell_type": "code",
   "execution_count": 8,
   "metadata": {},
   "outputs": [
    {
     "data": {
      "text/plain": [
       "[<selenium.webdriver.remote.webelement.WebElement (session=\"57f0edeef846193abf7be05d2279710d\", element=\"0.6955151220064795-2\")>,\n",
       " <selenium.webdriver.remote.webelement.WebElement (session=\"57f0edeef846193abf7be05d2279710d\", element=\"0.6955151220064795-3\")>,\n",
       " <selenium.webdriver.remote.webelement.WebElement (session=\"57f0edeef846193abf7be05d2279710d\", element=\"0.6955151220064795-4\")>,\n",
       " <selenium.webdriver.remote.webelement.WebElement (session=\"57f0edeef846193abf7be05d2279710d\", element=\"0.6955151220064795-5\")>,\n",
       " <selenium.webdriver.remote.webelement.WebElement (session=\"57f0edeef846193abf7be05d2279710d\", element=\"0.6955151220064795-6\")>]"
      ]
     },
     "execution_count": 8,
     "metadata": {},
     "output_type": "execute_result"
    }
   ],
   "source": [
    "inputs = browser.find_elements_by_xpath('//li[@data-groupid]/a')\n",
    "inputs[:5]"
   ]
  },
  {
   "cell_type": "code",
   "execution_count": 9,
   "metadata": {},
   "outputs": [],
   "source": [
    "categories = {}\n",
    "for input in inputs:\n",
    "    categories[input.text] = input.get_attribute('href')"
   ]
  },
  {
   "cell_type": "code",
   "execution_count": 36,
   "metadata": {},
   "outputs": [],
   "source": [
    "browser.close()"
   ]
  },
  {
   "cell_type": "markdown",
   "metadata": {},
   "source": [
    "## 4.节点交互\n",
    "\n",
    "\n",
    ">输入文字-----send_keys()  \n",
    ">清空文字-----clear()  \n",
    ">点击按钮-----click()"
   ]
  },
  {
   "cell_type": "code",
   "execution_count": 17,
   "metadata": {},
   "outputs": [],
   "source": [
    "from selenium import webdriver\n",
    "import time\n",
    "\n",
    "browser = webdriver.Chrome()\n",
    "browser.get('https://www.taobao.com')\n",
    "search = browser.find_element_by_id('q')"
   ]
  },
  {
   "cell_type": "code",
   "execution_count": 31,
   "metadata": {},
   "outputs": [],
   "source": [
    "search.send_keys('XPS')"
   ]
  },
  {
   "cell_type": "code",
   "execution_count": 28,
   "metadata": {},
   "outputs": [],
   "source": [
    "from bs4 import BeautifulSoup\n",
    "\n",
    "soup = BeautifulSoup(browser.page_source, 'lxml')\n",
    "\n",
    "# pretty output of .html\n",
    "#soup.prettify()"
   ]
  },
  {
   "cell_type": "code",
   "execution_count": 32,
   "metadata": {},
   "outputs": [],
   "source": [
    "search.clear()"
   ]
  },
  {
   "cell_type": "code",
   "execution_count": 33,
   "metadata": {},
   "outputs": [],
   "source": [
    "search.send_keys('xps9570')"
   ]
  },
  {
   "cell_type": "code",
   "execution_count": 34,
   "metadata": {},
   "outputs": [
    {
     "data": {
      "text/plain": [
       "<selenium.webdriver.remote.webelement.WebElement (session=\"fd5bd24fdf3fe70e5b4aaaea4e464102\", element=\"0.8230566681512326-2\")>"
      ]
     },
     "execution_count": 34,
     "metadata": {},
     "output_type": "execute_result"
    }
   ],
   "source": [
    "button = browser.find_element_by_class_name('btn-search')\n",
    "button"
   ]
  },
  {
   "cell_type": "code",
   "execution_count": 35,
   "metadata": {},
   "outputs": [],
   "source": [
    "button.click()"
   ]
  },
  {
   "cell_type": "markdown",
   "metadata": {},
   "source": [
    "# 5.动作链\n",
    "如鼠标拖拽、键盘按键"
   ]
  },
  {
   "cell_type": "code",
   "execution_count": 4,
   "metadata": {},
   "outputs": [],
   "source": [
    "from selenium import webdriver\n",
    "from selenium.webdriver import ActionChains\n",
    "\n",
    "browser = webdriver.Chrome()\n",
    "url = 'http://www.runoob.com/try/try.php?filename=jqueryui-api-droppable'\n",
    "browser.get(url)"
   ]
  },
  {
   "cell_type": "code",
   "execution_count": 5,
   "metadata": {},
   "outputs": [],
   "source": [
    "# switch_to.frame() 切换至子页面\n",
    "browser.switch_to.frame('iframeResult')"
   ]
  },
  {
   "cell_type": "code",
   "execution_count": 8,
   "metadata": {},
   "outputs": [],
   "source": [
    "# 定义动作链\n",
    "source = browser.find_element_by_css_selector('#draggable')\n",
    "target = browser.find_element_by_css_selector('#droppable')\n",
    "action = ActionChains(browser)\n",
    "action.drag_and_drop(source, target)\n",
    "action.perform()"
   ]
  },
  {
   "cell_type": "markdown",
   "metadata": {},
   "source": [
    "## 6.执行JavaScript操作\n",
    "使用execute_script()实现"
   ]
  },
  {
   "cell_type": "code",
   "execution_count": 10,
   "metadata": {},
   "outputs": [],
   "source": [
    "from selenium import webdriver\n",
    "\n",
    "browser = webdriver.Chrome()\n",
    "browser.get('https://www.zhihu.com/explore')"
   ]
  },
  {
   "cell_type": "code",
   "execution_count": 12,
   "metadata": {},
   "outputs": [],
   "source": [
    "# 直接以js命令为参数\n",
    "browser.execute_script('window.scrollTo(0, document.body.scrollHeight)')"
   ]
  },
  {
   "cell_type": "code",
   "execution_count": 13,
   "metadata": {},
   "outputs": [],
   "source": [
    "browser.execute_script('alert(\"To Bottom\")')"
   ]
  },
  {
   "cell_type": "markdown",
   "metadata": {},
   "source": [
    "## 7.获取节点信息"
   ]
  },
  {
   "cell_type": "code",
   "execution_count": 24,
   "metadata": {},
   "outputs": [],
   "source": [
    "from selenium import webdriver\n",
    "\n",
    "browser = webdriver.Chrome()\n",
    "browser.get('https://www.zhihu.com/explore')"
   ]
  },
  {
   "cell_type": "code",
   "execution_count": 25,
   "metadata": {},
   "outputs": [
    {
     "name": "stdout",
     "output_type": "stream",
     "text": [
      "<selenium.webdriver.remote.webelement.WebElement (session=\"9bef687e0218cc8f647b3b1f1322bd91\", element=\"0.04655681683586477-1\")>\n",
      "zu-top-link-logo\n"
     ]
    }
   ],
   "source": [
    "logo = browser.find_element_by_id('zh-top-link-logo')\n",
    "print(logo)\n",
    "# get attribute\n",
    "print(logo.get_attribute('class'))"
   ]
  },
  {
   "cell_type": "code",
   "execution_count": 29,
   "metadata": {},
   "outputs": [
    {
     "name": "stdout",
     "output_type": "stream",
     "text": [
      "提问\n"
     ]
    }
   ],
   "source": [
    "search = browser.find_element_by_class_name('zu-top-add-question')\n",
    "print(search.text)"
   ]
  },
  {
   "cell_type": "code",
   "execution_count": 30,
   "metadata": {},
   "outputs": [],
   "source": [
    "# 获取id、位置、标签名和大小\n",
    "from selenium import webdriver\n",
    "\n",
    "browser = webdriver.Chrome()\n",
    "browser.get('https://www.zhihu.com/explore')"
   ]
  },
  {
   "cell_type": "code",
   "execution_count": 32,
   "metadata": {},
   "outputs": [
    {
     "name": "stdout",
     "output_type": "stream",
     "text": [
      "提问\n",
      "0.6786664655132228-1\n",
      "{'x': 675, 'y': 7}\n",
      "button\n",
      "{'height': 32, 'width': 66}\n"
     ]
    }
   ],
   "source": [
    "search = browser.find_element_by_class_name('zu-top-add-question')\n",
    "print(search.text)\n",
    "print(search.id)\n",
    "print(search.location)\n",
    "print(search.tag_name)\n",
    "print(search.size)"
   ]
  },
  {
   "cell_type": "markdown",
   "metadata": {},
   "source": [
    "## 8.切换frame\n",
    "switch_to.frame()"
   ]
  },
  {
   "cell_type": "markdown",
   "metadata": {},
   "source": [
    "## 9.延时等待\n",
    "> Selenium中，get()方法会在网页框架加载结束后结束执行，此时如果获取page_source，可能并不是浏览器完全加载完成的页面，如果某些页面有额外的Ajax请求，我们在网页源代码中也不一定能成功获取到。因此，这里需要延时等待一定时间。  \n",
    "\n",
    "\n",
    "> 两种方式：隐式等待，显式等待\n"
   ]
  },
  {
   "cell_type": "code",
   "execution_count": 33,
   "metadata": {},
   "outputs": [
    {
     "name": "stdout",
     "output_type": "stream",
     "text": [
      "<selenium.webdriver.remote.webelement.WebElement (session=\"f977a6c8b6332dd045cf3c8bd27b5373\", element=\"0.12768588237114376-1\")>\n"
     ]
    }
   ],
   "source": [
    "# 隐式等待\n",
    "# 如果Selenium没有在DOM中找到节点，将继续等待，超出设定时间后，则抛出找不到节点的异常\n",
    "# implicily_wait()实现隐式等待\n",
    "from selenium import webdriver\n",
    "\n",
    "browser = webdriver.Chrome()\n",
    "browser.implicitly_wait(10)\n",
    "browser.get('https://www.zhihu.com/explore')\n",
    "s = browser.find_element_by_class_name('zu-top-add-question')\n",
    "print(s)"
   ]
  },
  {
   "cell_type": "code",
   "execution_count": 2,
   "metadata": {},
   "outputs": [],
   "source": [
    "# 显式等待\n",
    "from selenium import webdriver\n",
    "from selenium.webdriver.common.by import By\n",
    "from selenium.webdriver.support.ui import WebDriverWait\n",
    "from selenium.webdriver.support import expected_conditions as EC\n",
    "\n",
    "browser = webdriver.Chrome()\n",
    "browser.get('https://www.taobao.com')"
   ]
  },
  {
   "cell_type": "code",
   "execution_count": 4,
   "metadata": {},
   "outputs": [
    {
     "name": "stdout",
     "output_type": "stream",
     "text": [
      "<selenium.webdriver.remote.webelement.WebElement (session=\"c97312494898cc91ee11d0cf4d71004d\", element=\"0.02294085628986431-1\")> \n",
      " <selenium.webdriver.remote.webelement.WebElement (session=\"c97312494898cc91ee11d0cf4d71004d\", element=\"0.02294085628986431-2\")>\n"
     ]
    }
   ],
   "source": [
    "# 显式等待指定要查找的节点，然后指定一个最长等待时间\n",
    "# WebDriverWait object\n",
    "wait = WebDriverWait(browser, 10)\n",
    "\n",
    "# 调用until()方法，传入等待条件 expected_conditions\n",
    "# presence_of_element_located ，代表节点出现\n",
    "# 在10秒内如果ID为q的节点成功加载，就返回该节点，否则抛出异常\n",
    "search = wait.until(EC.presence_of_element_located((By.ID, 'q')))\n",
    "\n",
    "# 等待条件，可点击\n",
    "button = wait.until(EC.element_to_be_clickable((By.CSS_SELECTOR, '.btn-search')))\n",
    "print(search, '\\n', button)"
   ]
  },
  {
   "cell_type": "markdown",
   "metadata": {},
   "source": [
    "## 10.前进和后退\n",
    "* forward()\n",
    "* back()"
   ]
  },
  {
   "cell_type": "markdown",
   "metadata": {},
   "source": [
    "## 11.Cookies\n"
   ]
  },
  {
   "cell_type": "code",
   "execution_count": 6,
   "metadata": {},
   "outputs": [
    {
     "name": "stdout",
     "output_type": "stream",
     "text": [
      "[{'domain': '.zhihu.com', 'httpOnly': False, 'name': 'l_n_c', 'path': '/', 'secure': False, 'value': '1'}, {'domain': 'www.zhihu.com', 'expiry': 1533106114.596111, 'httpOnly': False, 'name': 'tgw_l7_route', 'path': '/', 'secure': False, 'value': '9553ebf607071b8b9dd310a140c349c5'}, {'domain': '.zhihu.com', 'expiry': 1533107017, 'httpOnly': False, 'name': '__utmb', 'path': '/', 'secure': False, 'value': '51854390.0.10.1533105217'}, {'domain': '.zhihu.com', 'expiry': 1627713214.596153, 'httpOnly': False, 'name': 'q_c1', 'path': '/', 'secure': False, 'value': 'a4738c80650246539f829dc848905114|1533105216000|1533105216000'}, {'domain': 'www.zhihu.com', 'httpOnly': False, 'name': '_xsrf', 'path': '/', 'secure': False, 'value': '83cadca928a869433e526425b7533f8a'}, {'domain': '.zhihu.com', 'expiry': 1535697214.596181, 'httpOnly': False, 'name': 'r_cap_id', 'path': '/', 'secure': False, 'value': '\"ZWFlYmUwMDliMzI4NDVkYTgzOWZkYzZjNWUxMjJiZGY=|1533105216|e02d972503f28abf5cb154e50a822270c75ed399\"'}, {'domain': '.zhihu.com', 'expiry': 1535697214.596197, 'httpOnly': False, 'name': 'cap_id', 'path': '/', 'secure': False, 'value': '\"NWMyMDZmNjJiMDliNDg2YmExNzlmY2M0MDU3MjNjZTY=|1533105216|ceeecdbf7d7e68805a9f21bd2c529c6597677766\"'}, {'domain': '.zhihu.com', 'expiry': 1535697214.596215, 'httpOnly': False, 'name': 'l_cap_id', 'path': '/', 'secure': False, 'value': '\"MDkwYmExMDU2Zjg0NGMyNzg0ZTY1OTNkZjI4NDI5Yjc=|1533105216|e38a16ca532ab6d7a76ea82f2ab44f3a4ee7f063\"'}, {'domain': '.zhihu.com', 'httpOnly': False, 'name': 'n_c', 'path': '/', 'secure': False, 'value': '1'}, {'domain': '.zhihu.com', 'expiry': 1627713216.427744, 'httpOnly': False, 'name': 'd_c0', 'path': '/', 'secure': False, 'value': '\"APAkIfQf_Q2PTtJNkVIfDqiUvMpdS5-ePrQ=|1533105218\"'}, {'domain': '.zhihu.com', 'expiry': 1596177217, 'httpOnly': False, 'name': '_zap', 'path': '/', 'secure': False, 'value': 'bdde69fb-98dd-4923-96b7-54d1477e1d4d'}, {'domain': '.zhihu.com', 'expiry': 1596177217, 'httpOnly': False, 'name': '__utma', 'path': '/', 'secure': False, 'value': '51854390.1632726806.1533105217.1533105217.1533105217.1'}, {'domain': '.zhihu.com', 'httpOnly': False, 'name': '__utmc', 'path': '/', 'secure': False, 'value': '51854390'}, {'domain': '.zhihu.com', 'expiry': 1548873217, 'httpOnly': False, 'name': '__utmz', 'path': '/', 'secure': False, 'value': '51854390.1533105217.1.1.utmcsr=(direct)|utmccn=(direct)|utmcmd=(none)'}, {'domain': '.zhihu.com', 'expiry': 1596177217, 'httpOnly': False, 'name': '__utmv', 'path': '/', 'secure': False, 'value': '51854390.000--|3=entry_date=20180801=1'}]\n",
      "[{'domain': '.zhihu.com', 'httpOnly': False, 'name': 'l_n_c', 'path': '/', 'secure': False, 'value': '1'}, {'domain': 'www.zhihu.com', 'expiry': 1533106114.596111, 'httpOnly': False, 'name': 'tgw_l7_route', 'path': '/', 'secure': False, 'value': '9553ebf607071b8b9dd310a140c349c5'}, {'domain': '.zhihu.com', 'expiry': 1533107017, 'httpOnly': False, 'name': '__utmb', 'path': '/', 'secure': False, 'value': '51854390.0.10.1533105217'}, {'domain': '.zhihu.com', 'expiry': 1627713214.596153, 'httpOnly': False, 'name': 'q_c1', 'path': '/', 'secure': False, 'value': 'a4738c80650246539f829dc848905114|1533105216000|1533105216000'}, {'domain': 'www.zhihu.com', 'httpOnly': False, 'name': '_xsrf', 'path': '/', 'secure': False, 'value': '83cadca928a869433e526425b7533f8a'}, {'domain': '.zhihu.com', 'expiry': 1535697214.596181, 'httpOnly': False, 'name': 'r_cap_id', 'path': '/', 'secure': False, 'value': '\"ZWFlYmUwMDliMzI4NDVkYTgzOWZkYzZjNWUxMjJiZGY=|1533105216|e02d972503f28abf5cb154e50a822270c75ed399\"'}, {'domain': '.zhihu.com', 'expiry': 1535697214.596197, 'httpOnly': False, 'name': 'cap_id', 'path': '/', 'secure': False, 'value': '\"NWMyMDZmNjJiMDliNDg2YmExNzlmY2M0MDU3MjNjZTY=|1533105216|ceeecdbf7d7e68805a9f21bd2c529c6597677766\"'}, {'domain': '.zhihu.com', 'expiry': 1535697214.596215, 'httpOnly': False, 'name': 'l_cap_id', 'path': '/', 'secure': False, 'value': '\"MDkwYmExMDU2Zjg0NGMyNzg0ZTY1OTNkZjI4NDI5Yjc=|1533105216|e38a16ca532ab6d7a76ea82f2ab44f3a4ee7f063\"'}, {'domain': '.zhihu.com', 'httpOnly': False, 'name': 'n_c', 'path': '/', 'secure': False, 'value': '1'}, {'domain': '.zhihu.com', 'expiry': 1627713216.427744, 'httpOnly': False, 'name': 'd_c0', 'path': '/', 'secure': False, 'value': '\"APAkIfQf_Q2PTtJNkVIfDqiUvMpdS5-ePrQ=|1533105218\"'}, {'domain': '.zhihu.com', 'expiry': 1596177217, 'httpOnly': False, 'name': '_zap', 'path': '/', 'secure': False, 'value': 'bdde69fb-98dd-4923-96b7-54d1477e1d4d'}, {'domain': '.zhihu.com', 'expiry': 1596177217, 'httpOnly': False, 'name': '__utma', 'path': '/', 'secure': False, 'value': '51854390.1632726806.1533105217.1533105217.1533105217.1'}, {'domain': '.zhihu.com', 'httpOnly': False, 'name': '__utmc', 'path': '/', 'secure': False, 'value': '51854390'}, {'domain': '.zhihu.com', 'expiry': 1548873217, 'httpOnly': False, 'name': '__utmz', 'path': '/', 'secure': False, 'value': '51854390.1533105217.1.1.utmcsr=(direct)|utmccn=(direct)|utmcmd=(none)'}, {'domain': '.zhihu.com', 'expiry': 1596177217, 'httpOnly': False, 'name': '__utmv', 'path': '/', 'secure': False, 'value': '51854390.000--|3=entry_date=20180801=1'}, {'domain': 'www.zhihu.com', 'expiry': 2163825217, 'httpOnly': False, 'name': 'name', 'path': '/', 'secure': True, 'value': 'germey'}]\n",
      "[]\n"
     ]
    },
    {
     "data": {
      "text/plain": [
       "<bound method WebDriver.execute of <selenium.webdriver.chrome.webdriver.WebDriver (session=\"d4453b6f505fcb91fc845a31046ce878\")>>"
      ]
     },
     "execution_count": 6,
     "metadata": {},
     "output_type": "execute_result"
    }
   ],
   "source": [
    "from selenium import webdriver\n",
    "\n",
    "browser = webdriver.Chrome()\n",
    "browser.get('https://www.zhihu.com/explore')\n",
    "print(browser.get_cookies())\n",
    "\n",
    "browser.add_cookie({'name': 'name',\n",
    "                   'domain': 'www.zhihu.com',\n",
    "                   'value': 'germey'})\n",
    "print(browser.get_cookies())\n",
    "browser.delete_all_cookies()\n",
    "print(browser.get_cookies())\n",
    "browser.execute"
   ]
  },
  {
   "cell_type": "markdown",
   "metadata": {},
   "source": [
    "## 12.选项卡管理"
   ]
  },
  {
   "cell_type": "code",
   "execution_count": 8,
   "metadata": {},
   "outputs": [],
   "source": [
    "import time\n",
    "from selenium import webdriver\n",
    "\n",
    "browser = webdriver.Chrome()\n",
    "browser.get('https://www.baidu.com')"
   ]
  },
  {
   "cell_type": "code",
   "execution_count": 9,
   "metadata": {},
   "outputs": [
    {
     "name": "stdout",
     "output_type": "stream",
     "text": [
      "['CDwindow-D1A39CCC0D04D200E14E4F6178900A7B']\n",
      "['CDwindow-D1A39CCC0D04D200E14E4F6178900A7B', 'CDwindow-3EC6C0C9AF1EFEB4B7034B38457825AE']\n"
     ]
    }
   ],
   "source": [
    "# window.open() 新开启一个选项卡\n",
    "# .window_handles 展示所有的选项卡\n",
    "print(browser.window_handles)\n",
    "browser.execute_script('window.open()')\n",
    "print(browser.window_handles)"
   ]
  },
  {
   "cell_type": "code",
   "execution_count": 10,
   "metadata": {},
   "outputs": [],
   "source": [
    "# switch_to_window() 切换选项卡\n",
    "browser.switch_to_window(browser.window_handles[1])\n",
    "browser.get('https://www.youtube.com')"
   ]
  },
  {
   "cell_type": "code",
   "execution_count": 12,
   "metadata": {},
   "outputs": [],
   "source": [
    "browser.switch_to_window(browser.window_handles[0])\n",
    "browser.get('https://python.org')"
   ]
  },
  {
   "cell_type": "markdown",
   "metadata": {},
   "source": [
    "# Splash 使用"
   ]
  },
  {
   "cell_type": "code",
   "execution_count": null,
   "metadata": {},
   "outputs": [],
   "source": []
  }
 ],
 "metadata": {
  "kernelspec": {
   "display_name": "Python 3",
   "language": "python",
   "name": "python3"
  },
  "language_info": {
   "codemirror_mode": {
    "name": "ipython",
    "version": 3
   },
   "file_extension": ".py",
   "mimetype": "text/x-python",
   "name": "python",
   "nbconvert_exporter": "python",
   "pygments_lexer": "ipython3",
   "version": "3.6.5"
  }
 },
 "nbformat": 4,
 "nbformat_minor": 2
}
